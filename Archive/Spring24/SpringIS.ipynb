{
 "cells": [
  {
   "cell_type": "markdown",
   "id": "fb8a245c",
   "metadata": {},
   "source": [
    "* In the spring I'd like to build on what I've learned about \"good\" research and continue in the realm of things that I enjoy studying in STEM education\n",
    "* We note that chem and physics have a long history of teaching students really well, these concepts that are difficult to learn\n",
    "    * chem only links to the <a href=\"https://www.colorado.edu/center/teaching-learning\">CTL</a>\n",
    "    * but physics has a <a href=\"https://www.colorado.edu/physics/research/physics-education-research\">Physics Education Research</a> domain\n",
    "        * links to <a href=\"https://www.colorado.edu/program/learningassistant/\">learning assistant (LA) program</a>, <a href=\"https://www.colorado.edu/csl/\">Center for STEM learning (CSL)</a>, and many more\n",
    "            * CSL would be a good funding source for my original plans with CSEL Sips\n",
    "            * <a href=\"https://www.colorado.edu/csl/programs/dber-discipline-based-education-research\">Discipline Based Education Research (DBER)</a> would be good for me to plug into.\n",
    "                * michael.klymkowsky@colorado.edu\n",
    "                * valerie.otero@colorado.edu\n",
    "                * it's died out... pretty sure Jessica pointed me to this as well\n",
    "            * CSL in general looks like it hasn't been updated since covid (with limited exception, they have some news but no events)\n",
    "* we even have faculty that dedicate themselves to teaching these topics\n",
    "* what lessons learned from these disciplines could be applied to computer science\n",
    "* can it be done quickly or would it require a long history and culture change from both the structure of the courses in sequence of degree as well as in how the teachers adapt to new methods in education?\n",
    "    * likely takes time, but what are those low hanging fruit? could that be taken without jepordizing the long term solutions?\n",
    "* great questions, but what is my research here?\n",
    "* can I write sample content and get it reviewed?\n",
    "* can I write stories and practice problems for review?\n",
    "* I want to work in the practical domain here...\n",
    "* My brain is tired. I should think about this more before publishing"
   ]
  }
 ],
 "metadata": {
  "kernelspec": {
   "display_name": "Scala",
   "language": "scala",
   "name": "scala"
  },
  "language_info": {
   "codemirror_mode": "text/x-scala",
   "file_extension": ".sc",
   "mimetype": "text/x-scala",
   "name": "scala",
   "nbconvert_exporter": "script",
   "version": "2.13.10"
  }
 },
 "nbformat": 4,
 "nbformat_minor": 5
}
