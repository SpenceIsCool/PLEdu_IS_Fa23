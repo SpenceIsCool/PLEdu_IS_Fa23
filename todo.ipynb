{
 "cells": [
  {
   "cell_type": "markdown",
   "id": "bff7261b",
   "metadata": {},
   "source": [
    "# Priority\n",
    "- reference papers in: https://www.aft.org/ae/fall2021/shepard\n",
    "- could the video tool CoBi review the student peer interviews for us?!\n",
    "- What kind of \"interview\" is this? structured? semi-structured?\n",
    "- follow up on education faculty contacts..."
   ]
  },
  {
   "cell_type": "markdown",
   "id": "b2469b0e",
   "metadata": {},
   "source": [
    "# tracking but likely wont get to"
   ]
  }
 ],
 "metadata": {
  "kernelspec": {
   "display_name": "Scala",
   "language": "scala",
   "name": "scala"
  },
  "language_info": {
   "codemirror_mode": "text/x-scala",
   "file_extension": ".sc",
   "mimetype": "text/x-scala",
   "name": "scala",
   "nbconvert_exporter": "script",
   "version": "2.13.10"
  }
 },
 "nbformat": 4,
 "nbformat_minor": 5
}
