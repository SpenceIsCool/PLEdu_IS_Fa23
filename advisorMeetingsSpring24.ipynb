{
 "cells": [
  {
   "cell_type": "markdown",
   "id": "708ad03f-0368-4275-a8cd-6cb2a7e9123f",
   "metadata": {},
   "source": [
    "# Feb 6, 2024\n",
    "* consistent meeting time?\n",
    "* discuss the IRB timeline and implications\n",
    "* discuss the current questions for students"
   ]
  },
  {
   "cell_type": "markdown",
   "id": "b55a3fa1-1391-4c89-8d51-bef1978f839d",
   "metadata": {},
   "source": [
    "# Jan 17, 2024\n",
    "* On discussion about the role of deeper review of peer institutions PPL parity course:\n",
    "    * I have explored 3155 at CU and a high level review of peer institutions. I've centered in that the interview grading is one controllable aspect that can be improved and is worth exploring. I have done research on that and I am going deeper with that. My job now is to keep going deeper on that and the thing about looking at all theses peer institutions is a distraction.\n",
    "    * We want to be able to grade an advanced technical course in a scale-able but \"great\" way. How do you foster a growth mindset for students while being a reasonable time commitment for your staff (given the modern constraints at public universities)? We want to give students something more than a modern Coursera experience, but we also don't have the resources to white glove education at 1 professor to 20 students.\n",
    "    * Something about separating formative and summative assessments for students?\n",
    "    * We agree that the course design is good, but its not necessarily comfortable for students.\n",
    "    * Note also that as the course gets more advanced, it becomes more challenging to hire qualified course staff\n",
    "* On further studies\n",
    "    * PhD is licensing for applying for grant funding completed through the apprenticeship process\n",
    "    * MS is that step away from consuming knowledge to taste what it means to create knowledge.\n",
    "* I can explore what paper could be submit-able toward the end of the term. This would give some academic currency to the project.\n",
    "    * while not a requirement of the project, this is something that I would like to explore further  as it will help me be more confident in our meetings and \"using\" the time of other researchers. Perhaps, that's something I need to get used to though without the submit-ability of the work.\n",
    "* On the value of midterm and final presentation\n",
    "    * There are different ways to communicate knowledge and find what works well for you - the researcher - to distill the information for yourself. The paper lasts longer and is more asynchronous in nature, but its less accessible in many ways when compared to the presentation (as it has no built in mechanism of Q&A/feedback). You could think of the presentation as that thing you are continuously evolving. There is always a complete version of the presentation. Think of it like a journal but in picture form. Occasionally Evan will do the presentation first.\n",
    "    * NOTE: In writing you can't hide! Writing forces deeper thought for you as the creator and can help you create better work. But slide deck shows marketing to get viewers to go read the paper.\n",
    "    * The A+ is presenting and getting someone other than Evan actually want to read the paper.\n"
   ]
  }
 ],
 "metadata": {
  "kernelspec": {
   "display_name": "Python 3 (ipykernel)",
   "language": "python",
   "name": "python3"
  },
  "language_info": {
   "codemirror_mode": {
    "name": "ipython",
    "version": 3
   },
   "file_extension": ".py",
   "mimetype": "text/x-python",
   "name": "python",
   "nbconvert_exporter": "python",
   "pygments_lexer": "ipython3",
   "version": "3.12.1"
  }
 },
 "nbformat": 4,
 "nbformat_minor": 5
}
