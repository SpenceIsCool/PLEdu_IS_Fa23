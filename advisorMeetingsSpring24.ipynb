{
 "cells": [
  {
   "cell_type": "markdown",
   "id": "853984c6-5f6a-47d1-839d-ac579c84acce",
   "metadata": {},
   "source": []
  },
  {
   "cell_type": "markdown",
   "id": "708ad03f-0368-4275-a8cd-6cb2a7e9123f",
   "metadata": {},
   "source": [
    "# Feb 16, 2024\n",
    "* consistent meeting time?\n",
    "* discuss the IRB timeline and implications\n",
    "* discuss the current questions for students\n",
    "* discussions\n",
    "* maybe more about peers and how you have a challenge\n",
    "* the questions are a good starting place for me to understand the context. more fixed parts\n",
    "* some fixed variables fo Fall 2022. so asking them about generic peer experieneces causes more problems\n",
    "* can't ask them about the peer interview grading outright.\n",
    "* don't ask them event the positive negative part....\n",
    "* start:\n",
    "* hey tell me about your personal expereience\n",
    "* then close with. hery, here is the goal... what are your ideas for that.\n",
    "* help me to hone in on the goal statement.\n",
    "    * something in between the we want value at scale\n",
    "    * and i don't really want to pre-suppose the peer interview thing....\n",
    "    * organize an interaction with others to help you get deeper. build social connections. and help you to identify where you are in your learning journey\n",
    "    * do i hear some things about the context of growing class sizes. to mention that to the participants....\n",
    "* interviews at scale. working with someone that has more knowledge. at a min working with another student athat has the solutions should give you something! and if that's a grad student athat's great too.\n",
    "* like if a student had the question and step by step solutions would be valuable to\n",
    "* goal ideation\n",
    "    * interviews are effective\n",
    "    * scale is hard\n",
    "    * \"i intentionally put all of the learning materials online for free\" but if you hvave that access, then what are you paying ofor.\n",
    "    * you get the staff\n",
    "    * you get your peers and having the space to bond even through the stress.\n",
    "    * can we get 80% of the value of interviews with a TA (BUT rather the value that students are paying) but the measurement is agains ttstudents with coursera and access to the videos.\n",
    "    * the videos are useful but theyre cheaper for a reason.\n",
    "* Fa22: made a decision that 100^ of the hours were on the recitaiton and interview grading. the taleness of the code and getting that updates as on "
   ]
  },
  {
   "cell_type": "markdown",
   "id": "b55a3fa1-1391-4c89-8d51-bef1978f839d",
   "metadata": {},
   "source": [
    "# Jan 17, 2024\n",
    "* On discussion about the role of deeper review of peer institutions PPL parity course:\n",
    "    * I have explored 3155 at CU and a high level review of peer institutions. I've centered in that the interview grading is one controllable aspect that can be improved and is worth exploring. I have done research on that and I am going deeper with that. My job now is to keep going deeper on that and the thing about looking at all theses peer institutions is a distraction.\n",
    "    * We want to be able to grade an advanced technical course in a scale-able but \"great\" way. How do you foster a growth mindset for students while being a reasonable time commitment for your staff (given the modern constraints at public universities)? We want to give students something more than a modern Coursera experience, but we also don't have the resources to white glove education at 1 professor to 20 students.\n",
    "    * Something about separating formative and summative assessments for students?\n",
    "    * We agree that the course design is good, but its not necessarily comfortable for students.\n",
    "    * Note also that as the course gets more advanced, it becomes more challenging to hire qualified course staff\n",
    "* On further studies\n",
    "    * PhD is licensing for applying for grant funding completed through the apprenticeship process\n",
    "    * MS is that step away from consuming knowledge to taste what it means to create knowledge.\n",
    "* I can explore what paper could be submit-able toward the end of the term. This would give some academic currency to the project.\n",
    "    * while not a requirement of the project, this is something that I would like to explore further  as it will help me be more confident in our meetings and \"using\" the time of other researchers. Perhaps, that's something I need to get used to though without the submit-ability of the work.\n",
    "* On the value of midterm and final presentation\n",
    "    * There are different ways to communicate knowledge and find what works well for you - the researcher - to distill the information for yourself. The paper lasts longer and is more asynchronous in nature, but its less accessible in many ways when compared to the presentation (as it has no built in mechanism of Q&A/feedback). You could think of the presentation as that thing you are continuously evolving. There is always a complete version of the presentation. Think of it like a journal but in picture form. Occasionally Evan will do the presentation first.\n",
    "    * NOTE: In writing you can't hide! Writing forces deeper thought for you as the creator and can help you create better work. But slide deck shows marketing to get viewers to go read the paper.\n",
    "    * The A+ is presenting and getting someone other than Evan actually want to read the paper.\n"
   ]
  }
 ],
 "metadata": {
  "kernelspec": {
   "display_name": "Python 3 (ipykernel)",
   "language": "python",
   "name": "python3"
  },
  "language_info": {
   "codemirror_mode": {
    "name": "ipython",
    "version": 3
   },
   "file_extension": ".py",
   "mimetype": "text/x-python",
   "name": "python",
   "nbconvert_exporter": "python",
   "pygments_lexer": "ipython3",
   "version": "3.12.1"
  }
 },
 "nbformat": 4,
 "nbformat_minor": 5
}
