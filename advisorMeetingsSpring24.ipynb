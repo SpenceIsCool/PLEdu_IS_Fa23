{
 "cells": [
  {
   "cell_type": "markdown",
   "id": "853984c6-5f6a-47d1-839d-ac579c84acce",
   "metadata": {},
   "source": [
    "# Feb 23, 2024\n",
    "* PLAN\n",
    "    * Questions about academic dishonesty and my ability to freely collect anonymous information and keep it confidential (so long as it does not interfere with my mandatory reporting requirement).\n",
    "    * Questions about the midterm deadline and the option for an extension. I'm always impressed by my ability to work on a tight deadline, but I think week 9 is going to produce something much better than I am currently ready to write or present on. I would then need some kind of interim submission on week 7 and 8 to hold me accountable to not blowing it off further.\n",
    "* Academic dishonesty\n",
    "* Consider the student \"I'm so far behind and I panicked and made a poor choices\". how do we support that student.\n",
    "    * talk about this more at a later date\n",
    "* have to focus on CICD. always have a shipable paper. should have the shipable paper from last semester. progress on the evaluation section. and then the other parts will fall behind. then we keep the rest in sink where we can. Each week we push on some part of the paper.\n",
    "    * no one section should be more than 2 steps ahead\n",
    "    * the goal can be seeing that some section is imbalanced and to catch up section.\n",
    "    * could be that everything is synced but we have more data or need more data to advance the things.\n",
    "    * motive the topic better.\n",
    "* each week review a demo of the sprint.\n",
    "* midterm report is a full sync of the report.\n",
    "* the work is never finished and the science can always be expanded.\n",
    "* each week we have the overleaf and look at section X.\n",
    "* next week would be evaluations\n",
    "* then present in week 8\n",
    "* time and emotional energy for the abstract is hard. it's easy to put off.\n",
    "    * easier to prioritize urgent over important.\n",
    "    * stepping back and making objects is worth exploring. what is the goal for the week/month.\n",
    "* Christian may be good to catch up with to see how he does this well. they've been talking about how to catch up.  helps him to maybe see research concreetly."
   ]
  },
  {
   "cell_type": "markdown",
   "id": "708ad03f-0368-4275-a8cd-6cb2a7e9123f",
   "metadata": {},
   "source": [
    "# Feb 16, 2024\n",
    "* plan\n",
    "    * consistent meeting time?\n",
    "    * discuss the IRB timeline and implications\n",
    "    * discuss the current questions for students\n",
    "* discussions::\n",
    "* maybe the focus is more on challenges of engaging with peers?\n",
    "* the interview questions that I've made should be a good starting place for me to understand the context of what students experienced and what they have learned. Note that I'll need to document the fixed parts of the experiment. These are all students that took CSCI 3155 in Fall 2022 (post covid but still new to having in person classes). With all of these parts fixed, it is best to keep the questions focused on what students learned for CSCI 3155 and less about generic other experiences.\n",
    "    * REFLECTING: Reviewing a week later, I personally still think it's valuable to hear about the other experiences that these students have had. But I understand how it could be a misuse of the research time. To know what makes a good course good or a bad course bad has already been written about and can be read about. But to know what students in Fall 2022 CSCI 3155 at CU Boulder experienced is not yet known and is not yet documented. So I could focus my learning on these students experiences. Having said that, I think there is some important balance to strike. In asking students about their past experiences and other courses, I am slowly learning more about the student context of taking courses at CU post CoVid shutdowns and I don't know that this is well comuented and reported on yet.\n",
    "* I can't ask them about the peer interview grading outright.\n",
    "* I can make the questions less leading by removing the sections on positive/negative.\n",
    "    * done and documented in reflections about how it is done and what impact this has on the formality of my study.\n",
    "* example\n",
    "    * start: hey, tell me about your personal experience\n",
    "    * then close with. Hey, here is the goal for my research... what are your ideas for that?\n",
    "    * REFLECTING: In review of this note I was a bit confused on what I meant. I need to make time to better document my one on ones timely to the meeting rather than doing it several days later. I found the same to be true for the research participant interviews.\n",
    "* I need to hone in on the goal statement for this semester. It's something in between the we want value at scale, and we don't really want to pre-suppose the peer interview grading is the solution to this problem. However, we can explore it as one possible solution to the problem when placed in the rest of the course ecosystem. We want to organize peer to peer student interactions which help the students individually grow a deeper understanding of the material while building social connections (which are shown to help with learning). We want to help the students identify where they are in their own learning journey (?relative to their own learning goals?).\n",
    "* REFLECTION: unsure if I should really expose the growing class size numbers to the research participants, but I don't think I would regret begin transparent about this.\n",
    "* Interviews at scale is hard. Working with someone that has more knowledge (TA or more advanced student) should give value. But the ideas is that at some minimum, working with another student that has the solutions in front of them should give you something!\n",
    "    * consider that sometimes that's a grad student who doesn't actually know the content but they have solutions in front of them\n",
    "    * REFLECTION: consider that sometimes the students behave unethically and they already did just this. memorize the questions and the answer and learn something from this. Although this then begs the question, if student do it for a grade, and it's not graded or graded only on completion and not correctness, then would they bother doing it? Is there more value in students crowdsourcing questions and answers to parrot to a TA vs them being dishonnest about doing a peer interview grading event to the standard recommeneded by the staff?\n",
    "    * If a student never met with their lab partner and they had access to step by step solutions for the lab, the interview questions, and how to answer them, would be valuable for the student?\n",
    "        * QUESTION: at that point, why would they pay CU? All of those solutions and these supposed questions would become publicly available - I assume.\n",
    "* goal ideation\n",
    "    * interviews are effective\n",
    "    * scale is hard\n",
    "    * \"i intentionally put all of the learning materials online for free\" but if you have that access, then what are you paying us for.\n",
    "    * you get the staff\n",
    "    * you get your peers and having the space to bond even through the stress.\n",
    "    * can we get 80% of the value of interviews with a TA (BUT rather the value that students are paying) but the measurement is against students with coursera and access to the videos.\n",
    "    * the videos are useful but they're cheaper for a reason.\n",
    "* Fa22: made a decision that 100+ of the hours were on the recitation and interview grading. The staleness of the code and getting the code updated took some time up front, but that should not be as big of an issue in the future."
   ]
  },
  {
   "cell_type": "markdown",
   "id": "b55a3fa1-1391-4c89-8d51-bef1978f839d",
   "metadata": {},
   "source": [
    "# Jan 17, 2024\n",
    "* On discussion about the role of deeper review of peer institutions PPL parity course:\n",
    "    * I have explored 3155 at CU and a high level review of peer institutions. I've centered in that the interview grading is one controllable aspect that can be improved and is worth exploring. I have done research on that and I am going deeper with that. My job now is to keep going deeper on that and the thing about looking at all theses peer institutions is a distraction.\n",
    "    * We want to be able to grade an advanced technical course in a scale-able but \"great\" way. How do you foster a growth mindset for students while being a reasonable time commitment for your staff (given the modern constraints at public universities)? We want to give students something more than a modern Coursera experience, but we also don't have the resources to white glove education at 1 professor to 20 students.\n",
    "    * Something about separating formative and summative assessments for students?\n",
    "    * We agree that the course design is good, but its not necessarily comfortable for students.\n",
    "    * Note also that as the course gets more advanced, it becomes more challenging to hire qualified course staff\n",
    "* On further studies\n",
    "    * PhD is licensing for applying for grant funding completed through the apprenticeship process\n",
    "    * MS is that step away from consuming knowledge to taste what it means to create knowledge.\n",
    "* I can explore what paper could be submit-able toward the end of the term. This would give some academic currency to the project.\n",
    "    * while not a requirement of the project, this is something that I would like to explore further  as it will help me be more confident in our meetings and \"using\" the time of other researchers. Perhaps, that's something I need to get used to though without the submit-ability of the work.\n",
    "* On the value of midterm and final presentation\n",
    "    * There are different ways to communicate knowledge and find what works well for you - the researcher - to distill the information for yourself. The paper lasts longer and is more asynchronous in nature, but its less accessible in many ways when compared to the presentation (as it has no built in mechanism of Q&A/feedback). You could think of the presentation as that thing you are continuously evolving. There is always a complete version of the presentation. Think of it like a journal but in picture form. Occasionally Evan will do the presentation first.\n",
    "    * NOTE: In writing you can't hide! Writing forces deeper thought for you as the creator and can help you create better work. But slide deck shows marketing to get viewers to go read the paper.\n",
    "    * The A+ is presenting and getting someone other than Evan actually want to read the paper.\n"
   ]
  }
 ],
 "metadata": {
  "kernelspec": {
   "display_name": "Python 3 (ipykernel)",
   "language": "python",
   "name": "python3"
  },
  "language_info": {
   "codemirror_mode": {
    "name": "ipython",
    "version": 3
   },
   "file_extension": ".py",
   "mimetype": "text/x-python",
   "name": "python",
   "nbconvert_exporter": "python",
   "pygments_lexer": "ipython3",
   "version": "3.12.1"
  }
 },
 "nbformat": 4,
 "nbformat_minor": 5
}
