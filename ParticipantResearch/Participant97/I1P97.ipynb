{
 "cells": [
  {
   "cell_type": "markdown",
   "id": "49cfa632-af05-4981-84c5-c70381e16f34",
   "metadata": {},
   "source": [
    "# Data\n",
    "1. consent\n",
    "    1. took about 7 minutes\n",
    "    2. participant had pre-read the document.\n",
    "    3. cuboulder email address is acceptable for data review process\n",
    "2. interview\n",
    "    1. Q1: As a student in 3155, what was your experience working with a \"lab partner\" on your labs? Please elaborate.\n",
    "        1. The participant reports that they would commonly work with many people on each lab but officially submit the lab with one person. The participant had an active social network of peers that were taking the course and often found it helpful to work with more than one person as the lab partner was not always sufficient for working through the lab. They would often try to attend office hours with their lab partner. Where the course staff could not answer questions, they found that other peers could answer questions.\n",
    "        2. The participant remarks that the random nature of pairing came with a full range of partners. One partner would have completed the lab before they met as a team and then attempt to explain the solution, one partner would be behind the participants own understanding and need a lot of support, one partner would be at a similar level of understanding as the participant and so the students would struggle together.\n",
    "        3. In addition to the variance in ability of each lab partner, the level of collaboration would change based on the partners willingness and availability to attend office hours for the course.\n",
    "    2. Q2: As a student in 3155, you had interview grading with a member of the course staff. What was your typical process to prepare for this interview? Did it evolve over the course of the semester?\n",
    "        1. The participant notes that they would look at the code for each lab and try to understand what it was doing. They would do this mostly independently and occasionally by attending office hours. \n",
    "        2. QUOTATION: \"coding was not the same as understanding it\".\n",
    "        3. This was particularly true for 3155 as they were learning Scala while solving problems in Scala. They were constantly being exposed to different ways of approaching the problem in code and found this confusing as new syntax options were constantly being introduced. They describe this in contrast to using python for other courses. They are very confident with the syntax options in python and find it easier to approach tasks using that programming language.\n",
    "        5. They note that Computer Systems and Intro to Artificial Intelligence also had interview grading\n",
    "        6. QUOTATION: \"[I was just learning Scala, and so I was not always sure what I was doing.]\"\n",
    "        7. QUOTATION: \"My project partner wrote something and I'd say, I don't know what this does.\" so then the participant would take the time to understand what that code does. They would prioritize having their project partner explain the code, but if they were not available, then the participant would try to understand it on their own.\n",
    "    3. Q3: As a student in 3155, what was your experience working with a \"grader\" for your interviews at the end of the lab? Please elaborate.\n",
    "        1. The participant notes that the grading interviews were mostly fine.\n",
    "        2. They go on to discuss how many of their peers might choose a specific interviewer based on the reputation of the interviewer, but this participant did not take that approach. They describe that they either knew the material, or they didn't. They didn't feel like the individual interviewer would make a difference in this matter.\n",
    "        3. QUOTATION: \"Some people were know for grading more or less leniently\".\n",
    "        4. The participant notes that the interview questions would regularly get shared among students in the course. They would on occasion ask their peers how the interview was if they knew that the peer took the interview early. They themselves would also freely share the interview questions with others if asked. In particular, they would do this if they thought that some question was a \"wildcard\" as this came with various emotions/frustrations for  the students. \n",
    "        5. QUOTATION: \" I definitely told other people what was on my interview.\"\n",
    "        6. QUOTATION: \"[We would share the questions] especially if it felt like a wildcard to students.\"\n",
    "    4. Q4: What impact, if any, did the interviews have on your confidence to succeed in the course?\n",
    "        1. The participant quickly states that they felt more impacted by the exams than by the interviews. The interviews feel standard for courses like this (computer science courses do these often).\n",
    "        2. QUOTATION: \"I had to read the code and understand it without the interviews I wouldn't have done [the code review].\" and implied that they likely would not have learned as much about the course material.\n",
    "        3. The exams had a negative impact on the participant's confidence.\n",
    "        4. The interviews felt like part of the course, that took time and had a neutral impact on the participant's confidence.\n",
    "    5. Q5: Do you have experience with interview grading in other courses? If so, how did those experiences compare to your experience in 3155?\n",
    "        1. The participant notes that 3155 may have been unique in asking students theory questions during grading interviews rather than only questions about their own code. Other courses just \"confirm that you wrote and understand the code that you submitted.\"\n",
    "        2. The participant notes that computer system was challenging for them and in the interview they needed to be able to understand the code which they wrote line by line.\n",
    "        3. Introduction to Artificial Intelligence did not have theoretical questions on it's interviews but instead was only on code which they heard about through the staff and their peers in the course (hearing second hand and not as a student enrolled in the course).\n",
    "    6. Q6: What would you describe as your learning goal for 3155?\n",
    "        1. The participant struggles to answer this as they describe that they did not take this course with a specific goal. Their goal was to take the course to meet the prerequisite of other life goals such as graduation and other courses. Going so far as to say that if they did not need to complete the course that Fall, then they would have dropped the course to take it the following spring.\n",
    "            1. QUOTATION: \" I wanted to take the class so that I could graduate.\"\n",
    "        2. In general the student aims to get an A in courses that they take. They clarify, that for them, the grade of A is typically only achievable by understanding the material of the course.\n",
    "            3. QUOTATION: \" In most classes if you're scoring well, then you understand the material.\"\n",
    "        3. The participant reflected on past grades in courses and explains that their lowest grades have consistently been in courses where they did not understand the material. However, for them, their grade in this course does not align with their level of understanding.\n",
    "            1. QUOTATION: \"PPL was curved a lot. I did not understand an [X] amount of material.\" they stated while describing that their earned grade in the course seemed higher than they believed they really achieved in learning through the course. They go on to explain that the course grade felt more relative to their peers rather than objective to some learning goals for the course.\n",
    "    7. Q7: What would you describe as your ability to achieve that learning goal?\n",
    "        1. The participant stated that they were \"very successful\" in meeting their unspecific goal to pass the course with an A. While they did not achieve a 4.0, they felt that they got close enough.\n",
    "        2. QUOTATION: \"I didn't destroy my GPA.\" \n",
    "    8. Q8: What impact, if any, did interview grading have on your relation to that learning goal?\n",
    "       1. QUOTATION: \"I didn't have a goal about anything I wanted to understand with respect to this course.\"\n",
    "       2. The interviews helped this participant to understand the theory in the course. They became strong in the theory for the course as they had a close friend with good code for the course. They were able to supplement the gaps in the theory where their friend would have great code. \n",
    "       3. They find that the interviews were maybe helpful in their learning.\n",
    "       4. The participant states that in general, they are not opposed to interview grading.\n",
    "       5. This process of interview grading helped to encouraging collaboration with their lab partner as they would have to take their solutions to problems in the lab and do their best to explain it to a peer/learn from a peer in order to complete the interviews at the end of each lab."
   ]
  },
  {
   "cell_type": "markdown",
   "id": "6c6cc926-29d9-4b5c-9eeb-75eff2c1c91a",
   "metadata": {},
   "source": [
    "# Reflection\n",
    "* This participant has deeply considered the course and their experience in the course. They have a low level of confidence with the material despite my vision of them as a very strong student.\n",
    "* They did not have a specific goal for the course.\n",
    "* QUOTATION: \" I definitely told other people what was on my interview.\"\n",
    "* QUOTATION: \"PPL was curved a lot. I did not understand an [X] amount of material.\" they stated while describing that their earned grade in the course seemed higher than they believed they really achieved in learning through the course. They go on to explain that the course grade felt more relative to their peers rather than objective to some learning goals for the course. The participant reflected on past grades in courses and explains that their lowest grades have consistently been in courses where they did not understand the material. However, for them, their grade in this course does not align with their perceived level of understanding of the material."
   ]
  }
 ],
 "metadata": {
  "kernelspec": {
   "display_name": "Python 3 (ipykernel)",
   "language": "python",
   "name": "python3"
  },
  "language_info": {
   "codemirror_mode": {
    "name": "ipython",
    "version": 3
   },
   "file_extension": ".py",
   "mimetype": "text/x-python",
   "name": "python",
   "nbconvert_exporter": "python",
   "pygments_lexer": "ipython3",
   "version": "3.12.1"
  }
 },
 "nbformat": 4,
 "nbformat_minor": 5
}
