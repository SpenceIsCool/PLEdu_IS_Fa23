{
 "cells": [
  {
   "cell_type": "markdown",
   "id": "86c2c889-3606-4c99-8a3a-2bad1408578f",
   "metadata": {},
   "source": [
    "# Data\n",
    "## Consent\n",
    "## Interviews\n",
    "*  NOTE: the research participant states their learning goal in earlier interviews as \"to pass the course to meet other goals for which this course is a pre-requisite.\"\n",
    "\n",
    "1. In the recent focus group you wrote a self-reflection about what you learned in the interview. What was your experience writing this reflection?\n",
    "    1. We confirm this is in reference to the google survey and I show the participant their responses.\n",
    "    2. QUOTATION: \"I feel like I understood the topic better [after completing the peer-interview]\"\n",
    "    3. The participant notes that examples are a valuable activity for their learning style. They go on to detail how the more time people think about some abstract concept, the more likely it is to click.\n",
    "    4. QUOTATION: \"I think that people should reflect on what they're learning.\"\n",
    "2. What impact, if any, did this peer-interview have on your confidence to master the topic of BNF grammars?\n",
    "    1. They note that the interview improved their confidence with the topic, that it felt \"good\" to get the answer right. However, they still don't feel overly confident with the material.\n",
    "    2. QUOTATION: \"Honestly, I don't remember anything from this class.\"\n",
    "    3. They go on to explain how they do not use the material from this course in their current work.\n",
    "    4. QUOTATION: \"Examples help **me** learn.\"\n",
    "    5. I followup: what was it like to work with a peer for this interview?\n",
    "        1. They explain that the peer in the interview was very nice/kind. It felt like they were working together as a team to answer the questions. It was beneficial to this participant to work with someone that had a similar understanding level on the content and that neither of them were 100% confident with the topic. This does come with the concern however, that there would be more pressure depending on who their partner is for the interview.\n",
    "3. `< here we will remind the students of their learning goal for the course >`\n",
    "4. What impact, if any, would you expect that peer-interview grading would have on your relation to that learning goal?\n",
    "    1. They explain that it would be really nice, or at least interesting. They express that they wouldn't want to have their peer assign their grade however, as they've only seen this in English classes. It is common practice in English class that our peers would review our work and give feedback that is calculated into the total grade, but there it is still not a grade deemed by your peer.\n",
    "    2. I take a moment to describe the expected grading scheme, that the grade is not for correctness to questions in the interview, but instead on the labor of the interview and the completeness of the self reflection. The participant describes how his would be a different \"vibe\". With a TA it is more clear when and answer is right or wrong. A TA should be more knowledgeable about the material of the course and be more fair in grading the interview. In the focus group their partner (and themselves) were not confident with the material, but they feel like a TA would have been more firm in confirming if an answer was correct or not. This participant details how, for them to learn, they find it helpful to know if the answer to a question is exactly right or if it is wrong and that was missing for them in this peer interview example. In particular, they need this solution confirmation to feel confident as they prepare for an exam. However, this concept of peer interviewing feels like it would be great study resource.\n",
    "    3. As the participant first focused on challenges of peer-grading I followed up to better understand their concerns around peer grading. The participant describes how peers are likely to give each other the benefit of the doubt when grading a question and likely lead toward a lot of inflated grades. They detail how this is a common practice in the senior capstone that students must grade their teammates on performance in the capstone. However, this is a team of people that work well together and have already agreed, despite an imbalance of contributions from the team members that everyone will report each other as a top performer (5/5). They further explain that the grading would depends a lot on the circumstances and the relative skill of their classmates. If everyone is uncertain about the material then this would cause \"pressure\" and \"stress\" for the students.\n",
    "    4. I follow up, \"is stress always a bad thing?\" They state that it's maybe not always a bad thing but it will be inconsistent and dependent on the peer. it would be very different to perform the interview with a friend, vs their lab partner, vs a random person in the class. They note that this inconsistency is also true with in the TA pool as previously noted in other interviews. Each TA performs the interviews differently. They note that **the TA slots fill up based on their variability of the TAs, and with peers there would be even more variability in how the interview is conducted.** They give an example from their own life in grading some content. It is difficult for even two people trying to be consistent about how grades are decided, so how would it be possible for 200+ students to be consistent in awarding each other grades? How could standards be set? They go on to explain that this feels like it would actually create more work for the course staff as they setup some \"dispute resolution\" process for students to contest their peer-assigned grades. They assert that students would be more likely to dispute a grade assigned by their peer as opposed to one assigned by a TA.\n",
    "5. `< here we will debrief the research participants on the current direction of the research study >`\n",
    "6. Do you have any questions or ideas with regards to this research study?\n",
    "    1. I offer to sen over papers on peer grading at scale.\n",
    "    2. The participant notes that grades are often slowly returned in this department, with some courses taking half of a semester to return a grade. This is \"detrimental\" to their learning as they don't have a progress check on their mastery of the content.\n",
    "    3. They note that PPL had a ton of office hours, which was a big win for this course as it offers a wide variety of assistance across each week. In fact, this is \"one of the best staffing\" they've seen in the department.\n",
    "    4. They note that getting any change enacted will be hard, but it is helpful to ideate on the process."
   ]
  },
  {
   "cell_type": "markdown",
   "id": "d8e68e64-c9eb-4d18-aa61-da4ec28a412d",
   "metadata": {},
   "source": [
    "# Reflections and Observations\n",
    "* A \"Dispute resolution\" process isn't a bad idea\n",
    "* Having this as a study tool isn't a bad idea. It could even be a thing that students get early in the lab to help learn the basics of the material. Comes up in interview with I93, but I also thing that I've effectively iterated on the Think/Pair/Share model in an asynchronous form. Where share is the action phase and staff sharing quotations from the students responses.\n",
    "* concers about how to know if your answer is actually correct. While I understand this concern from the student, the reality is that the suggested interview actually gives more information than past interviews did and would give the students a better ability to grade the questions then their TAs had in the past."
   ]
  }
 ],
 "metadata": {
  "kernelspec": {
   "display_name": "Python 3 (ipykernel)",
   "language": "python",
   "name": "python3"
  },
  "language_info": {
   "codemirror_mode": {
    "name": "ipython",
    "version": 3
   },
   "file_extension": ".py",
   "mimetype": "text/x-python",
   "name": "python",
   "nbconvert_exporter": "python",
   "pygments_lexer": "ipython3",
   "version": "3.12.1"
  }
 },
 "nbformat": 4,
 "nbformat_minor": 5
}
