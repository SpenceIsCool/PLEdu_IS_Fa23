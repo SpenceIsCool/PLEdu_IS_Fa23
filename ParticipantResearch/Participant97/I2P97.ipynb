{
 "cells": [
  {
   "cell_type": "markdown",
   "id": "6cec48f2-b0f6-434d-b3b8-1040d9c610fd",
   "metadata": {},
   "source": [
    "# DATA\n",
    "1. Q1. Tell me about your favorite course in recent memory. What aspects of that course were positive for you? (We won't record the course name/title as it could potentially be used to identify you.)\n",
    "    1. We confirm that this does not have to be a computer science course.\n",
    "    2. The participant describes a course that was of **personal interest** to the student that took place in a small classroom setting. Here the professor had lots of personal life stories that informed each lecture. The student was able to learn a lot without feeling particularly stressed about the content. Coming into the final exam, the student felt prepared, having read the related content to succeed on the exam.\n",
    "    3. The participant highlights how they were about to **connect** with the professor in a way that the professor still waves and says hello if they see each other in passing.\n",
    "2. Q2. Tell me about your most recent positive experience in a course that had 200 or more students. In particular, a course where the full course was positive and not only a singular event in the course. What made it a positive experience? (We won't record the course name/title as it could potentially be used to identify you.)\n",
    "    1. The participant describes how they have only had large format classes like these in their lower division computer science classes. They describe a course where they liked it enough to go on to tutor other students in the course. Again, this was a course where the participant had a high degree of **personal interest** in the topic. They go on to explain how most of the course was spent explaining things that they had learned in another course, but then they had a fun project to apply all of the information in a new way.\n",
    "    2. QUOTATION: \"I had many friends in the course at the same time, which for me always makes it a positive experience.\" In general, they like to have other friends in the class, but it's not required for them to enjoy the course. If the course is hard, but they have many **connections** in the class, then they will form study groups to help each other master the concepts together. They go on to discuss how they have heard about scientific evidence that success in academics can be highly correlated to the number of social connections that the student has in their courses.\n",
    "    3. They explain how the course was **less stressful** as there was no need to \"grind it out\" and complete lots of challenging tasks.\n",
    "    4. They go on to explain how they still prefer small classes over large classes.\n",
    "3. Q3. Tell me about your most recent negative experience in a course that had 200 or more students. In particular, a course where the full course was negative and not only a singular event in the course. What made it a negative experience? (We won't record the course name/title as it could potentially be used to identify you.)\n",
    "    1. The participant describes a few courses that they had to take as requirements of their degree. They did not have much **personal interest** in the topics which impacted their motivation to learn the material. They explain how by the end of the course, they understood the topic, but had a very low confidence in their ability to explain it to others. They didn't feel like they understood it well enough to explain what was important and what was technical implementation details that really aren't that important when you are learning the topic.\n",
    "    2. QUOTATION: \"With these kinds of courses I'm less personally interested in the topics.\"\n",
    "    3. QUOTATION: \" It's not negative because it is a lot of work, but rather because I wasn't understanding the content.\"\n",
    "4. Q4. This research study is exploring the challenges faced in CSCI 3155 as we continue to see larger enrollments over time. We are exploring ways to provide value to our students at these larger scales. As a student in Fall 2022 CSCI 3155, what aspects of the course helped in your ability to meet your goals?\n",
    "    1. The participant states that the review sessions for the course helped a lot. They had studied a lot prior to the sessions and these sessions helped to summate their understanding of the broader topics. They felt that it helped them to read grammars and write code. They distinctly remember being at a lot of these sessions.\n",
    "    2. They also explain how they found recitations helpful and attended most of their recitations.\n",
    "    3. They then pivot to explain how they went to all of the lectures but did not find them very helpful. They found the assignments very difficult to start and the provided textbook was not comprehensive enough for them to start there instead.\n",
    "        1. QUOTATION: \"The lectures would start with 'What question do you have about the assignment' but if I can't read the assignment, then this isn't a helpful place to start.\"\n",
    "    4. They go on to explain that in office hours, they would have to choose who to meet with carefully. If the they worked with a CA, **the CA would often not be able to help and would openly allow the students to see the reference solutions for the course**. Sometimes this helped the student and their peers complete the lab, but this student would then make a point to understand the solution and typically also attend office hours with a TA who would be able to help them understand why a solution was correct and how one might arrive at this approach. They would carefully consider which office hours to attend based on what kind of information they needed. They found that these smaller group discussions at office hours helped to solidify their understanding of the material. In particular, they would attempt the lab, get to a solution, not understand why that solution works, and then be able to ask a specific question about some section of their solution and get assistants in understanding why it works.\n",
    "    5. FOLLOWUP: What aspects of the course impeded your ability to meet your goals?\n",
    "        1. They explain how at the beginning of the course, they didn't know how to code in Scala or read grammars. This made the course very challenging for them. They felt like they needed some starting point to learn this new skill but that wasn't coming from the lectures. They explain how this isn't necessarily a bad thing that you have to learn the material yourself, but it makes it **hard**.\n",
    "        2. QUOTATION: \"What Questions do I ask? I have no starting knowledge.\"\n",
    "        3. They explain one more positive of the course is that each lab builds on the previous lab, but it would do so in a way that students would all have a level playing field that the lab would have some new starting point so you didn't always need to fully complete the previous lab in order to succeed in the next lab.\n",
    "        4. They detail another positive/mix feature of the course was having random lab partners. Through this, the participant met many new people and were able to improve social connections in the department. However, there was a wide range of experiences in their peers which did make each lab a different kind of challenge.\n",
    "            1. Here I was able to followup about this information exposed here and the first interview.\n",
    "            2. The participant explains that the specific student that they worked with who had completed the lab before the participant started did take the time to explain the code to them line by line. They then would go on to get additional help on the lab in office hours and from other peers as they\n",
    "            3. QUOTATION: \"I would feel bad saying I don't understand it after he went through it line by line.\"\n",
    "            4. Conversely, there was a particular lab partner that they had that was really behind in the course. The participant explains how they would do their best to go to office hours as a team, but this particular lab partner did not have the available time to do so. The participant would offer to attend office hours alone and then explain what they had learned to the lab partner separately, but they found that this was not particularly helpful for the lab partner and the lab partner remained behind in their learning by the end of the lab."
   ]
  },
  {
   "cell_type": "markdown",
   "id": "70eecccf-2b80-4e2d-8150-4bab01419a45",
   "metadata": {},
   "source": [
    "# Observation\n",
    "1. "
   ]
  }
 ],
 "metadata": {
  "kernelspec": {
   "display_name": "Python 3 (ipykernel)",
   "language": "python",
   "name": "python3"
  },
  "language_info": {
   "codemirror_mode": {
    "name": "ipython",
    "version": 3
   },
   "file_extension": ".py",
   "mimetype": "text/x-python",
   "name": "python",
   "nbconvert_exporter": "python",
   "pygments_lexer": "ipython3",
   "version": "3.12.1"
  }
 },
 "nbformat": 4,
 "nbformat_minor": 5
}
