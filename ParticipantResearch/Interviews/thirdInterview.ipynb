{
 "cells": [
  {
   "cell_type": "markdown",
   "id": "86c2c889-3606-4c99-8a3a-2bad1408578f",
   "metadata": {},
   "source": [
    "# Interview\n",
    "\n",
    "## Procedure\n",
    "* participant ID\n",
    "* consent: this event, can leave anytime\n",
    "* data review: period of review, is 3 days acceptable\n",
    "* We are scheduled until ___. If we are being productive, are you available to stay a few minutes over, or would prefer a hard stop at this time and reschedule for another date?\n",
    "\n",
    "## The Questions\n",
    "\n",
    "1. In the recent focus group you wrote a self-reflection about what you learned in the interview. What was your experience writing this reflection?\n",
    "<br /><br /><br /><br /><br /><br /><br /><br /><br /><br /><br /><br /><br /><br />\n",
    "2. What impact, if any, did this peer-interview have on your confidence to master the topic of BNF grammars?\n",
    "<br /><br /><br /><br /><br /><br /><br /><br /><br /><br /><br /><br /><br /><br />\n",
    "3. `< here we will remind the students of their learning goal for the course >`\n",
    "4. What impact, if any, would you expect that peer-interview grading would have on your relation to that learning goal?\n",
    "<br /><br /><br /><br /><br /><br /><br /><br /><br /><br /><br /><br /><br /><br />\n",
    "5. `< here we will debrief the research participants on the current direction of the research study >`\n",
    "6. Do you have any questions or ideas with regards to this research study?\n",
    "<br /><br /><br /><br /><br /><br /><br /><br /><br /><br /><br /><br /><br /><br />\n",
    "\n",
    "1. In the recent focus group you wrote a self-reflection about what you learned in the interview. What was your experience writing this reflection?\n",
    "2. What impact, if any, did this peer-interview have on your confidence to master the topic of BNF grammars?\n",
    "3. `< here we will remind the students of their learning goal for the course >`\n",
    "4. What impact, if any, would you expect that peer-interview grading would have on your relation to that learning goal?\n",
    "5. `< here we will debrief the research participants on the current direction of the research study >`\n",
    "6. Do you have any questions or ideas with regards to this research study?\n",
    "\n",
    "\n",
    "<!-- 1. In the recent focus group you wrote a self-reflection about what you learned in the interview. What was your experience writing this reflection?\n",
    "2. What impact, if any, did this peer-interview have on your confidence to master the topic of BNF grammars?\n",
    "3. ???debrief and question about their performance in the course as a whole given this change. final questions\n",
    "4. \n",
    "    This research study is exploring the challenges faced in CSCI 3155 as we continue to see larger enrollments over time. We are exploring ways to provide value to our students at these larger scales. As a student in Fall 2022 CSCI 3155, what ideas come to mind that could help support a larger scale?\n",
    "\n",
    "1. This course had a large classroom to ask those technical questions in that may not be of common intest to all students. What role could chatgpt play in resolving this?\n",
    "    1. how do you currently use chatgpt?\n",
    "    2. Could ChatGPT be used as a digital peer to ask questions to during a lab to answer those technical questions?\n",
    "    3. What resources would you need from us? from yourself?\n",
    "    4. Have you seen this done in other courses? Rather, what has been your experience so far with the use of ChatGPT in the classroom? -->\n",
    "\n",
    "## Debrief\n",
    "* data review\n",
    "* next meeting"
   ]
  }
 ],
 "metadata": {
  "kernelspec": {
   "display_name": "Python 3 (ipykernel)",
   "language": "python",
   "name": "python3"
  },
  "language_info": {
   "codemirror_mode": {
    "name": "ipython",
    "version": 3
   },
   "file_extension": ".py",
   "mimetype": "text/x-python",
   "name": "python",
   "nbconvert_exporter": "python",
   "pygments_lexer": "ipython3",
   "version": "3.12.1"
  }
 },
 "nbformat": 4,
 "nbformat_minor": 5
}
