{
 "cells": [
  {
   "cell_type": "markdown",
   "id": "83f16f35-95b4-4b8f-9f6a-8daa4527411a",
   "metadata": {},
   "source": [
    "# Interview\n",
    "\n",
    "## Procedure\n",
    "* participant ID\n",
    "* consent: this event, can leave anytime\n",
    "* data review: period of review, is 3 days acceptable\n",
    "* We are scheduled until ___. If we are being productive, are you available to stay a few minutes over, or would prefer a hard stop at this time and reschedule for another date?\n",
    "\n",
    "## The Questions\n",
    "* NOTE: if we need to complete questions from the first round, let us do that now.\n",
    "<br /><br /><br /><br /><br /><br /><br /><br /><br /><br /><br /><br /><br /><br />\n",
    "\n",
    "1. Tell me about your favorite course in recent memory. What aspects of that course were positive for you?\n",
    "    * We won't record the course name/title as it could potentially be used to identify you.\n",
    "<br /><br /><br /><br /><br /><br /><br /><br /><br /><br /><br /><br /><br /><br />\n",
    "\n",
    "2. Tell me about your most recent positive experience in a course that had 200 or more students. In particular, a course where the full course was positive and not only a singular event in the course. What made it a positive experience?\n",
    "    * We won't record the course name/title as it could potentially be used to identify you.\n",
    "<br /><br /><br /><br /><br /><br /><br /><br /><br /><br /><br /><br /><br /><br />\n",
    "\n",
    "3. Tell me about your most recent negative experience in a course that had 200 or more students. In particular, a course where the full course was negative and not only a singular event in the course. What made it a negative experience?\n",
    "    * We won't record the course name/title as it could potentially be used to identify you.\n",
    "<br /><br /><br /><br /><br /><br /><br /><br /><br /><br /><br /><br /><br /><br />\n",
    "\n",
    "4. This research study is exploring the challenges faced in CSCI 3155 as we continue to see larger enrollments over time. We are exploring ways to provide value to our students at these larger scales. As a student in Fall 2022 CSCI 3155, what aspects of the course helped in your ability to meet your goals?\n",
    "<br /><br /><br /><br /><br /><br /><br />\n",
    "    * FOLLOWUP: What aspects of the course impeded your ability to meet your goals?\n",
    "<br /><br /><br /><br /><br /><br /><br /><br /><br /><br /><br /><br /><br /><br />\n",
    "\n",
    "## Debrief\n",
    "* data review\n",
    "* next meeting"
   ]
  }
 ],
 "metadata": {
  "kernelspec": {
   "display_name": "Python 3 (ipykernel)",
   "language": "python",
   "name": "python3"
  },
  "language_info": {
   "codemirror_mode": {
    "name": "ipython",
    "version": 3
   },
   "file_extension": ".py",
   "mimetype": "text/x-python",
   "name": "python",
   "nbconvert_exporter": "python",
   "pygments_lexer": "ipython3",
   "version": "3.12.1"
  }
 },
 "nbformat": 4,
 "nbformat_minor": 5
}
