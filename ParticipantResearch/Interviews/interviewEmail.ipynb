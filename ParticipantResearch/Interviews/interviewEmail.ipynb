{
 "cells": [
  {
   "cell_type": "markdown",
   "id": "6b077ad6-25bb-410d-8143-7b791a0aa5f6",
   "metadata": {},
   "source": [
    "`<NAME>`,\n",
    "\n",
    "I'm reaching out to students from the Fall 2023 CSCI 3155 course to see if anyone is interested in joining a small research study involving the nature of interview grading in upper division computer science education. The study will involve a few brief interviews and a focus group. Each activity is optional and involves a consent process for participation, data collection and data distribution (as further detailed in the attached document). If you are interested to participate and would like to discuss next steps, please let me know in any way that you would be comfortable, such as: \n",
    "* response to this email\n",
    "* reach me on my non-CU email: spwi690@gmail.com\n",
    "* reach me on LinkedIn: https://www.linkedin.com/in/spencer-wilson-25467865/\n",
    "* find me in person in the CSEL at various times\n",
    "\n",
    "`<PERSONAL NOTE>`\n",
    "\n",
    "`<SIG>`"
   ]
  }
 ],
 "metadata": {
  "kernelspec": {
   "display_name": "Python 3 (ipykernel)",
   "language": "python",
   "name": "python3"
  },
  "language_info": {
   "codemirror_mode": {
    "name": "ipython",
    "version": 3
   },
   "file_extension": ".py",
   "mimetype": "text/x-python",
   "name": "python",
   "nbconvert_exporter": "python",
   "pygments_lexer": "ipython3",
   "version": "3.12.1"
  }
 },
 "nbformat": 4,
 "nbformat_minor": 5
}
