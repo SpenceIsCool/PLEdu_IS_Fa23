{
 "cells": [
  {
   "cell_type": "markdown",
   "id": "e134491a-f371-4ae2-8658-578942e2153b",
   "metadata": {},
   "source": [
    "# Data\n",
    "1. Interview 1: two remaining questions\n",
    "    1. Recall: my learning goal started with wanting to learn Scala. Pivoted toward trying to ask a question at every lecture.\n",
    "    2. Q7 What would you describe as your ability to achieve that learning goal?\n",
    "        1. The participant details how they were able to achieve their learning goal to ask questions of the course staff and how it benefited their learning. They found that it was not easy to create a good question and this motivated them to succeed in the course. They explain how challenging courses push them beyond their comfort zone. From there, the goal to form good questions was necessary for them to feel comfort and control in the course. This goal helped them to form dialogues with the people around them and create an environment where they felt comfortable to learn the material.\n",
    "    3. Q8 What impact, if any, did interview grading have on your relation to that learning goal?\n",
    "        1. The staff-interviews helped this participant with chances to ask questions 1 on 1 with an individual with \"more knowledge\" than themselves on the material. This helped them learn how to ask more questions and gain more confidence with the material as they knew they didn't know everything, and the interviews helped them better understand what they did and did not understand about the material.\n",
    "2. Interview 2:\n",
    "    1. Q1: Tell me about your favorite course in recent memory. What aspects of that course were positive for you (We won't record the course name/title as it could potentially be used to identify you.)\n",
    "        1. We clarify that this can be any course, not only computer science courses.\n",
    "        2. The participant explains a course which they are currently taking where they had low expectations of the course before it started. They expected that the course would be very challenging and graded in a \"difficult\" manner. However, they found this course is constantly allowing them to hear other student perspectives in an \"eye-opening\" way.\n",
    "        3. The participant describes a separate course that they are currently taking remotely. This course involves weekly videos that describe the tasks of the week, and discussion posts that encourage students to comment on each other's work.\n",
    "            1. They describe this course in contrast to their typical CoVid remote course, where they feel like they might be \"interrupting\" the professor to ask a question on zoom, or breakout rooms are used to try to encourage participation, but sometimes peers don't want to participate in those breakout rooms.\n",
    "                1. QUOTATION \"it just kind of killed the mood for me to participate\".\n",
    "    2. Q2: Tell me about your most recent positive experience in a course that had 200 or more students. In particular, a course where the full course was positive and not only a singular event in the course. What made it a positive experience? (We won't record the course name/title as it could potentially be used to identify you.)\n",
    "        1. The participant thinks back to many of their beginner lower division courses. They describe how they and others often felt a bit overwhelmed in courses these sizes which made it difficult for them to succeed. However, they also describe how in a large classroom they can more easily lean on their classmates provided that the classmates are willing to collaborate. They go on to discuss how they see a trend where large classes expect peer projects while smaller classes expect projects to be done one on one. In Office Hours, the participant finds it harder to participate in large format classes as the office hours are overcrowded with many students trying to \"swarm\" the professor. Finally, they explain how they took most of these courses during CoVid and it was often a challenge to decide if they will attend the class synchronously (where they don't feel comfortable asking questions and the breakout rooms don't often work well) or just watch the recordings later.\n",
    "        2. QUOTATIN: \"You're all in the same boat.\"\n",
    "        3. QUOTATION: \"You can bounce ideas off of eachother.\"\n",
    "        4. Here the participant also describes the concept of the \"**hidden curriculum**\", a mechanism by which some stakeholders do not understand the structure of some system and ultimately lose out on potential benefit. e.g. many first generation college students perform poorly in college due to factors of the hidden curriculum such as assuming that \"office hours\" means times that the professor is working on the course alone and NOT open hours for students to come get help on the material.\n",
    "    3. Q3: Tell me about your most recent negative experience in a course that had 200 or more students. In particular, a course where the full course was negative and not only a singular event in the course. What made it a negative experience? (We won't record the course name/title as it could potentially be used to identify you.)\n",
    "        1. The participant describes a course in which office hours are regularly overcrowded in the computer science department. They describe how that semester office hours were on zoom with many people crowding a virtual waiting room awaiting assistance from the TA on duty. They describe how the TAs often did not know the current state of the waiting queue and struggled to manage student time and expectations at office hours. On a similar note, they explain how that course had very little collaboration in the course as the professor would try breakout rooms at lectures but many people did not want to participate in the breakout rooms. The participant attributes this to many large format courses being lower division \"weed outs\" where folks do not want to put in 100%.\n",
    "    4. Q4: This research study is exploring the challenges faced in CSCI 3155 as we continue to see larger enrollments over time. We are exploring ways to provide value to our students at these larger scales. As a student in Fall 2022 CSCI 3155, what aspects of the course helped in your ability to meet your goals?\n",
    "        1. The participant explains how grading interviews were key to their success as it gave a good platform for the participant to ask questions one on one with a member of the course staff on time dedicated for their learning without conflict from peers. They note that lectures were also important but sometimes were not a practical place for them to achieve their total learning goals as they sometimes felt so lost at lectures that they didn't know what they could even ask.\n",
    "    5. Q4: FOLLOWUP: What aspects of the course impede your ability to meet your goals?\n",
    "        1. The participant explains how the general course design made it really challenging for them to ask appropriate questions at lecture. They felt that they personally often had questions about the core concepts covered in each lab rather than the lab content itself that was often being discussed at the Q&A sessions at each lecture. Additionally, the \"newness\" of this style of learning hindered their ability to learn the most that they could.\n",
    "        2. QUOTATION: \"If I had to redo the course, I would make a point to attend more Office Hours.\" They state before explaining how they use digital calendars today that include various scheduled office hours that they attend if possible which forces structure in their week to participate with the course material.\n",
    "\n",
    "\n",
    "3. FOLLOWUP: You noted that you found it motivating to have a course where finding the right question to ask was challenging. You also noted that you sometimes/often felt unable to ask the right question at lecture. Could you explain more about the balance between those two conflicting ideas?\n",
    "    1. Asking questions was the goal in this class. However, since I had very little comprehension of the basic fundamentals of the class, I had trouble asking questions about the topics covered in lectures since I barely had half of the understanding of the material in the first place. So I wish I could have asked questions early to better understand the subsequent material. I could still try to ask relevant questions in class but I just would not get the global understanding of the course since I was missing information from the first couple of weeks that I hadn't glossed over properly.\n",
    "\n"
   ]
  },
  {
   "cell_type": "markdown",
   "id": "f12e607b-6376-4511-b138-bae4d3755daf",
   "metadata": {},
   "source": [
    "# Reflection"
   ]
  }
 ],
 "metadata": {
  "kernelspec": {
   "display_name": "Python 3 (ipykernel)",
   "language": "python",
   "name": "python3"
  },
  "language_info": {
   "codemirror_mode": {
    "name": "ipython",
    "version": 3
   },
   "file_extension": ".py",
   "mimetype": "text/x-python",
   "name": "python",
   "nbconvert_exporter": "python",
   "pygments_lexer": "ipython3",
   "version": "3.12.1"
  }
 },
 "nbformat": 4,
 "nbformat_minor": 5
}
