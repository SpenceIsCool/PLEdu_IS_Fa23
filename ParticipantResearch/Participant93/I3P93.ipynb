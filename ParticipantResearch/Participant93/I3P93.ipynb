{
 "cells": [
  {
   "cell_type": "markdown",
   "id": "86c2c889-3606-4c99-8a3a-2bad1408578f",
   "metadata": {},
   "source": [
    "# DATA\n",
    "* first we need to wrap up questions from the focus group that we were not able to do timely.\n",
    "\n",
    "1. What was your experience being interviewed by your \"peer\" for this interview?\n",
    "    1. The participant describes this as a \"fun interaction\" and a \"fun bonding experience\". They enjoyed getting to teach their peer and getting to work together on the content. They further explain that they found themselves processing the information orally, to state what they did know about the topic while their peer listened. While they did feel that they were critiqued by their peer, they do not note this as a negative thing.\n",
    "    2. They go on to describe the Socratic method without naming it explicitly. They described how they found it helpful that their peer would ask them questions about their solution which exposed their room for improvement. They in-turn used the same method when interviewing their peer for the second question.\n",
    "2. What was your experience interviewing your \"peer\" for this interview?\n",
    "    1. QUOTATION: \"It felt like I was guiding participant 15 into [their] exploration of the question.\"\n",
    "    2. They found it interesting to help their peer dig through their own thoughts and knowledge of the material to arrive at some solution. We acknowledge that they are friends with participant 15 and they explain that it was helpful to already know their peers background and ability. They were able to leverage this to aide their peer in finding their own solution to the question.\n",
    "    3. They note that they would expect it to feel \"weird\" to have this \"position of power\" over their peer, but it didn't feel that way during this event. The focus group felt \"casual\" and helped to improve their peer relationship.\n",
    "3. How did this interview compare to your most recent TA-interview?\n",
    "    1. They express that it has been a long time since they've had a TA interview. Since they are friends with the other participant, the event felt more relaxed than any recent TA interview. They describe how they often don't feel a close connection with their TAs as there is some form of divide for most undergrads with the graduate support staff. Although, for themselves they don't feel afraid of their TAs::\n",
    "    2. QUOTATION: \"I'm maybe a hard case. Talking to a TA, or a professor even, doesn't really scare me.\"\n",
    "    3. They explain how with a TA they likely would have joked around less.\n",
    "    4. They state definitively that their interviews for 3155 were different from this experience. In this focus group they were explaining their thought process and looking to their peer to guide them. However, when they took 3155 they were not \"comfy\" enough with the material to express their own knowledge during the interviews. Instead, their grading interviews often took the form of them asking the TA question about the material rather then them answering questions about the material. \n",
    "  \n",
    "\n",
    "*  NOTE: the research participant states their goal began with wanting to learning scala, but evolved to asking a question at each lecture event.\n",
    "\n",
    "\n",
    "1. In the recent focus group you wrote a self-reflection about what you learned in the interview. What was your experience writing this reflection?\n",
    "    1. They state that they do not remember this reflection well, so I pull up their data for us to review together.\n",
    "    2. They explain how they don't recall much of the material from PPL, so they rated themselves as a `1` for their knowledge of the material before the focus group (not only before the interview). However, after the mini-lecture at the focus group they had a better understanding of the material. They then detail how they selected a `4/5` for their post interview knowledge as a `3` felt neutral, but a `5` felt like a high level of mastery which they are still not confident they have achieved. They explain that they are still approaching and not proficient as they would need more practice with the material.\n",
    "    3. I follow up, \"how did it feel to complete this self-reflection?\"\n",
    "        1. They explain how the conceptualize Scala as a piece-wise function. We write our base cases, then we write our inductive cases, and so on.\n",
    "2. What impact, if any, did this peer-interview have on your confidence to master the topic of BNF grammars?\n",
    "    1. They do not feel 100% solid with the material yet. The mini-lecture/review followed by a discussion with their peer was helpful.\n",
    "    2. They noted also that the interview questions were helpful as they had \"practical applications\" which are often lacking in theory heavy courses such as 3155 (in reference to the use of BNF grammars to describe pre-requisite knowledge over stacks, linked lists, and binary trees)\n",
    "3. `< here we will remind the students of their learning goal for the course >`\n",
    "4. What impact, if any, would you expect that peer-interview grading would have on your relation to that learning goal?\n",
    "    1. They explain how this peer-grading kind of existed in 3155 already, as they recall having the in class exercises which were discussed and graded by peers during the lecture periods. However, this peer-interview felt cleaner in allowing a deeper discussion on the topic with their peer and an opportunity to challenge each other on the topics. They note however that this is hard in large classes where not every student wants to participate each day. For themselves and participant 15 they are quite engaged students, however, the effectiveness of the peer-interview is dependent on the willingness of each participant to try and learn from each other.\n",
    "    2. I followup, \"[what would you do if working with a less engaged peer?]\" They explain that if their peer couldn't be bothered to acknowledge their questions about the topic, then it would likely be a negative experience and leave them frustrated about the interview process.\n",
    "5. `< here we will debrief the research participants on the current direction of the research study >`\n",
    "6. Do you have any questions or ideas with regards to this research study?\n",
    "    1. The participant expresses concerns about grade inflation. I take a moment to describe the expected grading scheme, that the grade is not for correctness to questions in the interview, but instead on the labor of the interview and the completeness of the self reflection.\n",
    "    2. They go on to explain how if the weight is not on the interview itself, then people \"won't\" put effort into the interview. This is because most students do not value \"growth\" over \"correctness\". From their perspective, most college students are so focused on getting correct answers and high grades that they ignore self reflections and a growth mindset toward learning the most that they can in any given term. They state many students \"hide themselves from change and growth.\"\n",
    "    3. QUOTATION: \"I think reflection is something that we [humans] lack and need to do better at.\"\n",
    "    4. They explain a statistic they've heard that only about 3% of all college graduates find happiness and success in life as they write personal goals and reflect on their progress toward these goals over their life beyond school."
   ]
  },
  {
   "cell_type": "markdown",
   "id": "2a4f8bdc-f030-4aec-8dc6-ae2899a9ba87",
   "metadata": {},
   "source": [
    "# Reflections and Observations\n",
    "1. What about a flipped interview. The students get the interview document and solutions. The students interview the TA? The students are graded for professionalism and effectiveness in the facilitating the Socratic method. This could be a good training exercise to what I'm proposing. I also expect this would be a valid form of learning for students if done for the full course.\n",
    "2. Think/Pair/Share!\n",
    "3. punishment for not participating? How do we \"force\" participation? I don't think this is the right question. Yes we can create processes to fail students for not participating, but a better use of our time is in demonstrating to students why they should want to do this. Show them how much value they can get from doing the peer interview! Doesn't always work, but it's a better solution and use of the staff time as demonstrated in that reading from Lorie Sheppard."
   ]
  }
 ],
 "metadata": {
  "kernelspec": {
   "display_name": "Python 3 (ipykernel)",
   "language": "python",
   "name": "python3"
  },
  "language_info": {
   "codemirror_mode": {
    "name": "ipython",
    "version": 3
   },
   "file_extension": ".py",
   "mimetype": "text/x-python",
   "name": "python",
   "nbconvert_exporter": "python",
   "pygments_lexer": "ipython3",
   "version": "3.12.1"
  }
 },
 "nbformat": 4,
 "nbformat_minor": 5
}
