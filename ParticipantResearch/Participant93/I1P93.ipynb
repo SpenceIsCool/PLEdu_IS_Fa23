{
 "cells": [
  {
   "cell_type": "markdown",
   "id": "49cfa632-af05-4981-84c5-c70381e16f34",
   "metadata": {},
   "source": [
    "# Data\n",
    "1. consent\n",
    "    1. took about 12 minutes\n",
    "    3. cuboulder email address is acceptable for data review process\n",
    "2. interview\n",
    "    1. Q1: As a student in 3155, what was your experience working with a \"lab partner\" on your labs? Please elaborate.\n",
    "        1. The participant does not recall having specific lab partners at each lab. They describe how they worked with other students as the labs felt quite lengthy and they personally did not understand the Scala programming language. Through this process, they made several friends as they worked with others and never felt judged by their peers for not understanding some topic.\n",
    "        2. QUOTATION: \"I think that I couldn't make many office hours that semester, so I had to rely on working with my peers.\"\n",
    "        3. FOLLOWUP: We had recitations for this course and at recitations we were assigned a lab partner for the labs. Do you recall any specific lab partners?\n",
    "            1. The participant describes how for them the course had two lectures each week in which the professor would go over examples related to the labs. They recall how they would have the in-class exercises where they would answer some questions and peer grade those exercises, but does not recall having any recitations or specific lab partners.\n",
    "    2. Q2: As a student in 3155, you had interview grading with a member of the course staff. What was your typical process to prepare for this interview? Did it evolve over the course of the semester?\n",
    "        1. The participant states that they can \"vividly remember\" most of the interviews. They did not know how to prepare for the first interview, but ended up interviewing with a \"TA\" that they really enjoyed working with and would continue to intentionally work with through the rest of the semester.\n",
    "        2. QUOTATION: \"this course seemed to worry me.\"\n",
    "        3. They describe how they would prepare for the interview by reviewing the lab assignment and the slides from class. Then at the end of each grading interview they would take the time to ask the \"TA\" some questions about the course. At the first interview, they realized that they were struggling in the course and asked something to the effect, of how they should work to be an effective student in this class. The TA encouraged the student to ask questions and go to office hours.\n",
    "        4. QUOTATION: \" What really stuck with me was to ask questions during lecture.\"\n",
    "        5. The participant took this to heart and would ask questions at the lectures as well as at each interview event. The participant goes on to describe how, since they did not do this from the very beginning of the course, they felt behind on the fundamentals of the course which carried with them throughout the semester and made it hard to succeed. Regardless, the participant continued to attempt to learn some of the course topics and constantly engage with the material.\n",
    "    3. Q3: As a student in 3155, what was your experience working with a \"grader\" for your interviews at the end of the lab? Please elaborate.\n",
    "        1. QUOTATION: \"The TA could tell that I was trying. The TA could tell that I was struggling a lot in this class. The TA could tell that I was stressed. That I was a little... I don't know, overwhelmed in this class.\"\n",
    "        2. They explained how the TA was \"patient\", \"understanding\", and \"concerned about my struggles\" with the course.\n",
    "        3. The participant describes how some questions in the interview were about code while others were about challenging their growth in mastery of the material.\n",
    "        4. The participant describes how some students had they could perceive that some students would have too much anxiety in the course and potentially break down during an interview. How a lot of students might be disrespectful and \"increase their volume to create some dominance in the conversation.\"\n",
    "        5. The participant explains how this course is one of a few courses that they have ever found themselves ranting about the course structure and the professor. They explain how they personally would never rant about a course due to the professor doing just one thing or one change to the course that differs from what is stated in the syllabus. They would never rant about a course only because something about the course syllabus did not make sense. However their complaints about this course were about the full course experience.\n",
    "        6. QUOTATION: \" It felt like, in this class, everyone was super frustrated with the course. So I felt more comfortable to rant about the course.\"\n",
    "        7. This felt \"unprecedented\" to the student.\n",
    "    4. Q4: What impact, if any, did the interviews have on your confidence to succeed in the course?\n",
    "        1. The participant explains how they think that the interviews helped them to solidify their understanding of the material and to build their confidence in the course. They explain how \"It really helped me to stick through the course\" as they recall 50% or 50 people dropped the course that semester. Having these one-on-one conversations with the TA can help motivate them to \"drive your own success train\". Where the interviews were graded on attending and accuracy, the TA was ultimately not the professor and felt perhaps more relatable or less intimidating as meeting with the professor. They explain how meeting with the TA, they felt like they were helping each other out with lots of **encouragement** when we didn't get some topic. This ultimately gave the participant the will to keep trying and solicit feedback from the TA during the interviews by not only demonstrating their own abilities, but also by asking the TA questions. They describe how it was motivating for them to show the TA that they were putting in 100% or even 200% in the hopes that the TA will see them as a \"person with some goal and purpose\".\n",
    "    5. Q5: Do you have experience with interview grading in other courses? If so, how did those experiences compare to your experience in 3155?\n",
    "        1. The participant describes how they have had interview grading since freshman year in their degree program including 1300 (Introduction to Computer Science), 2270 (Data Structures), 2400 (Computer Systems), and 3010 (Intensive Programming Workshop). They explain how they can still remember students being stressed about this idea in 1300 and having many questions to the professor about what they should expect as questions during interview grading. They go on to describe how 2400 was the most similar experience that they've had to 3155 where interview grading was on highly technical assignments on abstract concepts that needed to have fine-tuned solutions. They describe it as a \"similar anxiety driven interview grading\".\n",
    "    6. Q6: What would you describe as your learning goal for 3155?\n",
    "        1. QUOTATION: \"[My learning goal was] to learn Scala, because as soon as I signed up, I heard that you learn this funky language called Scala.\"\n",
    "        2. They explain how they were excited to learn Scala be it for application development or it's technical capabilities.\n",
    "        3. They describe how they can still remember the professor in week 1 of the course explaining the ideas of the course in a way that was really exciting. They remember seeing other students smiling. They go on to explain how they were picturing that the course would be like 1300 where the class would teach them how to use the Scala programming language. However, in lab one they were shocked to see the way that this course was not actually going to directly teach them the \"notation\" and \"functionality\" of Scala, but rather they would have to learn that on their own.\n",
    "        4. Once the participant realized that this course was not going to help them efficiently learn Scala, then realized that they needed a new goal.\n",
    "        5. QUOTATION: \"My new goal was to ask at least one question at each class. [If I could not ask a question at each class, I would make a point to ask a question or have a conversation with a member of the course staff later that day.]\""
   ]
  },
  {
   "cell_type": "markdown",
   "id": "6c6cc926-29d9-4b5c-9eeb-75eff2c1c91a",
   "metadata": {},
   "source": [
    "# Reflection\n",
    "* Similar notes as participant 15 that they made friends through the class.\n",
    "* This student represents someone that felt very unconfident about the course, but continued to try their best. They found a few things that worked for them, like this unique attempt to always try to ask questions.\n",
    "* Subject to peer influence, they ultimately started to rant about the class as they had many challenges.\n",
    "* I find this note about how the first week really excited them, but then the reality did not align to their expectations. they were picturing 1300 but with a new language. Like P15, P93 had an unrealistic goal. Unlike P15, P93 went on to develop a new goal.\n",
    "* I'm very intrigued by this comment that the participant does not remember ever having a recitation.\n",
    "* I cannot state their end bloom cognition level at this time. Need to conduct interview 2. Scheduled for over the break."
   ]
  }
 ],
 "metadata": {
  "kernelspec": {
   "display_name": "Python 3 (ipykernel)",
   "language": "python",
   "name": "python3"
  },
  "language_info": {
   "codemirror_mode": {
    "name": "ipython",
    "version": 3
   },
   "file_extension": ".py",
   "mimetype": "text/x-python",
   "name": "python",
   "nbconvert_exporter": "python",
   "pygments_lexer": "ipython3",
   "version": "3.12.1"
  }
 },
 "nbformat": 4,
 "nbformat_minor": 5
}
