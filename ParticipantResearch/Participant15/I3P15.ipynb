{
 "cells": [
  {
   "cell_type": "code",
   "execution_count": null,
   "id": "b9866299-1906-48a2-94c0-7709f45d59aa",
   "metadata": {},
   "outputs": [],
   "source": []
  },
  {
   "cell_type": "markdown",
   "id": "86c2c889-3606-4c99-8a3a-2bad1408578f",
   "metadata": {},
   "source": [
    "# DATA\n",
    "* first we need to wrap up questions from the focus group that we were not able to do timely.\n",
    "\n",
    "1. What was your experience being interviewed by your \"peer\" for this interview?\n",
    "    1. The participant describes this as \"good\".\n",
    "    2. QUOTATION: \"Being coached by someone at your own level of understanding is nice as they use easier to understand terms.\"\n",
    "    3. They explain how the other research participant was coaching them in solving the problem, where this interviewee stated something about numbers pointing to other nodes, the interviewee said something about how this shows one pointing direction, but what about the other pointing direction.\n",
    "    4. They detailed on tension for them in working with a peer is that they were sometimes uncertain if the hints provided by their peer was a joke, or something serious. Meanwhile, if working with a TA, they would always assume the hint was serious.\n",
    "2. What was your experience interviewing your \"peer\" for this interview?\n",
    "    1. They explain that it was challenging to give hints to the interviewee without giving away the answer. On the fly they had to consider the task and hand and make simple terminology while avoiding terms like \"list, link, and pointing\"; instead using terms like \"a node, another node\" and explaining that the data was not necessarily ordered.\n",
    "    2. I follow up to ask about the emotions in that experience. They explain that they had some fear in this matter. What if the person they are interviewing with has a different level of understanding than themselves, then the grading would be biased an d unfair.\n",
    "    3. They also explain that the process forced them to gain a deeper understanding of the material in order to host an effective interview for their peer which they define as \"helpful\".\n",
    "    4. They note that the providing grading criteria was ambiguous and they were not certain how to correctly assess their peers grade on the matter.\n",
    "3. How did this interview compare to your most recent TA-interview?\n",
    "    1. The participant needs to think about this as they explain that it has been about a year since they've had a grading interview. They detail a course in which the grading interviews were more stringent and often only had one correct answer. Whereas the interview conducted at the focus group had questions that were about \"conceptual testing and logical thinking\".\n",
    "    2. They explain that the interview on linked lists was taking BNF grammars and framing it on a topic which they should know from prerequisite courses like data structures. They identified this as more helpful then working with BNF grammars in some abstract form (I infer this as not finding sentences with 0-or-many `a` symbols or defining Peano notation for natural numbers. They explain that during their interview experience for 3155, they didn't understand the topics well enough to explain them to some new domain, so they found it helpful to see the information against the domain of data structures which they already knew well.\n",
    "  \n",
    "\n",
    "*  NOTE: the research participant states their goal started as learning how to compile scala as though it were javascript, then evolved to \n",
    "\n",
    "1. In the recent focus group you wrote a self-reflection about what you learned in the interview. What was your experience writing this reflection?\n",
    "    1. They clarify if this is about how they felt or about the mechanics of writing the reflection. I explain that the question is about both, or rather whichever they prefer to explain.\n",
    "    2. They state that they felt neutral about the experience of writing this self-reflection.\n",
    "    3. They explain that they spent their time writing a justification of how they graded the other person rather than focusing on their personal experience. They also reflected about their experience in trying to give hints and how they felt good when the hint worked well.\n",
    "2. What impact, if any, did this peer-interview have on your confidence to master the topic of BNF grammars?\n",
    "    1. They note that seeing BNF on pre-requisite knowledge of data structures helped the to demonstrate an \"approaching\" level of knowledge on the material.\n",
    "    2. They did \"not feel discouraged\" by this lower than ideal score of \"advanced understanding\"\n",
    "    3. They felt neutral about the experience as it was a \"spur of the moment\" event.\n",
    "3. `< here we will remind the students of their learning goal for the course >`\n",
    "4. What impact, if any, would you expect that peer-interview grading would have on your relation to that learning goal?\n",
    "    1. They discuss how it was helpful to talk about base cases and inductive cases. They see how it would be helpful to use BNF to describe some language.\n",
    "    2. QUOTATION: \" I can see it's value, but I'd only understand it completely if I could code it out.\"\n",
    "    3. They made a note, that it could help students if we require that they write comments in their code. That way, when they might understand something when they coded it, they would now be able to more easily understand the code when they have a live interview on the matter at a later date, potentially multiple weeks later. For example, some comments about what are the base-case(s) and what are the inductive-case(s) would likely be helpful.\n",
    "    4. They note that when they took CSCI 3155 they often felt that the theory and the practicum were disconnected.\n",
    "    5. They state that the peer-interviews \"could be helpful\".\n",
    "5. `< here we will debrief the research participants on the current direction of the research study >`\n",
    "6. Do you have any questions or ideas with regards to this research study?\n",
    "    1. They explain that this looks promising, but would require a lot of supervision. They recommend using a tool like \"<a href=\"https://proctorio.com/\">Proctorio</a>\" to proctor these peer-led interviews to ensure that grading is performed fairly.\n",
    "    2. I explain that my current intentions is to shift grading away from getting the correct answer in the interview and toward completing the interview and writing a sufficient reflections. I note that I couldn't explain the full process in the time that we had available.\n",
    "    3. They explain their perspective on how mastery based grading courses were helpful to them as they needed a chance to write something, get it wrong, get feedback on why it is wrong, and then re-attempt the problem for a re-grade referencing \"regrade tokens\". They go on to explain how using something like Proctorio to host the interviews and record the interview events could be helpful for them so they can have a chance to fail once with their partner, then try again based on what they learned. In the second attempt they could use Proctorio to record the interview and work with a staff member for further guidance on where they could improve.\n",
    "        1. QUESTION: Is this an accurate depiction of what you were envisioning?\n",
    "    4. They explain how some courses use time constraints of events like this in order to prevent \"cheating\".\n",
    "    5. They explain how it could be helpful to have alternate questions which are easier than the original questions. They feel this would be helpful in the event that the existing questions and hints are too difficult for the interviewee. Something like a \"second tier of questions\".\n",
    "    6. QUOTATION: \"Even if I couldn't do it for myself, I just wanted to do it for [them].\" they state in reference to how they wanted to perform well when taking an interview with the TA that they preferred to interview with."
   ]
  },
  {
   "cell_type": "markdown",
   "id": "2a4f8bdc-f030-4aec-8dc6-ae2899a9ba87",
   "metadata": {},
   "source": [
    "# Reflections and Observations"
   ]
  }
 ],
 "metadata": {
  "kernelspec": {
   "display_name": "Python 3 (ipykernel)",
   "language": "python",
   "name": "python3"
  },
  "language_info": {
   "codemirror_mode": {
    "name": "ipython",
    "version": 3
   },
   "file_extension": ".py",
   "mimetype": "text/x-python",
   "name": "python",
   "nbconvert_exporter": "python",
   "pygments_lexer": "ipython3",
   "version": "3.12.1"
  }
 },
 "nbformat": 4,
 "nbformat_minor": 5
}
