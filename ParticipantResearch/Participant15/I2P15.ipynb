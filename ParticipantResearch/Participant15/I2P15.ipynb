{
 "cells": [
  {
   "cell_type": "markdown",
   "id": "7789414c-7fbb-4aaa-8325-1194ee0943ba",
   "metadata": {},
   "source": [
    "# Data\n",
    "1. Questions remaining from interview 1:\n",
    "    1. Q7: What would you describe as your ability to achieve that learning goal?\n",
    "        1. Participant asks for clarification, do I mean academic ability? I clarify that I mean ability to meet their stated learning goal \"to learn how to compile Scala so it will behave as though it were JavaScript.\"\n",
    "        2. Participant states that the learned some Scala in the course, but they failed in that goal to learn how to \"re-compile Scala as though it were JavaScript\".\n",
    "        3. The participant explains that they don't believe that could likely explain the course topics now in review of the course. For many courses that the student has taken, they feel like they could go back and review the assignments from that course, and explain at some high level what the goal of that assignment was. However, they don't believe that they could do this for CSCI 3155.\n",
    "        4. QUOTATION: \"I don't think that I could realistically explain the goal [of the course today].\"\n",
    "    2. What impact, if any, did interviews grading have on your relation to that learning goal?\n",
    "        1. The participant explains that, at the beginning of the course, they would often enter the interview feeling as though they understood the learning objectives of the assignment. However, in the interview they would learn that they did not understand the topic sufficiently.\n",
    "        2. QUOTATION: \"I did not have the requisite knowledge to meet my goals.\"\n",
    "2. Questions form interview 2:\n",
    "    1. Q1:  Tell me about your favorite course in recent memory. What aspects of that course were positive for you? (We won't record the course name/title as it could potentially be used to identify you.)\n",
    "        1. We clarify that this question is not limited to Computer Science courses.\n",
    "        2. The participant describes a small course (around 30 people) in which students would complete readings before class, then enter pods of their peers (4 people) to discuss the reading at class before having larger discussions across all students. They explain that throughout the course, they made many close connections and even friends that they are still connected to today and working together to reconstruct similar experiences in new domains. By the end of the course, this participant felt comfortable enough talking with their peers that they would learn about eachothers lives beyond the classroom \n",
    "    2. Q2: Tell me about your most recent positive experience in a course that had 200 or more students. In particular, a course where the full course was positive and not only a singular event in the course. What made it a positive experience? (We won't record the course name/title as it could potentially be used to identify you.)\n",
    "        1. QUOTATION: \"This one is going to be mildly challenging.\"\n",
    "        2. Then describes their experience in CSCI 3155. They explain that while there were many negatives in their experience (as well as their peers), the course had a somewhat unique feature for a large classroom. **Students felt comfortable collaborating.** They detail how many students often felt confused, but they genuinely wanted to learn. They would try to attend office hours, but there would be too many students that needed help from too few staff members and often the students could not get consistent help from the staff and would instead be forced to work with their peers. One benefit that the participant observed from this however is that their peers were often more able to explain the concept in simple language that was devoid of the theoretical jargon used in the course.\n",
    "            1. QUOTATION: \"I don't think people really understand what an axiom is [despite it being a prerequisite in discrete structures and perhaps algorithms].\"\n",
    "            2. NOTES: 3155 is the first time since 1300 that this student would see more than 20 students at office hours for one person? SPWI: right place?\n",
    "    3. Q3: Tell me about your most recent negative experience in a course that had 200 or more students. In particular, a course where the full course was negative and not only a singular event in the course. What made it a negative experience? (We won't record the course name/title as it could potentially be used to identify you.)\n",
    "        1. The participant describes a course that has 200 students split across many small sections. Each section has a unique professor and a unique syllabus so section A will not be the same as section B and it is difficult to seek assistance on the concepts from people taking other sections of the course. The particular section of the course that this participant took has a professor that consistently cannot explain concepts in a simple and comprehensible way. The participant states the first exam in this course had too many questions on the exam relative to the time provided and failed most of the students even after a curve was applied. The professor suggested that students should review past homeworks to prepare for the exam, however the hyper-majority of past homeworks had not been graded and returned to students by the time of this exam.  The course had no additional staff beyond the professor and so office hours were only hosted by the professor, but the participant feels that if lecture was not effective for learning the material than office hours would also not be effective.\n",
    "        2. The participant states that they used ChatGPT to aid in their studying for the exam by prompting it for questions to study. While ChatGPT was able to help some in constructing simple examples, the prompting given did not create examples that were sufficiently challenging to prepare the student for this exam.\n",
    "    4. Q4: This research study is exploring the challenges faced in CSCI 3155 as we continue to see larger enrollments over time. We are exploring ways to provide value to our students at these larger scales. As a student in Fall 2022 CSCI 3155, what aspects of the course helped in your ability to meet your goals?\n",
    "        1. The participant takes a long pause, then breaks the silence with \"Honestly, it's hard for me to say.\"\n",
    "        2. \"Collaboration\": In a word the participant states that collaboration was key. **The student explains that Evan would explicitly encourage students to collaborate where other large classes often imply this but do not explicitly state it.** They would see this collaboration manifest at office hours when students were not being helped by members of the course staff and deferred to peer collaboration instead. Then, beyond office hours as people wanted to continue working together to solve problems from the course the same collaboration is observed.\n",
    "        3. FOLLOWUP: What aspects of the course impeded your ability to meet your goals?\n",
    "            1. The participant describes how recitation should be a helpful recourse but students would often leave recitation more confused than when they entered. The TA was not effective in linking the theoretical concepts back to code as necessary for success in the course.\n",
    "            2. The participant notes that lecture was 1 hour and 15 minutes of heavy amounts of content. They acknowledge that Even does is best to ask \"Does anyone not understand this topic?\" However as a student, if you feel confused on the topic, you'd rather stay quiet and ask friends later than admit openly in class that you don't understand some topic.\n",
    "            3. The participant describes that in this course, the theory and code felt like they were very separate. They felt like there were many big gaps between the concepts and they struggled to relate them to each other.\n",
    "            4. The participant explains how the count of available office hours were limited relative to the number fo people that needed them. This was the first course for the student that they have seen 20+ people in one office hour since 1300. However this block of access to conventional methods of assistants is what lead this participant to further collaboration with their peers.\n",
    "                1. QUOTATION: \"Most students didn't feel [office hours] were very useful, just because there were too many other people.\"\n",
    "                2. FOLLOWUP: You note that most students felt lost in the course, however you also note that many students were willing to collaborate and this helped in your learning. Could you please explain how both of these matters are true?\n",
    "                    1. The participant explains how most people in the class would brute force changes to their code until they pass one of the provided test cases. Once someone had passed a test, they would invite others over to view what they changed in the code and what test was passed. Then, students would start to work together to understand why this change to the code resulted in passing that test. It's not that students were using much critical thinking in constructing solutions to the lab, but rather that they were retro-actively learning what makes a correct solution correct.\n",
    "                    2. The participant goal on to explain how so much of the course labs were solved with collaboration, then the exams did not allow for collaboration, so the students felt lost and performed poorly.\n",
    "                    3. They note that the Canvas course for Fall 2022 CSCI 3155 still appears as a course that they are currently taking as students final grades were never submitted on Canvas.\n",
    "                    4. They note that there is a rumor regarding the final exam from Fall 2022, that \"Everyone did so poorly that the results were not released.\"\n",
    "3. FOLLOWUP: Tell me about your most recent positive experience in a course that had 200 or more students. In particular, a course where the full course was positive and not only a singular event in the course. What made it a positive experience? (We won't record the course name/title as it could potentially be used to identify you.)\n",
    "    1. Asked over email: Did you want to detail another large course that isn't PPL. You can state it with full transparency first, and then we can agree on terms that you are comfortable will not uniquely identify you for the study."
   ]
  },
  {
   "cell_type": "markdown",
   "id": "7ccf117d-90c9-455a-9e35-df6f1a8fdb55",
   "metadata": {},
   "source": [
    "# Reflection\n",
    "* clearly values relationships with others and collaboration\n",
    "* I infered **The student explains that Evan would explicitly encourage students to collaborate where other large classes often imply this but `do not clearly explain the boundaries of collaboration.`** and I think that we still fail on that last part of clearly explaining the boundaries of collaboration. I think that the grad class quiz question is a good idea to bring up on a few occasions in CSCI 3155."
   ]
  }
 ],
 "metadata": {
  "kernelspec": {
   "display_name": "Python 3 (ipykernel)",
   "language": "python",
   "name": "python3"
  },
  "language_info": {
   "codemirror_mode": {
    "name": "ipython",
    "version": 3
   },
   "file_extension": ".py",
   "mimetype": "text/x-python",
   "name": "python",
   "nbconvert_exporter": "python",
   "pygments_lexer": "ipython3",
   "version": "3.12.1"
  }
 },
 "nbformat": 4,
 "nbformat_minor": 5
}
