{
 "cells": [
  {
   "cell_type": "markdown",
   "id": "49cfa632-af05-4981-84c5-c70381e16f34",
   "metadata": {},
   "source": [
    "# Data\n",
    "1. consent\n",
    "    1. took about 7 minutes\n",
    "    2. cuboulder email address is acceptable for data review process\n",
    "2. interview\n",
    "    1. Q1: As a student in 3155, what was your experience working with a \"lab partner\" on your labs? Please elaborate.\n",
    "        1. The participant describes that working with a partner was generally a positive experience. While the individual partners were \"hit or miss\", most of their partners were good to work with. In particular they note how there were some members of the class that seemed \"obnoxious\" whom they would not like to work with, and they were glad to have never been paired with those individuals.\n",
    "        2. QUOTATION: \"I did like having a lab partner rather than doing it by myself.\"\n",
    "        3. They appeared hesitant to say something, so I asked them what it was about. They state that it didn't feel relevant. I note that everything is relevant. They then note that communication between partners could often be improved. They describe this as something that the individual students can do. I did acknowledge that this actually may be something that we could help to scaffold in the future.\n",
    "    2. Q2: As a student in 3155, you had interview grading with a member of the course staff. What was your typical process to prepare for this interview? Did it evolve over the course of the semester?\n",
    "        1. The participant states that they would typically review the labs and ask their friends what \"kinds of questions\" were on the interviews. They clarify that they would ask their peers \"What questions were asked\". They also clarify that upon knowing the question they would typically have a good idea about how to answer the question for themselves and they cannot recall ever asking a peer for the answer to a question specifically.\n",
    "        2. We return to this question after answering question 3. The participant is looking into the air and actively appears to be thinking. I ask them what they are thinking about and they explain that they are trying to recall if they ever asked a peer for answers to the interview questions. I followup and ask them what resources they would typically use if they knew the question for the interview, but they didn't know the answer. They explain that they would typically use the internet or discuss the core concepts with their peers. This came with a remark that they recall the textbook for this course not being particularly helpful to assist in their learning.\n",
    "    3. Q3: As a student in 3155, what was your experience working with a \"grader\" for your interviews at the end of the lab? Please elaborate.\n",
    "        1. They describe a question about a red-black tree at the beginning of the semester and how their TA leading the interview was very helpful in guiding them toward a correct answer. So helpful in fact that they even remembered this and leveraged it when answering a similar question on the final exam.\n",
    "        2. They describe how they often had a different TA for each interview and there was a **lack of consistency** across how much the TAs were willing to give hints versus saying; well \"if you don't know how to answer this, then we'll move on to the next question\" - the participant found this \"frustrating\".\n",
    "        3. QUOTATION: \"Sometimes they were more stingy to give hints and sometimes they were not.\"\n",
    "    4. Q4: What impact, if any, did the interviews have on your confidence to succeed in the course?\n",
    "        1. QUOTATION: \" I really liked having them to demonstrate knowledge beyond the code of the lab.\"\n",
    "        2. They describe how these interviews were helpful for them to understand their level of success with the lab and were worth it despite being sometimes difficult logistically to schedule.\n",
    "    5. Q5: Do you have experience with interview grading in other courses? If so, how did those experiences compare to your experience in 3155?\n",
    "        1. They describe how they always find grading interviews to be stressful, and perhaps more so with PPL as the interviews were more heavily weighted in this course compared to other courses that use grading interviews. They note that in general they have found that the grading interviews are a good way to demonstrate that you know how your code works and that you did not just copy and paste your solutions for the code. They generally have a positive opinion about grading interviews.\n",
    "    6. Q6: What would you describe as your learning goal for 3155?\n",
    "        1. They note that the didn't have a goal for the course as QUOTE \"The Principles of Programming Languages is kind of a vague name\" for a course and they were not sure what to expect. They had heard that the course was similar to compilers.\n",
    "        2. QUOTATION: \"I wanted to get the class over with and get an A.\"\n",
    "        3. QUOTATION: \"By the end of the term I was annoyed with the course and wanted to be done with it.\"\n",
    "        4. They explain how after the midterm exam they were less concerned about getting an A in the course, and more concerned about not failing the course.\n",
    "    7. Q7: What would you describe as your ability to achieve that learning goal?\n",
    "        1. The participant explains that this was difficult to achieve. They remark the course never had a break, there was always \"two more weeks\" of work to be done. They felt that some kind of break would have been helpful for morale, as the end of one lab cam with the start of a new lab which would compound any negative emotions which they were currently feeling about the course.\n",
    "        2. I follow up to ask about this morale over time in comparison to the midterm exam. They explain how the midterm exam was QUOTE \"less morale killing for me\" and that the labs were a larger issue. They explain how they did well on the midterm exam relative to the \"curve\" but their score was still poor relative to what they were expecting based on their knowledge of the material. They then explain how the offer to have two separate grading systems was concerning to them.\n",
    "        3. QUOTATION: \"I didn't know what was going to happen.\" [in reference to their grade]\n",
    "    8. Q8: What impact, if any, did interview grading have on your relation to that learning goal?\n",
    "       1. They do not find these topics to be particularly related. They needed to pass the course and the interviews helped with this in some ways.\n",
    "       2. They state that learning the material became a secondary goal for them.\n",
    "       3. They describe how just before an interview they would have a low morale, but after the interview was over they had a higher morale as they were not judged only on their \"bad code\" but also on their total mastery of the content."
   ]
  },
  {
   "cell_type": "markdown",
   "id": "6c6cc926-29d9-4b5c-9eeb-75eff2c1c91a",
   "metadata": {},
   "source": [
    "# Reflection\n",
    "* QUOTATION: \" I really liked having them to demonstrate knowledge beyond the code of the lab\"\n",
    "    * I interpret this as being the chance to ask and answer these questions and less about the actual working with a member of the course staff."
   ]
  }
 ],
 "metadata": {
  "kernelspec": {
   "display_name": "Python 3 (ipykernel)",
   "language": "python",
   "name": "python3"
  },
  "language_info": {
   "codemirror_mode": {
    "name": "ipython",
    "version": 3
   },
   "file_extension": ".py",
   "mimetype": "text/x-python",
   "name": "python",
   "nbconvert_exporter": "python",
   "pygments_lexer": "ipython3",
   "version": "3.12.1"
  }
 },
 "nbformat": 4,
 "nbformat_minor": 5
}
