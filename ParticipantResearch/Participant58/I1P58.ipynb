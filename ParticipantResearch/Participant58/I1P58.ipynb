{
 "cells": [
  {
   "cell_type": "markdown",
   "id": "05511a4e-bc91-4cf7-a85f-7533ced79d93",
   "metadata": {},
   "source": [
    "# DATA\n",
    "1. consent\n",
    "    1. took about 10 minutes\n",
    "    2. the participant had pre-read the document\n",
    "    3. One clarifying question was asked on the matter of \"up to three interviews\". We confirmed that this is a maximum number of interviews planned for the study. Each interview is agreed to separately and the participant can choose to do less interviews.\n",
    "2. Interview\n",
    "    1. Q1: As a student in 3155, what was your experience working with a \"lab partner\" on your labs? Please elaborate.\n",
    "       1. The participant explains that it has been a while since they took the course so it's a bit hard to remember exactly. However, it felt like a \"mixed bag\". Sometimes they would be with a partner that they knew and worked well with. In those cases they would work together on the lab and collaborate in solutions. However, if they didn't know the lab partner or couldn't communicate with them then each student would do the work individually and submit a complete solution without really understanding the work that the other lab partner submitted.\n",
    "    2. Q2: As a student in 3155, you had interview grading with a member of the course staff. What was your typical process to prepare for this interview? Did it evolve over the course of the semester?\n",
    "       1. The participant notes that at the begining of the course they were working to understand the code. However, the course quickly pivoted to a point where the student did not understand the material and would crowd-source interview questions and solutions with other students that had previously completed the interviews.\n",
    "       2. The participant states while laughing \"[This makes me look like such a bad student.]\" We pause the interview to discuss that statement. We discuss that:\n",
    "            1. this information will undergo data review process and it is the students right to demand the data be deleted.\n",
    "            2. this is not a unique experience of the student, other students were approaching the interviews the same way.\n",
    "            3. The goal of this research study is to collect data on student behaviors and in no way assign blame or judgment onto student actions.\n",
    "    3. Q3: As a student in 3155, what was your experience working with a \"grader\" for your interviews at the end of the lab? Please elaborate.\n",
    "       1. We confirm that this question is asking about the grader conducting an interview.\n",
    "       2. The participant states that the interviews were not helpful. They found themselves focusing on trying to get the highest grade possible and that there were not many resources to clarify their understanding if they were lost.\n",
    "       3. QUOTATION: \"[During that class people didn't understand the material.]\"\n",
    "    4. Q4: What impact, if any, did the interviews have on your confidence to succeed in the course?\n",
    "        1. The participant states that the interviews did not impact their confidence in the course as they were solely focused on their grade.\n",
    "    5. Q5: Do you have experiences with interview grading in other courses? If so, how did those experiences compare to your experience in 3155?\n",
    "        1. The participant has had interview grading in a few other courses. They note a few computer science courses only and describe the interviews to be a similar experience to 3155 in that they would focus on getting the best grade possible.\n",
    "        2. The participant remarks that while all of the interviews in past courses have been focused on the learning objectives of some assignment, PPL appears to be unique in asking students to code something quickly.\n",
    "    6. Q6: What would you describe as your learning goal for 3155?\n",
    "        1. The participant states that they never developed a specific goal for the course. Before the course started they did not know what to expect of this required course. Throughout the course they did develop any goals beyond the stated goals of the course.\n",
    "        2. In follow up discussions we discover that the student's standard goal is to get the highest grade possible in any course and this was true for this course as well.\n",
    "        3. QUOTATION: \"[I know it's hard for teachers when students are so focused on the grade over the content. Or at least I think it would be.]\"\n",
    "    7. Q7: What would you describe as your ability to achieve that learning goal?\n",
    "        1. Here we paused the interview to review the consent for participation in this research study. We confirm that I shall not release this participants identity nor report any matters of academic integrity to the honor council or to their past professor. Information shared in the interview is between myself and the participant unless in violation of the mandatory reporting act (matters of violence) and beyond what is shared the participant has the right to demand that any and all information recorded be deleted. \n",
    "        2. The participant states that they would do what they needed to to succeed in the lab. There are old labs and solutions available on the internet that the student would get access to and use as the basis of their solution to the lab. \"[It's not because I wanted to cheat but rather because I did not understand the content well enough.]\" In follow up discussions the participant explains that it's not that they would copy and paste solutions from other labs, but ratter that they would do their best to understand the topics. However, as the course progressed, despite their effort to understand the material and at least write the code themselves it was about as helpful conceptually as copy and pasting the solutions.\n",
    "    8. Q8: What impact, if any, did interview grading have on your relation to that learning goal?\n",
    "        1. The participant explains that the interview grading was simply one aspect of the course that they needed to work with to get the highest grade possible.\n",
    "3. Post interview question in followup and data review\n",
    "    1. QUESTION: One more clarifying question for you: When you say \"get the highest grade possible\" are you referring to a percentage out of 100 in the course, or are you referring to the final letter grade?\n",
    "        1. RESPONSE: I meant the highest letter grade possible. So my goal was to get an \"A\" in the course. I will add that I think 3155 is the only course where I think by the end of the course, I just wanted to pass the class because I was in danger of failing (I think). I remember there being two grading systems and the reason I chose one of them was because there was a possibility of failing the class with the other one. I have no idea if this helps in any way but that was my experience. "
   ]
  },
  {
   "cell_type": "markdown",
   "id": "e9ce476c-0c77-4e06-bd46-936ba984ce3b",
   "metadata": {},
   "source": [
    "# Reflection\n",
    "* This is a decision about whether the participant chooses to trust me as the researcher.\n",
    "    * There are many question of trust in the research and vulnerable populations from IRB CBD Citi training as well as INFO 5505 Designing for Creativity and Learning\n",
    "* NOTE: I ask for explicit permission to publish the followup question and response stating: \"I recall that a huge number of students selected the alternate grading criteria so I don't believe that risks exposing you as an individual, but it is something I want to bring to your attention as you decide if that is appropriate for me to share and publish in my data.\"\n",
    "* What was the grading option thing that we proposed? I didn't pay much attention to it at the time:\n",
    "    * Summing up the class discussion from November 15, the original policy has always been with your best interest in mind: (1) not penalizing your grade while you learn from mistakes, (2) enabling you to fully demonstrate your level of mastery, (3) having certainty that letter grades will be adjusted to account for differences in exams. In particular, if you have the median score, your letter grade will never be worse than a B-. With this intent, the original policy weighs 45% on learning activities and 55% on exams with rescaled cutoffs. The rescaled A/B/C cutoffs will never be above 90/80/70, but for example, the A/B/C cutoff could be 89/73/66 so that B cutoff is a little below the median of 75. In fact, these are the cutoffs right after the midterm.\n",
    "    * At the same time, we recognize the stress in the uncertainty of where exactly the cutoff will be. In response, the potential new policy that you may opt into is to fix the A/B/C letter-grade cutoffs to 90/80/70 by putting more weight on the learning activities (65%) and less on the exams (35%). With this policy, you know what you need to score on the final exam going into it to get the letter grade you want.\n",
    "* Main takeaway for me: \"[It's not because I wanted to cheat but rather because I did not understand the content well enough.]\"\n",
    "* How does the information from participant 58 inform the process of peer interview grading?\n",
    "    * I'm not certain that it does. The answers to these questions are really helpful for general knowledge of the students, but it's not immediately obvious that this informs what a peer interview grading situation will be.\n",
    "    * It does prompt one very good discussion, how do we support students that want to get an A in this environment while also helping them understand that this course is different and an A is found by doing the work and being honest along the way. Like if everyone was honest with each lab, the course staff would have score data that helps us really understand the picture of students cognition level on the topics of interest and then we can adapt the course accordingly. But it's well documented that CS has high percentages of academic dishonesty. And also the students exist in an environment where they feel the need to prioritize a grade over their learning. The un-grading model suggests some solutions to this, but it still doesn't address that so many students behave unethically and it also doesn't scale well. We could just get rid of the impact of these events on the student grade and go to exams only, but that would be so incredibly stressful for the student. Instead, do we change the formative assessment grading process to acknowledge student performance and grade on completion, not correctness, then review the data on where students get? I fear that many students would be lazy and just turn in incomplete work then be caught off guard that they were not ready for the exam as they forget that they didn't actually do the work to begin with. I fear that happens in this course already though and it does so while encouraging our students to take shortcuts in their learning (like asking others for exact answers).\n",
    "    * Again, how does this inform interview grading.\n",
    "    * So the student is trying to get an A by any means necessary. They were taking shortcuts in preparing for the interview with a grader. They were trying to learn the questions and memorize answers prior to the interview without necessarily knowing the meaning or value of the questions and the answers. Was there value for the student in learning? Maybe they got something in building social networks and maybe they learned some of the material. So what would it look like if they did a peer interview? Supposing they really just want an \"A\", they might just say they did it and totally move on. Although, this quote inspires me \"[It's not because I wanted to cheat but rather because I did not understand the content well enough.]\". It is probable, that for this student, if they were given good scaffolding for the interview to conduct with their peer and a chatAI like ChatGPT as an additional digital peer, then the student would honestly learn more from that exercise then they would from their current approach to the interviews. They would be forced to learn the material\n",
    "        * the current process for this student is: find old labs to complete the lab. Learn some of what you can from the lab by writing the code yourself (not just copy and paste) but not solve the problems yourself. Once lab is complete, perform a timed proctored event to assess your learning but come in with solutions memorized already.\n",
    "        * the new process: find old labs to complete the lab. Learn some of what you can from the lab by writing the code yourself (not just copy and paste) but not solve the problems yourself. Once lab is complete, work with lab partner to answer questions about the lab. have solutions in front of you which clearly detail the correct solution, why the solution is correct, and what some alternative solutions might look like.\n",
    "            * RISK: this document then makes it easier for next generation to compromise the integrity of the labs. Having said that, I think we are past that point and I've been a big fan of having more lab specific content that helps people learn the labs rather than only getting solutions for the labs, so I'd be comfortable with that risk. It would be good to discuss with Evan through the review of the paper."
   ]
  }
 ],
 "metadata": {
  "kernelspec": {
   "display_name": "Python 3 (ipykernel)",
   "language": "python",
   "name": "python3"
  },
  "language_info": {
   "codemirror_mode": {
    "name": "ipython",
    "version": 3
   },
   "file_extension": ".py",
   "mimetype": "text/x-python",
   "name": "python",
   "nbconvert_exporter": "python",
   "pygments_lexer": "ipython3",
   "version": "3.12.1"
  }
 },
 "nbformat": 4,
 "nbformat_minor": 5
}
