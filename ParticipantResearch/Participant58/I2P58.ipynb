{
 "cells": [
  {
   "cell_type": "markdown",
   "id": "6cec48f2-b0f6-434d-b3b8-1040d9c610fd",
   "metadata": {},
   "source": [
    "# DATA\n",
    "1. Q1. Tell me about your favorite course in recent memory. What aspects of that course were positive for you? (We won't record the course name/title as it could potentially be used to identify you.)\n",
    "    1. Participant describes a course where they have an opportunity to work on both the big picture as well as the code. They enjoy that they get to create their own ideas.\n",
    "    2. The participant reveals that they really don't enjoy coding.\n",
    "2. Q2. Tell me about your most recent positive experience in a course that had 200 or more students. In particular, a course where the full course was positive and not only a singular event in the course. What made it a positive experience? (We won't record the course name/title as it could potentially be used to identify you.)\n",
    "    1. The participant explains that they have not had many courses with over 200 students, they cannot remember many of them. The last time that they took a course with this many people would likely have been when courses were fully remote due to the CoVid shutdowns.\n",
    "3. Q3. Tell me about your most recent negative experience in a course that had 200 or more students. In particular, a course where the full course was negative and not only a singular event in the course. What made it a negative experience? (We won't record the course name/title as it could potentially be used to identify you.)\n",
    "    1. CONTEXT: This question was adapted to \"large courses\" rather than 200+ students.\n",
    "    2. The participant describes a course that they took over the past year. The course had very challenging topics to cover and in turn, the assignments and exams were hard.\n",
    "    3. FOLLOWUP: Is there nuance in how a course difficulty impacts whether you enjoy the course?\n",
    "        1. The participant explains that the the difficulty of a course and their enjoyment of the course are strongly negatively correlated. As the course material is harder, they tend not to enjoy the course as much. Although, it is also a question of the subject matter. If the participant likes the content, then they might enjoy the course as a whole.\n",
    "    4. FOLLOWUP: was the course described in question 1 easy?\n",
    "        1. The participant explains that the course discussed in question 1 is easier than \"other CS courses\". The course is structurally easier with less strict assignments and exams.\n",
    "    5. FOLLOWUP: Please note that this interview is not strictly about computer science courses. Knowing this, does that change your answer to any of the above questions?\n",
    "        1. Building on the fact that the  participant does not enjoy coding, the participant notes that there is a series of elective courses which they have taken where they enjoy the domain of study more. Accordingly they don't find themselves bored, they are very engaged with the topic and they enjoy learning more.\n",
    "4. Q4. This research study is exploring the challenges faced in CSCI 3155 as we continue to see larger enrollments over time. We are exploring ways to provide value to our students at these larger scales. As a student in Fall 2022 CSCI 3155, what aspects of the course helped in your ability to meet your goals?\n",
    "    1. CONTEXT: participant goal is to \"get the highest grade possible\" (to get an \"A\").\n",
    "    2. The participant quickly answers that Office hours and working with peers helped them to meet their goals. They would work with their peers to know answers to expected questions.\n",
    "    3. FOLLOWUP: To clarify, was that working with peers and Office Hours to understand the content or to find the answers to the questions?\n",
    "        1. The participant was focused on answering the questions for the lab as that was the requirement presented to them to get the highest grade possible in the course.\n",
    "    4. FOLLOWUP: What aspects of the course impeded your ability to meet your goals?\n",
    "        1. The participant details how they did not enjoy the method used for teaching CSCI 3155 in Fall 2022. The method felt more like a large Q&A session as opposed to what the student was familiar with. They stated that they did not like how they were expected to review the lab material before class and come to class with questions to cover. The participant describes it as \"new and weird to me.\" Additionally, the tests were hard.\n",
    "            1. QUOTATION: \"I did not really enjoy the method of instruction.\"\n",
    "            2. QUOTATION: \"I didn't know what questions would be effective to ask.\""
   ]
  },
  {
   "cell_type": "markdown",
   "id": "4d9475d8-72d1-4d9e-b9a3-ec3511df6a21",
   "metadata": {},
   "source": [
    "# Extra Note\n",
    "The participant has a **mild preference** that I meet with them again before Spring Break rather than after the break."
   ]
  },
  {
   "cell_type": "markdown",
   "id": "70eecccf-2b80-4e2d-8150-4bab01419a45",
   "metadata": {},
   "source": [
    "# Observation\n",
    "1. most of there courses have been smaller than 200 somehow?!\n",
    "2. there is a clear line of intrinisic motivation to learn vs taking a course to get an A and how it impacts the student's performance.\n",
    "3. they don't enjoy coding\n",
    "4. I feel more confident based on the language used to place this as the \"understand\" persona. Their motivation is a good thing to add to the persona as well. It is clear that the motivation is to get the correct answer to get an A and not to learn the content and apply it to new situations. This is perfectly acceptable and not stated here with judgment, but it is clear to me in my interpretation of the data presented.\n",
    "    1. **The participant was focused on answering the questions for the lab as that was the requirement presented to them to get the highest grade possible in the course.**"
   ]
  }
 ],
 "metadata": {
  "kernelspec": {
   "display_name": "Python 3 (ipykernel)",
   "language": "python",
   "name": "python3"
  },
  "language_info": {
   "codemirror_mode": {
    "name": "ipython",
    "version": 3
   },
   "file_extension": ".py",
   "mimetype": "text/x-python",
   "name": "python",
   "nbconvert_exporter": "python",
   "pygments_lexer": "ipython3",
   "version": "3.12.1"
  }
 },
 "nbformat": 4,
 "nbformat_minor": 5
}
