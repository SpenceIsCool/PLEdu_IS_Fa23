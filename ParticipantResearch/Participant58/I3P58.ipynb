{
 "cells": [
  {
   "cell_type": "markdown",
   "id": "86c2c889-3606-4c99-8a3a-2bad1408578f",
   "metadata": {},
   "source": [
    "# Data\n",
    "*  NOTE: the research participant states their learning goal in earlier interviews as \"to get an A\" to get the highest grade possible, as being more important than learning the material per-say.\n",
    "\n",
    "1. In the recent focus group you wrote a self-reflection about what you learned in the interview. What was your experience writing this reflection?\n",
    "    1. The participant feels neutral about the experience of writing the self reflection.\n",
    "2. What impact, if any, did this peer-interview have on your confidence to master the topic of BNF grammars?\n",
    "    1. They explain how having the answer sheet available to them made it easier to know they were doing the right thing when working with the partner in peer-interview.\n",
    "    2. They state that without having the answer sheet available they would have been \"way less confident\"\n",
    "3. `< here we will remind the students of their learning goal for the course >`\n",
    "4. What impact, if any, would you expect that peer-interview grading would have on your relation to that learning goal?\n",
    "    1. They perceive the structure of the peer-interview as being more about learning. In their experience at the focus group they were able to work through it together and correct mistakes as they went.\n",
    "    2. QUOTATION: \"It made it more appealing to learn it.\"\n",
    "    3. QUOTATION: \"It was like having another study partner.\"\n",
    "5. `< here we will debrief the research participants on the current direction of the research study >`\n",
    "6. Do you have any questions or ideas with regards to this research study?\n",
    "    1. The participant had no notes on the matter."
   ]
  },
  {
   "cell_type": "markdown",
   "id": "9f8e5445-481c-4896-b3b3-0457d336d0c4",
   "metadata": {},
   "source": [
    "# Reflections and Observations\n",
    "* should the interview be with the lab partner? should it be with someone else? logistically harder to use someone else, but perhaps would yield a better result as students want to have trust and relative success levels. It also could be neat for students to see how a completely different student team solved the problem."
   ]
  }
 ],
 "metadata": {
  "kernelspec": {
   "display_name": "Python 3 (ipykernel)",
   "language": "python",
   "name": "python3"
  },
  "language_info": {
   "codemirror_mode": {
    "name": "ipython",
    "version": 3
   },
   "file_extension": ".py",
   "mimetype": "text/x-python",
   "name": "python",
   "nbconvert_exporter": "python",
   "pygments_lexer": "ipython3",
   "version": "3.12.1"
  }
 },
 "nbformat": 4,
 "nbformat_minor": 5
}
