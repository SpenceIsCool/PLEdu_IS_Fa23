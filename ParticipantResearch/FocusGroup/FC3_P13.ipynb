{
 "cells": [
  {
   "cell_type": "markdown",
   "id": "27ab9455-d9a9-4177-90ed-67528ca3bc0e",
   "metadata": {},
   "source": [
    "# Disclaimer\n",
    "Due to the lack of availability for additional participants, this interview was conducted 1:1 with participant 13 and the researcher. The researcher played the role of \"peer\" for interview purposes."
   ]
  },
  {
   "cell_type": "markdown",
   "id": "bb3328cc-2944-480d-829c-cc6024101b9d",
   "metadata": {},
   "source": [
    "# briefing and consent\n",
    "* verbal consent from the participant was made."
   ]
  },
  {
   "cell_type": "markdown",
   "id": "33755a35-1263-476a-bafc-d664d8233cad",
   "metadata": {},
   "source": [
    "# Lecture on BNF grammars\n",
    "* Prior to the lecture, the participant states that they have never heard of a \"BNF grammar\"\n",
    "* During the lecture, they realizes and comment that this is what they learned in 3155.\n",
    "* QUOTATION: \"I haven't used these since PPL, so I didn't recognize the name BNF.\""
   ]
  },
  {
   "cell_type": "markdown",
   "id": "0863dbd3-2c1c-40ee-8b92-9bdd23bc4a52",
   "metadata": {},
   "source": [
    "# Peer-interviews\n",
    "1. Question 1: Participant 13 (P13) interviews the researcher (R).\n",
    "    1. R: I think I could do something like \"Stack ::= EmptyStack | Push(n, Stack)\"\n",
    "    2. P13: basically, but perhaps give it a different name\n",
    "    3. R: writes \"LL ::= EmptyLL | Push(n, LL)\". Like this? Anything else?\n",
    "    4. P13: asks R to demonstate a sentence\n",
    "    5. R: 1 -> 2 as Push(1, Push(2, EmptyLL)))\n",
    "    6. P13: explains how that is right, and asks about the demonstrated example and if we want to force all sentences to have at least one data point.\n",
    "    7. R: \"LL ::= EmptyLL | Push(n, LL) | Leaf(n)\"\n",
    "    8. P13: yes, but then maybe you only want one or the other\n",
    "    9. R: So either: \"LL ::= EmptyLL | Push(n, LL)\" XOR \"LL ::= Push(n, LL) | Leaf(n)\". But why is that?\n",
    "    10. P13: not quite sure.\n",
    "    11. R: So this dis-ambiguates the grammar. \"LL ::= EmptyLL | Push(n, LL) | Leaf(n)\" allows for 1 -> 2 to be represented either as \"Push(1, Leaf(2))\" or \"Push(1, Push(2, EmptyLL)))\" but by only having one or the other option it is more obvious how the data must be represented.\n",
    "    12. P13: concurs\n",
    "2. Question 2: researcher (R) interviews Participant 13 (P13).\n",
    "    1. P13: QUOTATION \"I'm just gonna go to the examples first\"\n",
    "    2. P13: \"Bar\" is valid. \"Baz(Bar, 1, Bar)\" is valid. then those Bar could expand outward like \"Baz(Baz(Bar, 2, Bar), 1, Baz(Bar, 3, Bar))\". Bar is like a null child and Baz(Bar, 1, Bar) is like a leaf. I feel like this looks like sorting, but the example isn't sorted.\n",
    "    3. R: confirms that the data does not have to be sorted. But that's an interesting idea, can you say more about it what you mean?\n",
    "    4. P13: Explains how the number in the middle is a lot like a pivot point on a list. After some back and forth, P13 states that if we think about it in 3 dimensions it's like a tree. then realizes that it is obviously a binary tree.\n",
    "1. grading\n",
    "    1. P13: notes that R did well on the interview, but perhaps has room to grow\n",
    "    2. R: notes that it's probable a proficient (P) for them and not an advanced understanding (AU).\n",
    "    4. P13: states that they think it's not an AU, so probably P as they would need more time with the material to demonstrate more ability. \"It definitely didn't help that I forgot trees exist.\""
   ]
  },
  {
   "cell_type": "markdown",
   "id": "cae6e1de-08e9-4362-b473-79df2ec7a914",
   "metadata": {},
   "source": [
    "# Written reflections via google survey\n",
    "P13\n",
    "1. Prior to the interview, what was your level of understanding of the topic? [1 very bad - 5 very good ]\n",
    "    1. 3 - neutral\n",
    "2. After to the interview, what was your level of understanding of the topic? [1 very bad - 5 very good ]\n",
    "    1. 4 - good\n",
    "3. As an interviewee, what question did you answer?\n",
    "    1. Question 2: What is this Structure?\n",
    "4. As an interviewee, what did you believe your own grade on the question should be?\n",
    "    1. Proficient\n",
    "5. What, if anything, do you believe that you understand well about this topic? Be specific.\n",
    "    1. I believe that I can create example sentences and determine what is a valid sentence or not.\n",
    "6. What, if anything, do you believe that you DO NOT understand well about this topic? Be specific.\n",
    "    1. Definitely forgot about ambiguity and its role in grammars, so that was fun to remember."
   ]
  },
  {
   "cell_type": "markdown",
   "id": "e7eac374-776f-472f-9874-000766e02099",
   "metadata": {},
   "source": [
    "# Discussion \n",
    "1. What was your experience being interviewed by your \"peer\" for this interview?\n",
    "    1. P13 describes this as interesting. They further explain how they would often start each lab early in 3155. However, many of their lab partners would not start the lab at the same time. Accordingly, they found that they often needed to teach their lab partner about the lab after the lab was completed.\n",
    "    2. QUOTATION: \"I definitely helped people when I could.\"\n",
    "    3. They explain how it is valuable for their own learning to teach other people. They personally find that this helps them to learn by explaining it to another person.\n",
    "    4. They describe this in contrast to a typical interview process however, where it's not about collaboration, but more about getting the correct answer.\n",
    "2. What was your experience interviewing your \"peer\" for this interview?\n",
    "    1. They explain how it was difficult to figure out what \"role\" they should play during the interview.\n",
    "    2. QUOTATION: \"I found it best to let you think until you hit a wall. I let people do what they can. See the knowledge that they have. And then intervein [only if needed].\"\n",
    "    3. They note that they enjoy helping others.\n",
    "3. How did this interview compare to your most recent TA-interview?\n",
    "    1. They express that it has been a while since they have interviewed with a TA.\n",
    "    2. They note that this peer-interview is very different from a TA interview in a positive way as it felt like it was focused on student learning.\n",
    "    3. They explain how in a TA interview, the TA is supposed to help the student learn the material if they cannot answer the posed question. But that isn't how it worked in their personal experience. Many, perhaps most TAs, would take the following approach. They ask the question to the student. If the student cannot answer the question, then they just move on to the next question and do not support the student in their learning."
   ]
  },
  {
   "cell_type": "markdown",
   "id": "a102c115-c209-4a7e-8a8d-c128a02f2a56",
   "metadata": {},
   "source": [
    "# Process Reflection"
   ]
  },
  {
   "cell_type": "markdown",
   "id": "6fc94471-6374-41f6-86f6-faf5e9ac6c95",
   "metadata": {},
   "source": [
    "# Observations"
   ]
  }
 ],
 "metadata": {
  "kernelspec": {
   "display_name": "Python 3 (ipykernel)",
   "language": "python",
   "name": "python3"
  },
  "language_info": {
   "codemirror_mode": {
    "name": "ipython",
    "version": 3
   },
   "file_extension": ".py",
   "mimetype": "text/x-python",
   "name": "python",
   "nbconvert_exporter": "python",
   "pygments_lexer": "ipython3",
   "version": "3.12.1"
  }
 },
 "nbformat": 4,
 "nbformat_minor": 5
}
