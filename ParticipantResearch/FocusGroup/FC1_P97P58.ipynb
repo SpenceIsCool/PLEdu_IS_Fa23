{
 "cells": [
  {
   "cell_type": "markdown",
   "id": "bb3328cc-2944-480d-829c-cc6024101b9d",
   "metadata": {},
   "source": [
    "# briefing and consent\n",
    "* verbal consent from each participant"
   ]
  },
  {
   "cell_type": "markdown",
   "id": "33755a35-1263-476a-bafc-d664d8233cad",
   "metadata": {},
   "source": [
    "# Lecture on BNF grammars\n",
    "* Participants ask if they should be taking notes. I state that it is optional. We discuss the lecture content and they each have questions about the material.\n",
    "* P97 asks why the thing with red color \"Stack\" is not a valid sentence: \"Push( 5, Push( 2, ${\\color{red}{Stack}}$ ) )\"\n",
    "    * P58 observes that each sentence should end in the term \"`EmptySentence`\".\n",
    "    * I clarify that yes, this is true in a way, but technically it will end in \"`EmptySentence`\" followed by some correct number of closing parenthesis \"`)`\""
   ]
  },
  {
   "cell_type": "markdown",
   "id": "0863dbd3-2c1c-40ee-8b92-9bdd23bc4a52",
   "metadata": {},
   "source": [
    "# Peer-interviews\n",
    "* 15 minutes into the event\n",
    "* P58 asks P97 Question 1\n",
    "    * P58: asks the question\n",
    "    * P97: says \"RIP\"\n",
    "    * the participants laugh together\n",
    "    * it's quiet as P97 is working on it and states \"It's been a long time since I've done this\". \n",
    "    * P97: shows an example to chain some numbers together\n",
    "    * P58: confirms if there is an \"or\" in the language. \"I think it makes sense\", \"good job\"\n",
    "    * together they express uncertainty over the question and answer. they are very polite in this discussion. They ask if they can move on. I clarify if they are not certain as a team that they could review it together. They look at it and agree that the answer looks close enough, but they each express some uncertainty on the matter.\n",
    "* P97 asks P58 Q2\n",
    "    * P97: asks if they want to have it read to P58 or read it themselves.\n",
    "    * P58: reads it out loud and tries to make sense of it and starts to talk about it out loud\n",
    "    * P97: offers that it may be helpful to think of a concrete example.\n",
    "    * P58: agrees and tries something.\n",
    "    * They state \"I think\" this is valid but neither feels certain about it.\n",
    "    * P58: \"[I have no idea about the data structure. Lets see... popular data structures... Is this like a tree or something?]\"\n",
    "    * They find that it is a tree together. They discuss current value and left and right children. They discuss the solution document together. \"Bar is the end of the tree.\" They each express some interest in the discussion.\n",
    "    * P58: \"[and is Bar like a null? Does bar mean null?]\"\n",
    "    * P97: \"yeah, I think that is just like signifying that is the end of the tree.\"\n",
    "* grading: I re-explain the goal of doing this and how they are not expected in this time frame of the focus group to achieve \"Advanced Understanding\"\n",
    "    * P97: I feel like we are each approaching, but it makes sense for this experience\n",
    "    * P58: I think we are between approaching and proficient. I don't feel like there was a point where we were completely lost.\n",
    "    * P97: Notes that this happened mostly without followup questions from the interviewer of each question."
   ]
  },
  {
   "cell_type": "markdown",
   "id": "cae6e1de-08e9-4362-b473-79df2ec7a914",
   "metadata": {},
   "source": [
    "# Written reflections via google survey\n",
    "1. Each participant attempts to complete the survey on their phone.\n",
    "2. the survey does not work on the phone for P97. Something about which google account is being used for the survey. I'm surprised by this, we don't figure it out live and P97 completes the survey on their laptop.\n",
    "3. P58\n",
    "    1. Prior to the interview, what was your level of understanding of the topic? [1 very bad - 5 very good ]\n",
    "        1. 2 - bad\n",
    "    2. After to the interview, what was your level of understanding of the topic? [1 very bad - 5 very good ]\n",
    "        1. 3 - neutral\n",
    "    3. As an interviewee, what question did you answer?\n",
    "        1. Question 2: What is this Structure?\n",
    "    4. As an interviewee, what did you believe your own grade on the question should be?\n",
    "        1. Approaching\n",
    "    5. What, if anything, do you believe that you understand well about this topic? Be specific.\n",
    "        1. Being able to come up with sentences \n",
    "    6. What, if anything, do you believe that you DO NOT understand well about this topic? Be specific.\n",
    "        1. Applying to the structure. My tree was guess was an educated guess but a guess \n",
    "4. P97\n",
    "    1. Prior to the interview, what was your level of understanding of the topic? [1 very bad - 5 very good ]\n",
    "        1. 2 - bad\n",
    "    2. After to the interview, what was your level of understanding of the topic? [1 very bad - 5 very good ]\n",
    "        1. 4 - good\n",
    "    3. As an interviewee, what question did you answer?\n",
    "        1. Question 1: Linked Lists\n",
    "    4. As an interviewee, what did you believe your own grade on the question should be?\n",
    "        1. Approaching\n",
    "    5. What, if anything, do you believe that you understand well about this topic? Be specific.\n",
    "        1. I understand how to get a specific valid sentence from a grammar and how to create a new grammar based off a diagram of a data structure. I understood the underlying idea.\n",
    "    6. What, if anything, do you believe that you DO NOT understand well about this topic? Be specific.\n",
    "        1. I did not know how to write exactly the syntax, such as using Leaf(value) as a terminal node (I wrote v for value), but I did understand the underlying theory."
   ]
  },
  {
   "cell_type": "markdown",
   "id": "e7eac374-776f-472f-9874-000766e02099",
   "metadata": {},
   "source": [
    "# Discussion \n",
    "1. What was your experience being interviewed by your \"peer\" for this interview?\n",
    "    1. P97: \"it was chill.\"\n",
    "    2. P97: \"you're a good interviewer\"\n",
    "    3. They each agree that they think going over the solutions together was helpful.\n",
    "    4. P97: \"If I got the second question I wouldn't know how to solve it.\"\n",
    "    5. P58: \"that was me.\"\n",
    "    6. I follow up with a question to understand what was the thought process for P58 as they were trying to figure out which data structure it should be.\n",
    "        1. P58 explains that it was hard to figure out due to the grammar used in the interview. Then states that they thought about some common data structures and states, \"I thought it would be possible [that it is a binary tree]\".\n",
    "        2. P97 notes that the solutions document states that these were intentionally chosen poor variable names.\n",
    "2. What was your experience interviewing your \"peer\" for this interview?\n",
    "    1. Neither participant felt confident in hosting the interview as they personally didn't know the solutions.\n",
    "    2. P58: \"It almost felt like figuring it out together rather than interviewing the other person.\"\n",
    "    3. They agree that reading the solution made it obvious what the answer to the question should be.\n",
    "    4. P97: \"having more examples is nice. seeing more examples is a good thing.\"\n",
    "3. How did this interview compare to your most recent TA-interview?\n",
    "    1. It's been a long time since a TA interview for each participant. They agree it felt like lower pressure.\n",
    "    2. P58: \"since the student had a similar level of mastery it made it feel more friendly and helpful. Would be different with a student that is so much smarter.\"\n",
    "    3. P97: agrees\n",
    "    4. They discuss how it was less stressful that it is not for a grade. This is specifically in relation to a TA interview where You have to study everything in advance. Since it was not for a grade, they did what they could with the time that they had.\n",
    "    5. I ask a followup question about working with \"that\" student which is \"way smarter\" than themselves.\n",
    "        1. They each explain how there would be more social pressure to get the right answer and not look stupid in front of their peer.\n",
    "        2. P???: \"I don't want to look dumb\"\n",
    "        3. They discuss how, that isn't necessarily the person that they would want to study with. They explain how it would impose more social pressure to get to the right answer. They then discuss this in comparison to an interview with a TA where the social pressure isn't as strong. They state that they would be less scared of looking \"dumb\" in front of their TA vs a student that is taking the course at the same time as themselves.\n",
    "    6. I ask a followup question if they would find this +/-/neutral to have those social pressures. \n",
    "        1. P58: \"I rarely interact with my TAs outside of class.\"\n",
    "        2. The discuss how the social pressure makes it kind of scary and then discuss what it would be like to do this with a friend. They explain that with a friend in the class they would be more likely to give me the answer directly to their friend where as a TA will be more willing to wait for you to say what the answer should be and prompt you toward a correct answer without giving away the answer.\n",
    "        14. P97: states that \"I wouldn't prepare as much with a friend.\" I find this to be more of a collaborative experience.\n",
    "        15. P58: explains how a friend would be less pressure than a random student in the class and explains that many of their friends in classes are at a similar learning level."
   ]
  },
  {
   "cell_type": "markdown",
   "id": "a102c115-c209-4a7e-8a8d-c128a02f2a56",
   "metadata": {},
   "source": [
    "# Process Reflection"
   ]
  },
  {
   "cell_type": "markdown",
   "id": "6fc94471-6374-41f6-86f6-faf5e9ac6c95",
   "metadata": {},
   "source": [
    "# Observations"
   ]
  }
 ],
 "metadata": {
  "kernelspec": {
   "display_name": "Python 3 (ipykernel)",
   "language": "python",
   "name": "python3"
  },
  "language_info": {
   "codemirror_mode": {
    "name": "ipython",
    "version": 3
   },
   "file_extension": ".py",
   "mimetype": "text/x-python",
   "name": "python",
   "nbconvert_exporter": "python",
   "pygments_lexer": "ipython3",
   "version": "3.12.1"
  }
 },
 "nbformat": 4,
 "nbformat_minor": 5
}
