{
 "cells": [
  {
   "cell_type": "markdown",
   "id": "6e034719-9218-4cf8-bf28-d9e4adef2d8a",
   "metadata": {},
   "source": [
    "# Outline\n",
    "- 2 minute: briefing and consent\n",
    "- 8 minute lecture about a topic like a stack data structure and how it can be defined using BNF grammars\n",
    "- 15 minute peer-interviews occur simultaneously with all participants in teams of two\n",
    "    - introductions/ice-breaker\n",
    "    - 1 question about linked lists\n",
    "    - 1 question about binary trees\n",
    "    - lots of support structure around these questions as described in my paper including examples, hints, full solutions, and grading criteria\n",
    "- 5 minutes: written reflections, likely typed and sent to me as part of the data review process. (these will be used in the third interview of the research study with each participant) google survey\n",
    "- 30 minutes: discussion with 3 guided questions and 10 minute discussion sessions each\n",
    "    - What was your experience being interviewed by your \"peer\" for this interview?\n",
    "    - What was your experience interviewing your \"peer\" for this interview?\n",
    "    - How did this interview compare to your most recent TA-interview?\n",
    " "
   ]
  },
  {
   "cell_type": "markdown",
   "id": "201a7626-fe18-4eed-b138-310b7f3e9a4e",
   "metadata": {},
   "source": [
    "<br /><br /><br /><br /><br /><br /><br /><br /><br /><br /><br /><br />"
   ]
  },
  {
   "cell_type": "markdown",
   "id": "a3d00022-4b92-4d31-92c3-845ddce72555",
   "metadata": {},
   "source": [
    "# Outline\n",
    "- 2 minute: briefing and consent\n",
    "- 8 minute: Lecture on BNF grammars\n",
    "- 15 minute: Peer-interviews\n",
    "- 5 minutes: Written reflections via google survey\n",
    "- 30 minutes: Discussion "
   ]
  },
  {
   "cell_type": "markdown",
   "id": "00a95537-26a9-41b2-8ab8-a3e92f740caa",
   "metadata": {},
   "source": [
    "<br /><br /><br /><br /><br /><br /><br /><br /><br /><br /><br /><br />"
   ]
  },
  {
   "cell_type": "markdown",
   "id": "b4008310-5edb-47af-b174-cabcda250e5a",
   "metadata": {},
   "source": [
    "# Briefing\n",
    "- This event is composed of a brief lecture on Backus-Naur Form context-free grammars.\n",
    "- That is followed by an interview event that will be conducted in teams of two research participants.\n",
    "- Then each participant will complete a brief survey reflecting on what they learned through the experience.\n",
    "- Finally, we will have a group discussion about our experiences with the process.\n",
    "\n"
   ]
  },
  {
   "cell_type": "markdown",
   "id": "893cebd0-66b5-47b0-8a8d-cfd71bfe2b60",
   "metadata": {},
   "source": [
    "<br /><br /><br /><br /><br /><br /><br /><br /><br /><br /><br /><br />"
   ]
  },
  {
   "cell_type": "markdown",
   "id": "2fbb1e77-ca37-42c4-8e0a-b1a6b77ab490",
   "metadata": {},
   "source": [
    "# Consent\n",
    "- Consent is limited to this focus group event\n",
    "- **I request that all participants do not discuss this event openly with others, but `I cannot impose this as a requirement to participants.`**\n",
    "- Data\n",
    "    - Data will be offline on my laptop using your participant IDs\n",
    "    - Data will be distributed for your review using your preferred method of review.\n",
    "    - The review period of this event will be three days.\n",
    "    - Additionally, the survey data collected from the participants will be sent to the participant for review.\n",
    "    - During the review period you may demand that any and all of the data be stricken from the record.\n",
    "- Participation in this event is voluntary, you may leave at any time.\n",
    "- Any questions?\n",
    "- Do you consent to take part in this event?\n",
    "    - will need a verbal yes from each participant"
   ]
  },
  {
   "cell_type": "markdown",
   "id": "e17e9baf-29a1-434b-9180-45d3bec08fd1",
   "metadata": {},
   "source": [
    "<br /><br /><br /><br /><br /><br /><br /><br /><br /><br /><br /><br /><br /><br /><br /><br />"
   ]
  },
  {
   "cell_type": "markdown",
   "id": "883b4d1f-d18d-401d-bbd7-885a92da1fcf",
   "metadata": {},
   "source": [
    "# Lecture: Backus-Naur Form Grammars"
   ]
  },
  {
   "cell_type": "markdown",
   "id": "04a37412-4fe0-4d89-bf0b-62adca629760",
   "metadata": {},
   "source": [
    "<br /><br /><br /><br /><br /><br /><br /><br /><br /><br /><br /><br /><br /><br /><br /><br />"
   ]
  },
  {
   "cell_type": "markdown",
   "id": "a636f860-b598-454e-a9d1-57976e669a9a",
   "metadata": {},
   "source": [
    "## What is a stack?\n",
    "* Let me show you physically\n",
    "* I have a collection of papers that each have a number on them.\n",
    "* I will lay them down in a specific way\n",
    "* I'll discuss how we can build larger and larger stacks."
   ]
  },
  {
   "cell_type": "markdown",
   "id": "e98b6f60-e480-453d-bd88-b471ac5bf49c",
   "metadata": {},
   "source": [
    "<br /><br /><br /><br /><br /><br /><br /><br /><br /><br /><br /><br /><br /><br /><br /><br />"
   ]
  },
  {
   "cell_type": "markdown",
   "id": "0acff9e8-547a-476f-ab75-bdc41ed6988e",
   "metadata": {},
   "source": [
    "## How do we write this in Backus-Naur Form?"
   ]
  },
  {
   "cell_type": "markdown",
   "id": "8766c089-9967-452d-a27f-8a0573f026bc",
   "metadata": {},
   "source": [
    "<br /><br /><br /><br /><br /><br /><br /><br /><br /><br /><br /><br /><br /><br /><br /><br />"
   ]
  },
  {
   "cell_type": "markdown",
   "id": "75f6ac4c-96c5-44bd-a64c-c641bdfd04f7",
   "metadata": {},
   "source": [
    "* take one: a starting place\n",
    "$$\\begin{array}{rrll}\n",
    "{\\color{red}{Stack}} & ::= & EmptyStack \\\\\n",
    "&|& Push(\\; n,\\; {\\color{red}{Stack}}\\; ) & n \\in \\mathbb{N}\n",
    "\\end{array}$$\n",
    "<br /><br /><br />"
   ]
  },
  {
   "cell_type": "markdown",
   "id": "685e253d-a339-4487-984f-f41724e621a3",
   "metadata": {},
   "source": [
    "* take two: the order doesn't matter\n",
    "$$\\begin{array}{rrll}\n",
    "{\\color{red}{Stack}} & ::= & Push(\\; n,\\; {\\color{red}{Stack}}\\; ) & n \\in \\mathbb{N} \\\\\n",
    "&|& EmptyStack\n",
    "\\end{array}$$\n",
    "<br /><br /><br />"
   ]
  },
  {
   "cell_type": "markdown",
   "id": "0b4a96a8-5319-4298-a714-7800711eb54f",
   "metadata": {},
   "source": [
    "* Valid Sentences:\n",
    "    * EmptyStack\n",
    "    * Push( 2, EmptyStack )\n",
    "    * Push( 5, Push( 2, EmptyStack ) )\n",
    "* NOT Valid Sentences:\n",
    "    * Push( 5, Push( 2, ${\\color{red}{Stack}}$ ) )\n",
    "        * because ${\\color{red}{Stack}}$ is a **non-terminal** and we need the sentence to only contain **terminals** like 2, 5, Push, and EmptyStack\n",
    "    * Push( n, Push( n, EmptyStack ) )\n",
    "        * because `n` is a **meta-variable** that represents a number, but we need an actual number\n",
    "    * Push( \"hi\", Push( \"hello\", EmptyStack ) )\n",
    "        * because this grammar only allows for numbers as **terminal** data and not strings as data\n",
    "    * $\\frac{5}{\\frac{2}{EmptyStack}}$\n",
    "        * While pretty and shows one interpretation of a stack of numbers...\n",
    "        * this is not allowed.\n",
    "        * because we chose `Push` as the terminal that dictates how to put something on top of another stack\n",
    "        * See below for how to allow something like this\n",
    "<br /><br /><br />"
   ]
  },
  {
   "cell_type": "markdown",
   "id": "c38140b2-e7a8-440c-bec1-1f56160777bc",
   "metadata": {},
   "source": [
    "* take three: We can change the representation as well\n",
    "$$\\begin{array}{rrll}\n",
    "{\\color{red}{S}} & ::= & \\frac{{\\color{blue}{n}}}{{\\color{red}{S}}} & {\\color{blue}{n}} \\in \\mathbb{N} \\\\\n",
    "&|& {\\color{green}{X}}\n",
    "\\end{array}$$\n",
    "<br /><br /><br />"
   ]
  },
  {
   "cell_type": "markdown",
   "id": "bb7238cc-49b0-4364-a3b6-2b8f93300d56",
   "metadata": {},
   "source": [
    "* Valid Sentences:\n",
    "    * ${\\color{green}{X}}$ <br /><br />\n",
    "    * $\\frac{{\\color{blue}{2}}}{{\\color{green}{X}}}$<br /><br />\n",
    "    * $\\frac{{\\color{blue}{5}}}{\\frac{{\\color{blue}{2}}}{{\\color{green}{X}}}}$<br /><br />\n",
    "* NOT Valid Sentences:\n",
    "    * $\\frac{5}{\\frac{2}{EmptyStack}}$\n",
    "        * because we chose ${\\color{green}{X}}$ as our **terminal** rather than EmptyStack this time.\n",
    "<br /><br /><br />"
   ]
  },
  {
   "cell_type": "markdown",
   "id": "8b79d3b6-e1c5-4ad0-80d9-9d800825657d",
   "metadata": {},
   "source": [
    "## Q&A\n",
    "LIVE: What questions do we have?"
   ]
  },
  {
   "cell_type": "markdown",
   "id": "ac5b8b75-5b05-4b27-a46a-2201471395b4",
   "metadata": {},
   "source": [
    "<br /><br /><br /><br /><br /><br /><br /><br /><br /><br /><br /><br /><br /><br /><br /><br />"
   ]
  },
  {
   "cell_type": "markdown",
   "id": "d126b6d8-2d86-45db-8a8f-5d3d863272bd",
   "metadata": {},
   "source": [
    "# Interviews: \n",
    "- Each group of two has been provided an interview document containing:\n",
    "    - two interview questions\n",
    "    - supporting hints for each questions\n",
    "    - full solutions to each question\n",
    "    - grading criteria for the interview\n",
    "- You should each take turns as the interviewer and the interviewee.\n",
    "- As interviewer your goal is to support the interviewee in answering the question to the best of their personal ability, but you should not give hints unless truly necessary.\n",
    "- Each participant should answer a different question from the interview document\n",
    "- We will have 20 minutes for this exercise"
   ]
  },
  {
   "cell_type": "markdown",
   "id": "8c8fde0a-3a22-495d-806b-21e66140bddf",
   "metadata": {},
   "source": [
    "<br /><br /><br /><br /><br /><br /><br /><br /><br /><br /><br /><br /><br /><br /><br /><br />"
   ]
  },
  {
   "cell_type": "markdown",
   "id": "c0c3eea8-1b0d-402f-9aa5-ee4bba3e255c",
   "metadata": {},
   "source": [
    "# Self-Reflection:\n",
    "- Please complete the form at: https://bit.ly/sr-3155\n",
    "\n",
    "<img src=\"./bit.ly_sr-3155.png\" style=\"width:200px;height:200px;\" />\n",
    "\n",
    "- You will have 5 minutes for this exercise."
   ]
  },
  {
   "cell_type": "markdown",
   "id": "20ce3a4f-4065-4813-9b34-7220f5782a2d",
   "metadata": {},
   "source": [
    "<br /><br /><br /><br /><br /><br /><br /><br /><br /><br /><br /><br /><br /><br /><br /><br />"
   ]
  },
  {
   "cell_type": "markdown",
   "id": "6ff5bc3b-7261-49ab-a607-c4cac6049ee5",
   "metadata": {},
   "source": [
    "# Q&A:\n",
    "- We have prepared three questions for discussion.\n",
    "- For each question we will have up to ten minutes to discuss the question as a group.\n",
    "- Our goal in this discussion is to understand your collective thoughts on this experiment\n",
    "- Additional questions will be posed in your third interview surrounding this event."
   ]
  },
  {
   "cell_type": "markdown",
   "id": "88c20f04-7957-4551-aeb1-91413d5745e0",
   "metadata": {},
   "source": [
    "<br /><br /><br /><br /><br /><br /><br /><br /><br /><br /><br /><br /><br /><br /><br /><br /><br /><br />"
   ]
  },
  {
   "cell_type": "markdown",
   "id": "94826e80-1fec-4095-8f10-6b63eee34178",
   "metadata": {},
   "source": [
    "1. What was your experience being interviewed by your \"peer\" for this interview?"
   ]
  },
  {
   "cell_type": "markdown",
   "id": "6c27d14a-af09-48f9-bb4a-2f54938db213",
   "metadata": {},
   "source": [
    "<br /><br /><br /><br /><br /><br /><br /><br /><br /><br /><br /><br /><br /><br /><br /><br /><br /><br />"
   ]
  },
  {
   "cell_type": "markdown",
   "id": "165054a6-b245-4743-88cb-f71b7ff5d500",
   "metadata": {},
   "source": [
    "2. What was your experience interviewing your \"peer\" for this interview?"
   ]
  },
  {
   "cell_type": "markdown",
   "id": "676dab82-21dd-4a36-b5a9-2fb697f69cd6",
   "metadata": {},
   "source": [
    "<br /><br /><br /><br /><br /><br /><br /><br /><br /><br /><br /><br /><br /><br /><br /><br /><br /><br />"
   ]
  },
  {
   "cell_type": "markdown",
   "id": "d3dbf16b-973f-4a56-8a36-0f22d85ae0e6",
   "metadata": {},
   "source": [
    "3. How did this interview compare to your most recent TA-interview?"
   ]
  },
  {
   "cell_type": "markdown",
   "id": "d36e447f-2ae2-420d-a68f-ad3a54a3e15f",
   "metadata": {},
   "source": [
    "<br /><br /><br /><br /><br /><br /><br /><br /><br /><br /><br /><br /><br /><br /><br /><br /><br /><br />"
   ]
  }
 ],
 "metadata": {
  "kernelspec": {
   "display_name": "Python 3 (ipykernel)",
   "language": "python",
   "name": "python3"
  },
  "language_info": {
   "codemirror_mode": {
    "name": "ipython",
    "version": 3
   },
   "file_extension": ".py",
   "mimetype": "text/x-python",
   "name": "python",
   "nbconvert_exporter": "python",
   "pygments_lexer": "ipython3",
   "version": "3.12.1"
  }
 },
 "nbformat": 4,
 "nbformat_minor": 5
}
