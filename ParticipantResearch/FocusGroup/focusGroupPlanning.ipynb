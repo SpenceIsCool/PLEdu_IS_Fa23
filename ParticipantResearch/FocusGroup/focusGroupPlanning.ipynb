{
 "cells": [
  {
   "cell_type": "markdown",
   "id": "3bb2b945-6ad9-47a9-8686-dd3328d9baf3",
   "metadata": {},
   "source": [
    "* must run in the PLV lab first to see how it works and get feedback before using my participants. I only get the one shot for this."
   ]
  }
 ],
 "metadata": {
  "kernelspec": {
   "display_name": "Python 3 (ipykernel)",
   "language": "python",
   "name": "python3"
  },
  "language_info": {
   "codemirror_mode": {
    "name": "ipython",
    "version": 3
   },
   "file_extension": ".py",
   "mimetype": "text/x-python",
   "name": "python",
   "nbconvert_exporter": "python",
   "pygments_lexer": "ipython3",
   "version": "3.12.1"
  }
 },
 "nbformat": 4,
 "nbformat_minor": 5
}
