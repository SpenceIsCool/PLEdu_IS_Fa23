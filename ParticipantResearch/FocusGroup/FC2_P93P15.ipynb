{
 "cells": [
  {
   "cell_type": "markdown",
   "id": "bb3328cc-2944-480d-829c-cc6024101b9d",
   "metadata": {},
   "source": [
    "# briefing and consent\n",
    "Both parties consent to the event"
   ]
  },
  {
   "cell_type": "markdown",
   "id": "33755a35-1263-476a-bafc-d664d8233cad",
   "metadata": {},
   "source": [
    "# Lecture on BNF grammars\n",
    "1. starts 15 minutes in as we started a bit late.\n",
    "2. There is a question asked about terminals, which I explain relative to the \"Stack\" grammar as actual numbers, \"Push\", \"(\", \")\", and \",\".\n",
    "3. P93: expresses that \"n\" is ambiguous.\n",
    "4. P15: \"I'm surprised that I understand this\" and notes that this feels familiar as something that I had guest-lectured on while the professor was unavailable.\n",
    "5. I recall that this was the lecture on translating grammars to Scala code."
   ]
  },
  {
   "cell_type": "markdown",
   "id": "0863dbd3-2c1c-40ee-8b92-9bdd23bc4a52",
   "metadata": {},
   "source": [
    "# Peer-interviews\n",
    "1. They each have some jokes with robotic tones talking to each-other by participant number rather than name despite having known each-other from prior to the focus groups (they are friends).\n",
    "2. P15 interviews P93\n",
    "    1. P15: introduces himself as though he is the interviewer. He is very professional and gives some appearance of authority in the interview. Then confirms with me if they should the interviewee the question sheet.\n",
    "    2. I confirm that is accurate.\n",
    "    3. P93: I can recognize that there are natural numbers in the linked list and there is an error... and arrows to show how the numbers are connected... \"I'll call it 'list' to be very original\"... I'll allow numbers, I'll call them `n`. I guess you can have an empty linked list...\n",
    "    4. P15: \"I think you're on the right track right now, just start by defining it.\"\n",
    "    5. P93: \"so I'll make a number `n`\"\n",
    "    6. P15: \"so what is the smallest linked list possible?\"\n",
    "    7. P93: \"This is the base case.\" Referencing on sheet n in N ($\\in \\mathbb{N}$)\n",
    "    8. P15: \"You already have that, so how do you make a bigger one?\"\n",
    "    9. P93: \"so you have n1 go to n2 so your initial state goes to another state.\"\n",
    "    10. P15: \"When you create a list, n will be the first thing that is in that list. correct?\"\n",
    "    11. P93: \"should I re-qualify this as n1\"\n",
    "    12. they talk about recursion. null cases and cases for n to n. P13 marks the paper for P93 while explaining where the participant is correct.\n",
    "3. P93 interviews P15:\n",
    "    1. P93: \"Participant 15, are you ready for this question?\"\n",
    "    2. P15: \"Ready as I'll ever be.\"\n",
    "    3. P93: shows the sheet to P15 and states the first question about \"what popular data structure does this describe\"?\n",
    "    4. P15: is talking out loud about foo and bar...\n",
    "    5. P93: \"in the last question, we talked about recursion...\"\n",
    "    6. P15: \"so `bar` is the base case and `baz` is the inductive case. Foo a number and foo... I think Foo should be a node and...\"\n",
    "    7. P93: \"we covered these data structures in the data structures course\"\n",
    "    8. P15: \"The professor said this is supposed to be some fundamental thing that I'm supposed to remember.\"\n",
    "    9. P93: \"z will be the number in the middle...\"\n",
    "    10. P15: states \"oh, the middle of the 2 nodes?\"\n",
    "        1. P15: \"I know this in my soul.\"  as they begin to express some frustration that they have not arrived at the answer yet.\n",
    "        2. P15: \"is it a linked list?\"\n",
    "    11. P93: \"no, but your drawing will help you. consider that you are splitting into two things each time\"\n",
    "        1. drawing referenced: `Baz(Baz(Foo, 4, Foo), 2, Baz(Foo, 4, Foo)))`\n",
    "    12. P15: \"oh, is it a binary tree?\"\n",
    "    13. P15: jokingly:: \"duh, of course... maybe I should just drop out.\"\n",
    "    14. P93: asks for an example sentence (the follow up question)\n",
    "    15. They confirm that they are allowed to write on the paper\n",
    "    16. They discuss the solution about the format and more.\n",
    "    17. P93: \"if we have only 3 numbers, that means that the tree might look like.... so then there are leaf nodes and we should end at the base case....\"\n",
    "    18. P15: \"should we say bar instead of foo?\" then corrects his answer from `Baz(Baz(Foo, 4, Foo), 2, Baz(Foo, 4, Foo)))` to `Baz(Baz(Bar, 4, Bar), 2, Baz(Bar, 4, Bar)))`\n",
    "4. grading\n",
    "    1. We are running tight on time as one participant needs to leave early.\n",
    "    2. P93: \"please be respectful, what does that mean?\"\n",
    "    3. I explain that I am asking them to be polite in grading eachother and to not \"yell at each-other\".\n",
    "    4. P15: \"I feel like people wouldn't do that.\"\n",
    "    5. P15: writes down their thoughts on the grading sheet before explaining it verbally.\n",
    "        1. P15: \"since you needed corrections on the matter of `n1 -> n2List` I'd mark you as Proficient.\"\n",
    "    6. P93: explains that you did struggle to find the data structure. \"you drew some diagrams and thought through it really hard so that's a good sign to me that you are making progress. you struggled with the base case in the second one. you lack some fundamental knowledge so I would mark you as Approaching.\"\n",
    "    7. I close out by reminding them they are not expected to reach \"Advanced Understanding\" for this focus group due to the condensed time frame of the event."
   ]
  },
  {
   "cell_type": "markdown",
   "id": "cae6e1de-08e9-4362-b473-79df2ec7a914",
   "metadata": {},
   "source": [
    "# Written reflections via google survey\n",
    "1. We ran out of time for this during the interview, so I have emailed it to each participant along with their data for review.\n",
    "2. P15\n",
    "    1. Prior to the interview, what was your level of understanding of the topic? [1 very bad - 5 very good ]\n",
    "        1. 2\n",
    "    2. After to the interview, what was your level of understanding of the topic? [1 very bad - 5 very good ]\n",
    "        1. 4\n",
    "    3. As an interviewee, what question did you answer?\n",
    "        1. Question 2: What is this Structure?\n",
    "    4. As an interviewee, what did you believe your own grade on the question should be?\n",
    "        1. Approaching\n",
    "    5. What, if anything, do you believe that you understand well about this topic? Be specific.\n",
    "        1. I do understand how does the BNF notations can be used to denote data structures and how it can be used to help define functions in functional languages you are trying to develop.\n",
    "    6. What, if anything, do you believe that you DO NOT understand well about this topic? Be specific.\n",
    "        1. I did not really understand when I would use this outside of this class. Though it is helpful, I might not use the BNF notations when I am out of class.\n",
    "3. P93\n",
    "    1. Prior to the interview, what was your level of understanding of the topic? [1 very bad - 5 very good ]\n",
    "        1. 1\n",
    "    2. After to the interview, what was your level of understanding of the topic? [1 very bad - 5 very good ]\n",
    "        1. 4\n",
    "    3. As an interviewee, what question did you answer?\n",
    "        1. Question 1: Linked Lists\n",
    "    4. As an interviewee, what did you believe your own grade on the question should be?\n",
    "        1. Approaching\n",
    "    5. What, if anything, do you believe that you understand well about this topic? Be specific.\n",
    "        1. i think that i understood the concepts of defining non-terminals and stacks. i also understood how to push items on the stack. \n",
    "    6. What, if anything, do you believe that you DO NOT understand well about this topic? Be specific.\n",
    "        1. I think one thing that I struggled with is building a defition of a non-terminal with terminals and applying recursion."
   ]
  },
  {
   "cell_type": "markdown",
   "id": "e7eac374-776f-472f-9874-000766e02099",
   "metadata": {},
   "source": [
    "# Discussion \n",
    "1. What was your experience being interviewed by your \"peer\" for this interview?\n",
    "    1. ???\n",
    "2. What was your experience interviewing your \"peer\" for this interview?\n",
    "    1. ???\n",
    "3. How did this interview compare to your most recent TA-interview?\n",
    "    1. ???"
   ]
  },
  {
   "cell_type": "markdown",
   "id": "a102c115-c209-4a7e-8a8d-c128a02f2a56",
   "metadata": {},
   "source": [
    "# Process Reflection"
   ]
  },
  {
   "cell_type": "markdown",
   "id": "6fc94471-6374-41f6-86f6-faf5e9ac6c95",
   "metadata": {},
   "source": [
    "# Observations\n",
    "* contrary to the concerns expressed in the first focus groups about working with friends, it did go well in this event. Of course there is an observation bias and other bias about how this actually isn't being done for credit at this time."
   ]
  }
 ],
 "metadata": {
  "kernelspec": {
   "display_name": "Python 3 (ipykernel)",
   "language": "python",
   "name": "python3"
  },
  "language_info": {
   "codemirror_mode": {
    "name": "ipython",
    "version": 3
   },
   "file_extension": ".py",
   "mimetype": "text/x-python",
   "name": "python",
   "nbconvert_exporter": "python",
   "pygments_lexer": "ipython3",
   "version": "3.12.1"
  }
 },
 "nbformat": 4,
 "nbformat_minor": 5
}
