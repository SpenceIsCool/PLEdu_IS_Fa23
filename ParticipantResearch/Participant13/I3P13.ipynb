{
 "cells": [
  {
   "cell_type": "markdown",
   "id": "86c2c889-3606-4c99-8a3a-2bad1408578f",
   "metadata": {},
   "source": [
    "# DATA\n",
    "1. consented with the research participant, at the end of the focus group, they were debriefed about the nature of this course project with a desire to conduct this third and final round of interviews over email communication instead of in person. Accordingly there is like bias present in their answers to the first three questions.\n",
    "2. In the recent focus group you wrote a self-reflection about what you learned in the interview. What was your experience writing this reflection? (CONTEXT: The self reflection was the google survey)\n",
    "    1. The survey was easy to complete, and it gave you a little bit of room to reflect on your learning, both what you know and what you need to study a little bit more. Outside of that, I think that it was super quick and wasn't a huge focus of the focus group.\n",
    "3. What impact, if any, did this peer-interview have on your confidence to master the topic of BNF grammars?\n",
    "    1. I think this was very helpful practice in understanding BNF grammars. In this way it helps you to both walk through a problem in a time effective manner and to see how another person works through a similar problem. It also helps you to see how the graders lay out a problem so that you can learn from that as well when you are being the interviewer. There are a lot of opportunities in this situation to learn from the people and resources around you. \n",
    "4. What impact, if any, would you expect that peer-interview grading would have on your relation to that learning goal? (RECALL: your goal was the same as any other course, to learn the most that you could)\n",
    "    1. I think this could be a very helpful tool for the students who take this exercise seriously. However, I do see that many students will take the easy way out of this assignment and will just have the other person tell them the answer to the question, then, in self reflection, they will say that they understand the material and rate themselves highly. I think this is the biggest problem when you put students who know each other together for this assignment. If it were possible to randomize assignments, I think that could maybe help mitigate this possibility.\n",
    "5. Do you have any questions or ideas with regards to this research study? (RECALL: we are exploring the use of peer-interview grading to solve some of the challenges faced in executing CSCI 3155 effectively as the student enrollment increases)\n",
    "    1. For the moment, I don't have any questions. I do think that it is increasingly important that the computer science department decrease the size of classes (especially for the higher level courses). I know that enrollment is increasing, but as a senior, it seems wrong that my smallest upper division class that I have taken through CS has been over 70 students. That being said, attendance isn't necessarily that high. However, when the university says that less than 40% of classes are less than 20 students, I would like to see a bit more of this in the CS department. I feel that this can help students to learn better. I know many people who say that they struggle to pay attention in class and do the work because they don't feel like the professor cares about them or is invested in their learning. Smaller class sizes really can help with this."
   ]
  },
  {
   "cell_type": "markdown",
   "id": "2a4f8bdc-f030-4aec-8dc6-ae2899a9ba87",
   "metadata": {},
   "source": [
    "# Reflections and Observations\n",
    "* the design of the focus group `failed` to demonstrate the importance of the self-reflection."
   ]
  }
 ],
 "metadata": {
  "kernelspec": {
   "display_name": "Python 3 (ipykernel)",
   "language": "python",
   "name": "python3"
  },
  "language_info": {
   "codemirror_mode": {
    "name": "ipython",
    "version": 3
   },
   "file_extension": ".py",
   "mimetype": "text/x-python",
   "name": "python",
   "nbconvert_exporter": "python",
   "pygments_lexer": "ipython3",
   "version": "3.12.1"
  }
 },
 "nbformat": 4,
 "nbformat_minor": 5
}
