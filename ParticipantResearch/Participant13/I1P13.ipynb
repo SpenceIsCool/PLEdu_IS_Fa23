{
 "cells": [
  {
   "cell_type": "markdown",
   "id": "49cfa632-af05-4981-84c5-c70381e16f34",
   "metadata": {},
   "source": [
    "1. consent\n",
    "    1. took about 10 minutes\n",
    "    2. participant had pre-read the data collection section and skimmed the rest of the form\n",
    "    3. cuboulder email address is acceptable for data review process\n",
    "    4. The participant stated that they have \"nothing to hide\"\n",
    "2. interview\n",
    "    1. 30 minutes\n",
    "    2. completed the first five of eight questions\n",
    "    3. Q1: As a student in 3155, what was your experience working with a \"lab partner\" on your labs? Was it positive? negative? mix? please elaborate?\n",
    "        1. The participant described project partner relationships as variable. Some were really good. Others were really challenging. In particular, the participants would often start the lab early and this, at times, \"caused stress\" for their project partner\n",
    "        2. The participant met some really cool people in the class by having different partners for each lab. This seems to be a somewhat unique feature of the course in the CSCI curriculum\n",
    "        3. There were some labs where the participant felt that they really did all the work themselves and did not get to communicate with the lab partner. They note that they are unsure if the lab partner ever did the work themselves or just submitted the participants solutions as their own\n",
    "    4. Q2: As a student in 3155, you had interview grading with a member of the course staff. What was your typical process to prepare for this interview? Did it evolve over the course of the semester?\n",
    "        1. The participants' approach to interview preparation did not change over the semester.\n",
    "        2. This participant typically approached each lab by focusing on WHY we are learning any given topic. While they could typically could figure it out, some labs took longer than the participant would have liked at the beginning of the lab to understand why we were learning some topic. Throughout the lab, that became more apparent and the lab became more doable. Expressed as a bit frustrating for the participant.\n",
    "        3. They experienced inconsistency in how the graders performed the interviews. Some were easy and straightforward to get through each question and move on while others were harder to work with. The participant felt more comfortable working with those more straight-forward graders. While they didn't do it to game the system, they note it is possible that some peers in the course could have exploited this inconsistency to receive higher marks than earned.\n",
    "    5. Q3: As a student in 3155, what was your experience working with a \"grader\" for your interviews at the end of the lab? Was it positive? negative? mix? please elaborate?\n",
    "        1. When working with the more challenging graders they note that it was frustrating. Specifically, it was frustrating that the interview could have been more straightforward based on discussions the participant had with peers about their own interview experience.\n",
    "        2. The participant notes that it must have been challenging for the staff to manage\n",
    "    6. Q4: What impact, if any, did the interviews have on your confidence to succeed in the course?\n",
    "        1. \"confirming\": the participant states that the interviews confirmed that they understood the course concepts and were doing the course work correctly.\n",
    "        2. It was nice to build relationships with the course staff and made the participant feel like more than \"just a number\". States jokingly that students really are just a number in a way.\n",
    "    7. Q5: Do you have experience with interview grading in other courses? If so, how did those experiences compare to your experience in 3155?\n",
    "        1. Experience interview grading in both OOAD and Computer systems\n",
    "        2. OOAD was for the final project and was actually performed by a professor (CONTEXT:, the full course staff did interviews and the student happens to be with the professor, OBSERVATION: I forgot this during the interview but I suppose we had done this as well when I took OOAD)\n",
    "        3. computer systems was similar to PL as it looked at lab work and was graded by a TA. Similarly the TAs varied in how they did the interviews. the participant jumped around with different TAs through that course more so than PL\n",
    "        4. where PL looks at key concepts of the lab, computer systems looked more at what the student did on the lab itself, but the participant notes that this happened a long time ago and memory may not be accurate (OBSERVATION: it aligns to my own past with data structures and computer systems, but I should reach out to current staff to understand the current approach for grading interviews)\n",
    "        5. OBSERVATION: computer systems is now done alone and not in student teams\n",
    "        6. The participant note that it is important that interviews come with feedback about why the provided grade is given, particularly if points were deducted."
   ]
  }
 ],
 "metadata": {
  "kernelspec": {
   "display_name": "Python 3 (ipykernel)",
   "language": "python",
   "name": "python3"
  },
  "language_info": {
   "codemirror_mode": {
    "name": "ipython",
    "version": 3
   },
   "file_extension": ".py",
   "mimetype": "text/x-python",
   "name": "python",
   "nbconvert_exporter": "python",
   "pygments_lexer": "ipython3",
   "version": "3.12.1"
  }
 },
 "nbformat": 4,
 "nbformat_minor": 5
}
