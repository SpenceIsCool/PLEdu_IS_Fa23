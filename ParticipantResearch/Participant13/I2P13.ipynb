{
 "cells": [
  {
   "cell_type": "markdown",
   "id": "a2b989eb-7373-4724-8674-be398f146231",
   "metadata": {},
   "source": [
    "# Data\n",
    "1. questions remaining from interview 1\n",
    "    1. Q6: What would you describe as your learning goal for 3155?\n",
    "       1. The participant describes their goal for 3155 as the same goal they would have for any other course. They attempt to learn the most that they personally can about the course. For 3155, they didn't know what to expect based on the course title. They took the course as it was a requirement for their degree and decided they'll learn what they can.\n",
    "       2. Note that sometimes courses are chosen by the participant with some specific purpose in mind, but the goal to learn what they can is still there.\n",
    "    2. Q7: What would you describe as your ability to achieve that learning goal?\n",
    "        1. OBSERVATION: Participant has a bit of a funny look and seems perhaps unsure of what to say. I infer this as discomfort in speaking negatively about the course. Discussed in data review, \"I was trying to figure out how I felt about the question and how to best convey that to you\"\n",
    "        2. The participant explains that they learned \"a bit\". They were able to use the method of having functions as inputs to other functions (higher order functions) effectively at a summer internship so that is some measure of success in learning something in the course.\n",
    "        3. This is hard for the participant to describe in general. The participant learns what they can with the time that they have. they state:\n",
    "            1. \"[I think that I learn well, but I know that I don't learn everything.]\"\n",
    "            2. OBSERVATION: They appear to be a bit uncomfortable saying the above statement. Discussed in data review, \"I was trying to figure out how I felt about the question and how to best convey that to you\"\n",
    "        4. In general there are times where the time constraints of a course force the student to take some topics, accept that they don't fully understand it, and then they move on.\n",
    "    3. Q8: What impact, if any, did interview grading have on your relation to that learning goal?\n",
    "        1. The participant states that they do not perceive the interviews to have been impactful on them meeting their own learning goal. For them the interview existed as a \"check\" that they understood the content of an assignment. The participant would actively prepare for each interview with the intention of getting through the interview as easily as possible. They seek to already know the content before the interview.\n",
    "        2. FOLLOWUP: Would you still be as prepared on the topics if the interviews were not there? What if they were replaced with a quiz or replaced with nothing?\n",
    "            1. The participant states that they would still be well prepared and would review their work.\n",
    "            2. The participant states that they know there are other students who would not be nearly as prepared without an interview grading event.\n",
    "2. Questions from interview 2\n",
    "    1. Q1: Tell me about your favorite course in recent memory. What aspects of that course were positive for you?\n",
    "        1. We clarify that the course does not need to be in engineering or computer science.\n",
    "        2. The participant describes a time intensive course with 30 students where the student was able to go deep in exploring some challenging problem that they were personally interested in. They note the the course was \"[The most impactful course for me as a human.]\" The professor made themselves very available and worked with each student to challenge them to do their personal best. The professor did this work in a way that made it obvious to this participant how much the professor cared.\n",
    "        3. The participant notes that it was obvious that Evan cared about the students when teaching CSCI 3155 in Fall 2022\n",
    "        4. QUOTATION: \"[I think that most professors care but maybe they don't show it in a way that students engage with.]\"\n",
    "    2. Q2: Tell me about your most recent positive experience in a course that had 200 or more students. In particular, a course where the full course was positive and not only a singular event in the course. What made it a positive experience?\n",
    "        1. We confirm that a course with 130 students is also acceptable. The participant then describes a \"challenging course\" that had \"very supportive course staff\". While this student did not engage much in lecture they found it fascinating that in one discussion with the professor, the professor still knew the participants name. They describe how the TAs were really engaged. They note this in contrast to some anther big courses where you never really feel that level of engagement.\n",
    "        2. QUOTATION: \"[You should not have to attend Office Hours in order to engage with the course staff.]\"\n",
    "    3. Q3: Tell me about your most recent negative experience in a course that had 200 or more students. In particular, a course where the full course was negative and not only a singular event in the course. What made it a negative experience?\n",
    "        1. The participant describes working with a professor that had a tendency to spend about 90% of lecture time reading over slides to the point that it would have been more effective to just read the slides and not attend lecture. The student continued to attend lecture live. Separately the course was poorly organized with unclear expectations for students and a very imbalanced expectation of the students time. Accordingly the participant did not enjoy this course.\n",
    "        2. The participant notes that they have heard from a friend that the course has sense been reworked by another professor and is a better experience.\n",
    "        3. FOLLOWUP: as you often attended the course but there were fewer and fewer of your peers live at lecture, how did that effect you?\n",
    "            1. The participant states that they are used to this. This is standard practice for computer science courses that attendance will drop off \"insanely\". It's \"kind of sad\". \"[We are all here to get an education from these professors but most of us don't show up]\".\n",
    "    4. Q4: This research study is exploring the challenges faced in CSCI 3155 as we continue to see larger enrollments over time. We are exploring ways to provide value to our students at these larger scales. As a student in Fall 2022 CSCI 3155, what aspects of the course helped in your ability to meet your goals?\n",
    "        1. The participant state that recitations were the most helpful resource of the course for **this** participant to learn from.\n",
    "        2. The participant reflects that this course was interesting but challenging in the way that it diverged from standard learning models. This course seemed to be the reverse of the normal. In this course the recitations would cover the big picture about why students are learning certain topics and why the idea matter beyond the scope of the course. Meanwhile, the lectures would feel like a Q&A session about how some technical aspects of a core concepts should be implemented in code.\n",
    "        3. The participant notes that lecture often felt like it was constantly talking about the things that were early in the lab rather than all of the topics for the lab. They note that this may have contributed to the delays that occurred in the course. The participant recalls there being a lot of extensions to project deadlines.\n",
    "            1. OBSERVATION: recall from interview 1 that this student would often start the labs early.\n",
    "        4. The participant feels that this method could work better in smaller groups.\n",
    "        5. QUOTATION: \"[If you don't know the base knowledge, how would you know what questions to ask?]\""
   ]
  },
  {
   "cell_type": "markdown",
   "id": "aaf51751-8084-4310-8e5e-f8afbdbeee20",
   "metadata": {},
   "source": [
    "# Reflection\n",
    "- note time stamp of each reflection. I think that will be helpful in some way.\n",
    "- Did we have lots of extensions?\n",
    "    - <a href=\"https://piazza.com/class/l6e36be2lah2na/post/616\">Lab 4 extended</a> from a Friday to a Tuesday after Thanskgiving break - big extension (11 days) but included a break. I assume that embedded some frustrations from students as well as they may have perceived that they are \"expected to work on the lab\" over the break.\n",
    "    - <a href=\"https://piazza.com/class/l6e36be2lah2na/post/824\">Lab 5 extended</a> from Tuesday to Friday (3 days).\n",
    "- the evaluate student: the student works to evaluate why we cover each topic and understand how it fits together to solve some bigger challenge.\n",
    "- I'm not sure that I'm ready to really reflect on this one yet, I'll wait until the other participant interviews are caught up."
   ]
  }
 ],
 "metadata": {
  "kernelspec": {
   "display_name": "Python 3 (ipykernel)",
   "language": "python",
   "name": "python3"
  },
  "language_info": {
   "codemirror_mode": {
    "name": "ipython",
    "version": 3
   },
   "file_extension": ".py",
   "mimetype": "text/x-python",
   "name": "python",
   "nbconvert_exporter": "python",
   "pygments_lexer": "ipython3",
   "version": "3.12.1"
  }
 },
 "nbformat": 4,
 "nbformat_minor": 5
}
