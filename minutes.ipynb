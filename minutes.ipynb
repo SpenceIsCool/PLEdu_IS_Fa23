{
 "cells": [
  {
   "cell_type": "markdown",
   "id": "e5611246",
   "metadata": {},
   "source": [
    "# Minutes\n",
    "* the minutes document tracks largely un-edited notes and stream of consciousnesses on the research process"
   ]
  },
  {
   "cell_type": "markdown",
   "id": "02a4602f",
   "metadata": {},
   "source": [
    "## TEMPLATE: D: Month dd, yyyy (template)\n",
    "- Timeline of completed work\n",
    "- Challenges in completing the work\n",
    "- Documentation of decision processes\n",
    "- should be largely stream of consciousness, can edit to the `lab notebook`\n",
    "\n",
    "### Summary WIP\n",
    "- ???\n",
    "\n",
    "### NOTES\n",
    "- ???"
   ]
  },
  {
   "cell_type": "markdown",
   "id": "76dab79b",
   "metadata": {},
   "source": [
    "## R: Nov 16, 2023\n",
    "- Today I embark on understanding what the data collection and format looks like. By understanding the number of students enrolled in the course, and enrolled in the study I have a better understanding of what that can look like in the paper.\n",
    "- Some students choose not to be a part of the study\n",
    "- self-report: The students in the study take a survey at the midterm and at the end of the semester. This survey details the blooms taxonomy and asks the students to rank their ability to perform at each level of the taxonomy. \n",
    "- data findings: We also have the students performance data to compare against the students self-reported rank.\n",
    "    - We can use this data and some algorithm to make our own assessment of the students ability\n",
    "- At the midterm we see some percentages. \n",
    "    - At the final we see better alignment from the self-report to the data findings.\n",
    "    - At the final we see lower scores as the topics covered are harder\n",
    "- We repeat the course with the proposed interview grading structure\n",
    "    - we see better percentages in all categories\n",
    "    - we don't actually see that many students reaching the \"create\" phase, but we do see more. Perhaps even within the olympic average we see some of these scores\n",
    "- the graph is the olympic average. we smooth the sides. but to get that graph, we would need lots of data on many different sizes of the class. We only have control, pilot and experiment...\n",
    "- a heat map would work better\n",
    "- so we see heat of student self reporting, data findings and some kind of corrected average (suppose that students know better than our data and we have some kind of weighting to do that adjustment)\n",
    "    - like data findings are 70% of the final score\n",
    "    - and the student data is the remaining 30%?\n",
    "- so we remove this olympic average thing...\n",
    "- To control the experiment. the same prof teaches all three terms. The prof makes limited changes. The prof uses the same reading materials and exams (or rather the exams are \"same enough\"). The support reading materials are well built in advance requiring limited changes. \n",
    "- Blooms Taxonomy: what is it\n",
    "    - create: produce new and original work that defines and solves the problem in your own terms in some optimized and informed matter\n",
    "    - evaluate: review your own solutions and analyze the information to optimize your solution\n",
    "    - analyze: bring even more facts together to solve potentially complex problems and build nuanced understanding of the topic. Understanding where the nuances start to collide or lead to issues\n",
    "    - apply: bring some facts together to solve some problem that is new to you\n",
    "    - understand: Be able to express the facts in your own way and build your own examples potentially\n",
    "    - remember: Know a series of facts, on their own they aren't very useful\n",
    "- can include demographic information: we see that women are doing better in a statistically evident way under the new model\n",
    "- Blooms Taxonomy: what is it in PL\n",
    "    - create: design and implementation of reasonably complex language with reflection/identification of the technical merits and short comings of the solution, ability to detail future work, definition in a flexible architecture to make changes easy\n",
    "    - evaluate: understanding the draw backs of the analyzed language, such as inflexible architecture for the addition of mutability in the language\n",
    "    - analyze: constructions of a language including variables and functions\n",
    "    - apply: construction of a 5 function calculator\n",
    "    - understand: explain them in your own words\n",
    "    - remember: grammar terminology, inference rules terminology, Scala syntax\n",
    "- percentages proposed\n",
    "    - control: (create, evaluate, analyze, apply, understand, remember): 1, 3, 6, 20, 60, 10 \n",
    "    - pilot: (create, evaluate, analyze, apply, understand, remember): 10, 20, 40, 20, 10\n",
    "    - experiment: (create, evaluate, analyze, apply, understand, remember): 5, 20, 60, 10, 5\n",
    "    - heatmap is easy enough on this data...\n",
    "    - can I do it in python? I know it's possible.... trying... 1228, 1310\n",
    "<img src=\"./img/toy_heatmap.png\" />\n",
    "\n",
    "* NOTE: she/her data should be compaired to he/him data and statistics can be applied to find an R-value that demonstrates statistically significant findings."
   ]
  },
  {
   "cell_type": "markdown",
   "id": "9c07eb11",
   "metadata": {},
   "source": [
    "## T: Nov 14, 2023\n",
    "- Reached back to Lorrie with availability\n",
    "- Made initial email contact with Jessica\n",
    "- recent paper notes intrinsic and extrinsic motivators for students. I'm curious about these.\n",
    "    - Intrinsic Motivation: Revolutionize Education, Work and Life | Behrouz Moemeni | TEDxWLUBrantford \n",
    "        - https://www.youtube.com/watch?v=BjC7cM8a5zU\n",
    "        - complete PhD. take stable job offer or personal company with a lot of risk\n",
    "        - in about 10 seconds chose the company. Knew in his guts that he would to this. That is the internal drive. Knew he could work long days and would stay awake at night thinking about what he would do next time\n",
    "        - company on how to help people get access to top tier schools. noted issues in the current admissions process. many people getting accepted that don't really want to be there. How do we better measure the student passion to help find the right candidate.\n",
    "        - current tools\n",
    "            - statement of purpose\n",
    "            - standardized tests\n",
    "            - interviews\n",
    "        - goal: select applicants based on their intellectual capacity and interpersonal skills. It looks at test performance and not real ability to do the job. This matches admissions of the early 1900s\n",
    "            - <a href=\"https://en.wikipedia.org/wiki/Edward_Thorndike\">Edward Thorndike</a> is the father of modern education? Assumption. Abilitilty to test well will make great employee. his own research suggests it doesn't work though.\n",
    "        - LOTS of data on the bias and inequity in this system\n",
    "        - by design they get people that can test well\n",
    "        - motivation actually determines behavior\n",
    "            - intrinsic and extrinsic\n",
    "            - <a href=\"https://www.apa.org/members/content/intrinsic-motivation\">Richard Ryan and Edward Deci</a>\n",
    "            - extrinsic: some reward or punishment for not doing the thing\n",
    "            - intrinsic: desire to do a thing b/c the thing itself is pleasurable. the activity persist without external rewards and even persist despite external threats\n",
    "        - encourages FLOW state\n",
    "        - less burn out, more satisfaction, higher performance\n",
    "        - current tools don't explore the intrinsic motivations. so his company is looking into how to measure that and build a tool to do so. started with Medicine (strict admissions with high levels of misconduct on the backend). only 25% report intrinsic motivation (most extrinsic). Found study that about 22% of graduates had money as the motivation. Also find that most of the accepted applicants come from very wealthy families. Not about access to paid coaching programs. Intrinsic doesn't appear to be biased to those common attributes of equity.\n",
    "            \n",
    "\n",
    "- Timeline of completed work\n",
    "- Challenges in completing the work\n",
    "- Documentation of decision processes\n",
    "- should be largely stream of consciousness, can edit to the `lab notebook`\n",
    "\n",
    "### Summary WIP\n",
    "- ???\n",
    "\n",
    "### NOTES\n",
    "- ???"
   ]
  },
  {
   "cell_type": "markdown",
   "id": "189511a0",
   "metadata": {},
   "source": [
    "## M: Nov 13, 2023\n",
    "- Academic Coaching and its Relationship to Student Performance, Retention, and Credit Completion\n",
    "    - https://link.springer.com/article/10.1007/s10755-021-09554-w\n",
    "    - NOTE: that opt in is likely a part of the data...\n",
    "    - can represent this in your data\n",
    "- ?\n",
    "    - https://www.tandfonline.com/doi/full/10.1080/26939169.2023.2191666\n",
    "    - great paper on collaboration itself\n",
    "    - deeper than my work, but interesting\n",
    "- Timeline of completed work\n",
    "- Challenges in completing the work\n",
    "- Documentation of decision processes\n",
    "- should be largely stream of consciousness, can edit to the `lab notebook`\n",
    "\n",
    "### Summary WIP\n",
    "- ???\n",
    "\n",
    "### NOTES\n",
    "- ???"
   ]
  },
  {
   "cell_type": "code",
   "execution_count": null,
   "id": "6c0e6039",
   "metadata": {},
   "outputs": [],
   "source": []
  },
  {
   "cell_type": "markdown",
   "id": "1f7b9b67",
   "metadata": {},
   "source": [
    "## U: Nov 12, 2023\n",
    "- migrated things to JN\n",
    "- emphasis on finding prof in EDUC to reach out to\n",
    "- https://www.aft.org/ae/fall2021/shepard: notes in minutes_education_staff likely worth adding into my paper in some way. has many papers linked as well and sections of interests to my work and personal teaching preferences\n",
    "- reached out to William Penual and Lorrie Shepard to see if they are interested in meeting with me. It was a bit intimidating to email them, but having read recent publications of theirs, I believe that I was able to connect well to their research interests and celebrate their work. I do hope that I will hear back from them irrespective of its necessity for my IS.\n",
    "- Constructive the Midterm folder in GitHub for ease of retrospectives in the future.\n",
    "- starting to move my minutes document and lab notebook to jupyter notebook to make it easier to review and edit. bonus: spellcheck."
   ]
  },
  {
   "cell_type": "code",
   "execution_count": null,
   "id": "d848045c",
   "metadata": {},
   "outputs": [],
   "source": []
  }
 ],
 "metadata": {
  "kernelspec": {
   "display_name": "Scala",
   "language": "scala",
   "name": "scala"
  },
  "language_info": {
   "codemirror_mode": "text/x-scala",
   "file_extension": ".sc",
   "mimetype": "text/x-scala",
   "name": "scala",
   "nbconvert_exporter": "script",
   "version": "2.13.10"
  }
 },
 "nbformat": 4,
 "nbformat_minor": 5
}
