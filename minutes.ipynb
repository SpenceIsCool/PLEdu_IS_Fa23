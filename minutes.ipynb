{
 "cells": [
  {
   "cell_type": "markdown",
   "id": "e5611246",
   "metadata": {},
   "source": [
    "# Minutes\n",
    "* the minutes document tracks largely un-edited notes and stream of consciousnesses on the research process"
   ]
  },
  {
   "cell_type": "markdown",
   "id": "02a4602f",
   "metadata": {},
   "source": [
    "## TEMPLATE: D: Month dd, yyyy (template)\n",
    "- Timeline of completed work\n",
    "- Challenges in completing the work\n",
    "- Documentation of decision processes\n",
    "- should be largely stream of consciousness, can edit to the `lab notebook`\n",
    "\n",
    "### Summary WIP\n",
    "- ???\n",
    "\n",
    "### NOTES\n",
    "- ???"
   ]
  },
  {
   "cell_type": "code",
   "execution_count": null,
   "id": "6c0e6039",
   "metadata": {},
   "outputs": [],
   "source": []
  },
  {
   "cell_type": "markdown",
   "id": "1f7b9b67",
   "metadata": {},
   "source": [
    "## U: Nov 12, 2023\n",
    "- migrated things to JN\n",
    "- emphasis on finding prof in EDUC to reach out to\n",
    "- https://www.aft.org/ae/fall2021/shepard: notes in minutes_education_staff likely worth adding into my paper in some way. has many papers linked as well and sections of interests to my work and personal teaching preferences\n",
    "- reached out to William Penual and Lorrie Shepard to see if they are interested in meeting with me. It was a bit intimidating to email them, but having read recent publications of theirs, I believe that I was able to connect well to their research interests and celebrate their work. I do hope that I will hear back from them irrespective of its necessity for my IS.\n",
    "- Constructive the Midterm folder in GitHub for ease of retrospectives in the future.\n",
    "- starting to move my minutes document and lab notebook to jupyter notebook to make it easier to review and edit. bonus: spellcheck."
   ]
  },
  {
   "cell_type": "code",
   "execution_count": null,
   "id": "d848045c",
   "metadata": {},
   "outputs": [],
   "source": []
  }
 ],
 "metadata": {
  "kernelspec": {
   "display_name": "Scala",
   "language": "scala",
   "name": "scala"
  },
  "language_info": {
   "codemirror_mode": "text/x-scala",
   "file_extension": ".sc",
   "mimetype": "text/x-scala",
   "name": "scala",
   "nbconvert_exporter": "script",
   "version": "2.13.10"
  }
 },
 "nbformat": 4,
 "nbformat_minor": 5
}
