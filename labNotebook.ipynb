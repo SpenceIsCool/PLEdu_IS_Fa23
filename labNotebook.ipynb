{
 "cells": [
  {
   "cell_type": "markdown",
   "id": "d51cd7f6",
   "metadata": {},
   "source": [
    "# Lab Notebook\n",
    "* The lab notebook holds summarized notes on the days of research. The intention is to provide some log of the research exploration timeline, the thought process in decision making and various challenges in completing the work"
   ]
  },
  {
   "cell_type": "markdown",
   "id": "faeae1e5",
   "metadata": {},
   "source": [
    "## TEMPLATE: D: Month dd, yyyy (template)\n",
    "- Timeline of completed work\n",
    "- Challenges in completing the work\n",
    "- Documentation of decision processes\n",
    "- should be edited representation of the work"
   ]
  },
  {
   "cell_type": "markdown",
   "id": "2512a020-fdcb-43cb-b430-643d144b3fae",
   "metadata": {},
   "source": [
    "## T: March 19, 2024\n",
    "Today I had the pleasure to interview participant 93, return that interview data to the participant for review, and begin scheduling their second interview for sometime over Spring Break. \n",
    "\n",
    "Additionally, it came to my attention that I had set the wrong goal for this week. This week my goal cannot be to work on the background section, but must be on the design of my focus group session. I think that the term \"focus group\" may be confusing based on previous feedback that I got from Evan. My intention is as follows:\n",
    "- 2 minute: brief and consent\n",
    "- 8 minute lecture about a topic like a stack data structure and how it can be defined using BNF grammars\n",
    "- 15 minute peer-interviews occur simultaneously with all participants in teams of two\n",
    "    - introductions/ice-breaker\n",
    "    - 1 question about linked lists\n",
    "    - 1 question about binary trees\n",
    "    - lots of support structure around these questions as described in my paper including examples, hints, full solutions, and grading criteria\n",
    "- 5 minutes: written reflections, likely typed and sent to me as part of the data review process. (these will be used in the third interview of the research study with each participant) google survey\n",
    "- 30 minutes: discussion with 3 guided questions and 10 minute discussion sessions each\n",
    "    - What was your experience being interviewed by your \"peer\" for this interview?\n",
    "    - What was your experience interviewing your \"peer\" for this interview?\n",
    "    - How did this interview compare to your most recent TA-interview?\n",
    " \n",
    "This also lead me to further refine the topics for the third interview with my research participants, the planned questions are now as follows:\n",
    "1. In the recent focus group you wrote a self-reflection about what you learned in the interview. What was your experience writing this reflection?\n",
    "2. What impact, if any, did this peer-interview have on your confidence to master the topic of BNF grammars?\n",
    "3. `< here we will remind the students of their learning goal for the course >`\n",
    "4. What impact, if any, would you expect that peer-interview grading would have on your relation to that learning goal?\n",
    "5. `< here we will debrief the research participants on the current direction of the research study >`\n",
    "6. Do you have any questions or ideas for me with regards to this research study?\n",
    "     \n",
    "It has come to my attention that the matter of finding another advisor for the project did not make it into my plan for the remainder of the semester. I will have to work on this as well starting this week. I'm optimistic that over Spring Break is actually a good time to get the attention of some of these faculty that I may want to connect with."
   ]
  },
  {
   "cell_type": "markdown",
   "id": "7b5b46ce-4743-42df-8754-45f8936f049f",
   "metadata": {},
   "source": [
    "## M: March 18, 2024\n",
    "Today I had the pleasure to interview participant 97, return that interview data to the participant for review, and schedule their second interview for later this week."
   ]
  },
  {
   "cell_type": "markdown",
   "id": "9f38af27-3781-4e0c-9925-26566e9ad24d",
   "metadata": {},
   "source": [
    "## R: March 14, 2024\n",
    "I spent this day reworking the abstract and introduction of my paper. I found that working on the introduction section gave me more room to write and a better way to express my larger ideas that I needed to represent in the abstract. My final abstract draft for the week is as follows:\n",
    "\n",
    "> With industries growing demand for software engineers, enrollment of students with less background information and intrinsic motivations enroll in degrees for information technology [citations]. The students success in mastering the related concepts is paramount to the students actually succeeding in meeting industry demand. To scaffold students path to success, educators must construct classrooms that enable the students to meet their academic goals, while maintaining rigorous standards that ensure the students are actually capable of filling the industries open roles. In this paper, we explore the current method of teaching CSCI 3155 at the University of Colorado Boulder. We interview students from Fall 2022 to understand their experience. We use those interviews to inform personas that exist at our institution. We report on the perceived learning outcome for those students under the current course structure. We then propose a change to the course structure to pivot away from staff-interviews to assess student performance toward peer-interviews with graded self-reflections on the student learning experience. Finally, we report on the personas perceived ability to learn from that new method of peer-interviewing."
   ]
  },
  {
   "cell_type": "markdown",
   "id": "2188b1f1-b929-48c7-8117-76b211d4fcd4",
   "metadata": {},
   "source": [
    "## W: March 13, 2024\n",
    "Attempting to answer the four questions of my research and use this to refactor the abstract for the paper. After trying to answer the questions directly, I found it necessary to read abstracts of others paper's (Evan Chang and <a href=\"https://www.colorado.edu/cmci/people/information-science/lecia-barker\">Lecia Barker</a>) to understand what a good abstract looks like and how to use this to derive my own abstract.\n",
    "\n",
    "The final attempt for the day:\n",
    "1. Computer Science and related fields of study are seeing continued increase in enrollment at universities across the United States.\n",
    "2. Education in technology is imperative for student ability to perform in an ever-tech-centered workforce.\n",
    "3. As cs educators, how will we adapt to the larger classrooms of students with great variety of motivations? How will we continue to provide an effective education worthy of the fees collected by the institution and the students expectation of promising and lucrative careers in industry?\n",
    "4. In this paper, we explore the current method of teaching CSCI 3155 at the University of Colorado Boulder. We interview students from Fall 2022 to understand their experience. We use those interviews to inform personas that exist at our institution. We report on the perceived learning outcome for those students under the current course structure. We then propose a change to the course structure to pivot away from staff-interviews to assess student performance toward peer-interviews with graded self-reflections on the student learning experience. Finally, we report on the personas perceived ability to learn from that new method of peer-interviewing."
   ]
  },
  {
   "cell_type": "markdown",
   "id": "a05c1558-a27b-4b8c-8005-e893fc024c8a",
   "metadata": {},
   "source": [
    "## M - T: March 11 - 12, 2024\n",
    "Procedural days to complete on my bi-weekly summary and prepare my midterm reflection document. Began to solicit more research participants. Set my goal for the week: By March 15 I will reach out to additional participants for the research study. I will answer the four questions of research in detail and use this to refine the abstract and intro."
   ]
  },
  {
   "cell_type": "markdown",
   "id": "38593e3a-fccc-487a-8f2b-c2c8f8dc07ed",
   "metadata": {},
   "source": [
    "## F:: March 8, 2024\n",
    "I presented my presentation in more of a confab style at noon with members of the PLV lab. I later presented it to Evan. I felt good about the presentation prior to presenting to Evan, but Evan came in with a lot of feedback on where the presentation needs to be improved and I'm not certain how to interpret all of that in terms of my midterm reflection that I previously wrote as \"advanced understanding\". It looks like I'll have to revise that before review this week with Evan. The key takeaway for me is a return to the 4 questions of all good research:\n",
    "\n",
    "1. What is the problem?\n",
    "2. Why is it hard?\n",
    "3. Why is it important?\n",
    "4. What is your approach?\n",
    "\n",
    "I plan to focus on answering these questions next week in addition to my other tasking necessary to ensure a successful project."
   ]
  },
  {
   "cell_type": "markdown",
   "id": "c49dd892-24a0-4b12-b19c-cc6264355ec8",
   "metadata": {},
   "source": [
    "## R: March 7, 2024\n",
    "I've successfully updated my presentation for the midterm to focus on my actual experiment and preliminary results. In review of the presentation, I see that I spend likely too much time on the background section. A good goal for next week is to work on my background section, to add in the things I want about resourcing, but also to cut out all of the excess information that could be stated in less words to an \"expert\" audience that would be the ideal for this paper. While it is important that I understand the background deeply, I don't know that it is important that my audience fully understands each detail of the related background information."
   ]
  },
  {
   "cell_type": "markdown",
   "id": "8e79677b-c5ce-41e6-aeb2-19a6bab11258",
   "metadata": {},
   "source": [
    "# W: March 6, 2024\n",
    "I have successfully synced my paper in preparation for the midterm presentation and delivered this to Evan. As the paper continues to grow, I find this process tedious, but I was able to make some key insights to further my research. One, the peer-interview model helps to give agency back to the students by giving them immense trust to behave ethically with the interview document provided to them. Two, I now feel the need to more deeply explore the nature of \"resources\" for students in education. Resources here refers to time, conflicting priorities, stores of knowledge, and \"hauntings\" in their education (as <a href=\"https://www.colorado.edu/atlas/ronni-hayden\">Ronni</a> would call them). I believe that it also includes things like financial privileges afforded to some students to hire private tutors or the lack thereof which increases the pressures imposed on students to succeed in a course in order to graduate on time or maintain scholarships.\n",
    "\n",
    "I reached out on the slack about how to better connect with potential additional advisors for my research. I got some great feedback:\n",
    "\n",
    "> By default, ask for 30 minutes, not 1 hour. Do not ask for a recurring meeting. Do not assign homework. Be specific in what you want from them. Prepare to maximize your 30 minutes. Speak no more than 15 minutes (though it could be through interview style). The Amazon doc-review style works well because you can get across a lot more in 15 minutes of reading than 15 minutes of explaining, but then, give a heads up that you’re going to do that since it is out of the norm. - Evan\n",
    "\n",
    "> Find their interests and how your work aligns to that. Show them why they should be interested in your work. Consider a coffee meeting. It's not easy. - Shawn"
   ]
  },
  {
   "cell_type": "markdown",
   "id": "a923b072-a260-41f3-afd0-9a6801e4bfc2",
   "metadata": {},
   "source": [
    "# M: March 4, 2024\n",
    "Limited progress was made today, but I was able to prepare my overleaf document for this weeks goal: to sync my paper in preparation for midterm presentation. This includes saving off the current sections with a dated format so I am more comfortable to delete large sections of the paper as needed. I went on to review the current paper and plan my approach for refactoring the paper, but found myself unable to do the real work on this day."
   ]
  },
  {
   "cell_type": "markdown",
   "id": "44f722c5-d687-447d-8188-3d715432e7d4",
   "metadata": {},
   "source": [
    "# F: March 1, 2024\n",
    "I've been struggling to complete my writing, but the continued return to the same writing is slowly deepening my connection to the topic and helping me see the bigger picture. I finally met with Ricarose Roque (my professor for Designing for Creativity and Learning). I spent most of the time learning about her path to PhD as someone with a deep background in programming language development and learning tools (Scratch). We agreed that her main focus for research does not align well to my current research project, but she did recommend Lecia Barker as a researcher at CU focused on CS education research in higher education environments and also noted that there is a course in INFO that is using interview grading that I might want to plug into (I need to follow up on both of these points and have listed them as TODOs in my minutes document)."
   ]
  },
  {
   "cell_type": "markdown",
   "id": "c690b8f1-f32a-40f0-b374-80d019765641",
   "metadata": {},
   "source": [
    "# R: February 29, 2024\n",
    "Today was about writing. I feared this greatly and procrastinated it. As I actually went to write however, a lot of it clicked and I found a method that worked well for me. I dare say that I enjoyed it and that I'm excited to see what kind of feedback I can get from the meeting tomorrow with Evan. I feel like the sections that I want to have reviewed are a bit too long, but I need to experience this end of sprint demo before I judge myself on this matter.\n",
    "\n",
    "The most important thing for me in this writing was reflecting on how I might present this information at the midterm. I settled on the question of what makes people \"cheat\" or take \"ethical shortcuts\". These are often situations that reasonable beings are not proud of and would not do again if they had other options. This lead me to the following phrase that I think will help me continue my writing for the presentation next week and it helped me to explain how I believe the developed personas would operate in a TA interview compared with a P2P interview: **Students do not commit acts of academic dishonesty because they are malicious beings. Students commit these acts because they feel that they do not have adequate resources to perform some task by through honest means.**"
   ]
  },
  {
   "cell_type": "markdown",
   "id": "aadb6ae1-2991-4473-a931-6e690d4f586f",
   "metadata": {},
   "source": [
    "# W: February 28, 2024\n",
    "I completed the second round interviews with P15 and P58 and attempted to continue developing my personas of students. I was able to ground the personas as students with different levels of mastery with the material and the interviews conducted help me finally understand a difference between an **apply** and **understand** level of cognition with the material. Some quotations of interest are as follows:\n",
    "\n",
    "1. P15: \"I don't think that I could realistically explain the goal [of the course today].\"\n",
    "2. P15: \"Most students didn't feel [office hours] were very useful, just because there were too many other people.\"\n",
    "3. P58: \"I did not really enjoy the method of instruction.\"\n",
    "4. P58: \"I didn't know what questions would be effective to ask.\""
   ]
  },
  {
   "cell_type": "markdown",
   "id": "9931192b-b654-4cc6-aa26-f823f9ed3545",
   "metadata": {},
   "source": [
    "# T: February 27, 2024\n",
    "I met with Ricarose Roque (my professor for Designing for Creativity and Learning). I spent most of the time learning about her path to PhD as someone with a deep background in programming language development and learning tools (Scratch). We agreed that her main focus for research does not align well to my current research project but she did recommend Lecia Barker as a researcher at CU focused on CS education research in higher education environments and also noted that there is a course in INFO that is using interview grading that I might want to plug into (I need to follow up on both of these points)."
   ]
  },
  {
   "cell_type": "markdown",
   "id": "3cd59c3c-aa2e-495c-b162-491b0721ae29",
   "metadata": {},
   "source": [
    "# M: February 26, 2024\n",
    "I got to speak with Christian about his experience in treating each week as a sprint to improve the paper (Evan noted that he has been doing this well). The conversation was nice to hear directly from another person about their own experience. For me, it often helps to see that someone else can do a thing as I try to do something that is new to myself.\n",
    "\n",
    "I began drafting my interview information into the overleaf document. I made a point of saving off the previous version of the section with a date as I am curious to be able to see the evolution of this document overtime in GitHub and be able to easily change back sections as needed. I found it difficult to write it at first and needed to write lots of reflection notes on the interview data documents as well as drafting notes in my minutes document, but I did feel confident that expressing these interviews as personas that might exist in a course is the correct direction to go. I reached out about my concern that the document was going to bloat and Evan shared this gem:\n",
    "\n",
    "> The most valuable of all talents is that of never using two words when one will do. - Thomas Edison"
   ]
  },
  {
   "cell_type": "markdown",
   "id": "597016ab-a58c-4692-9fa3-6388c0c93fa7",
   "metadata": {},
   "source": [
    "# S: February 24, 2024\n",
    "A light day of work, I completed P15s interview data. In doing this it's come to my attention that it is best for me to complete these data summaries as soon as possible after the interview event to have the most accurate description of the interview. I also adapted my model to write the interview data directly in jupyter notebooks here, but not push those to GitHub. This saved me time in re-formatting information between Jupyter Notebook and the participants preferred method of communication, however, it's clear to me in retrospect that this has caused some challenges in me consistently pushing changes to my GitHub repository."
   ]
  },
  {
   "cell_type": "markdown",
   "id": "67147131-6928-4413-a860-a98788305fe9",
   "metadata": {},
   "source": [
    "# F: February 23, 2024\n",
    "I was able to meet with Evan to review my proposed interview questions and his comfort with my refusal to disclose the identity of students that openly admit to academic dishonesty (I imagined that I had asked him sooner, but I must have assumed that he would say yes and I did not actually get a confirmation from him on this matter previously). I also got to interview participant 15. This interview went similarly to the similarly to participant 58 as the student was most concerned about the matter of what I will and will not report. We spent a decent amount of time detailing what I must report as a mandatory reporter at the university vs what I will not report on matters of academic ethics. The quote that sicks out the most for me from this interview is \"Solicitation was never truly helpful\" on the matter of crowd-sourcing questions and answers for the interview grading events.\n",
    "\n",
    "Evan and I talk about how I have fallen behind and how it is possible for me to get caught up again. We also discuss a method to concretize the research. I'm not fully sold on it yet, but I'm willing to give it a try. My words, not his is that I should treat each week as a sprint. The goal of the sprint is to update some section of the paper. The sprint ends with a demo of that change to Evan. The goal for the next sprint should consider which section of the paper is falling more than two steps behind the others, and then work on that section. I think this resonates well with me, but I'm not sure if I'll be able to do it in practice."
   ]
  },
  {
   "cell_type": "markdown",
   "id": "c82f23fc-610b-47b4-bab9-48c20f05f1df",
   "metadata": {},
   "source": [
    "# W: February 21, 2024\n",
    "I completed multiple interviews with past students and gained insight to the difference in motivation between one of a high performing student vs a lower performing student. In this I had to learn how to be diligent in how I represent myself to the student to gain their trust in willingness to openly admit to acts of academic dishonesty. I was not expecting that from the interview, but I am glad that I was able to get this candid information from the participant. Here are my favorite quotations of interest from these interviews:\n",
    "* P13: \"[I think that I learn well, but I know that I don't learn everything.]\"\n",
    "* P13: \"[If you don't know the base knowledge, how would you know what questions to ask?]\"\n",
    "* P58: \"[I know it's hard for teachers when students are so focused on the grade over the content. Or at least I think it would be.]\" Context, the students learning goal is to get the highest grade possible in the course, specifically to get an A in the course by whatever means necessary."
   ]
  },
  {
   "cell_type": "markdown",
   "id": "215425a3-0b2c-44d8-b94e-f512658bff8a",
   "metadata": {},
   "source": [
    "# T: February 20, 2024\n",
    "I am preparing for upcoming first and second round interviews with various research participants. Accordingly, I have refactored my first round interview questions to be less leading (nothing about positive-negative and just asking for input). e.g.\n",
    "- Question 1 read: As a student in 3155, what was your experience working with a \"lab partner\" on your labs? **Was it positive? negative? mix?** please elaborate?\n",
    "- It now reads: As a student in 3155, what was your experience working with a \"lab partner\" on your labs? Please elaborate.\n",
    "\n",
    "I also developed the questions for the second round interviews as follows: \n",
    "1. Tell me about your favorite course in recent memory. What aspects of that course were positive for you?\n",
    "    * We won't record the course name/title as it could potentially be used to identify you.\n",
    "2. Tell me about your most recent positive experience in a course that had 200 or more students. In particular, a course where the full course was positive and not only a singular event in the course. What made it a positive experience?\n",
    "    * We won't record the course name/title as it could potentially be used to identify you.\n",
    "3. 2 ALTERNATE: Tell me about your most recent negative experience in a course that had 200 or more students. In particular, a course where the full course was negative and not only a singular event in the course. What made it a negative experience?\n",
    "    * We won't record the course name/title as it could potentially be used to identify you.\n",
    "4. This research study is exploring the challenges faced in CSCI 3155 as we continue to see larger enrollments over time. We are exploring ways to provide value to our students at these larger scales. As a student in Fall 2022 CSCI 3155, what aspects of the course helped in your ability to meet your goals?\n",
    "    * FOLLOWUP: What aspects of the course impeded your ability to meet your goals?\n",
    "  \n",
    "I did not get a chance to test this with other people. I will be taking a pause before conducting my third round interview with participants or running the focus group. In that time I intend to develop the questions in advance and pilot them with folks that are not a part of the research study."
   ]
  },
  {
   "cell_type": "markdown",
   "id": "bfb91e54-0fed-4c34-a42e-e6b645e80cde",
   "metadata": {},
   "source": [
    "# M: February 19, 2024\n",
    "Today I finally broke ground on the paper in OverLeaf. Inspired by Evans question about why people would pay for CSCI 3155 as an undergraduate student vs taking all the free material online and just doing the course, I dug into the cost to students to take this course as well as cost to the university to staff the course. Reviewing CS department demographics and finding that we are 69% in-state and all engineering tuition flat rate for 1 - 18 credits, I conservatively estimate that students take 16 credits per semester (necessary to graduate on time) for an average cost per student in the course is just over 3,300 dollars. For 270 students in Spring 2024 that's just over 900K dollars that the university collects from students for CSCI 3155. Not surprisingly reviewing the staff total compensation packages including tuition remittance and health care, again using generous estimates, we see that the cost to the university to run the course is a bit over 90K or 10% of the fees collected from the students. This sounds odd at first, but it's actually quite reasonable in the context of a massive public institution with various support structures for the students. I'm still not sure what data point is actually helpful to my study. Is it the cost per student per lecture or office hour they might attend? Is it the cost per student per interaction on Canvas and piazza and in class discussion? I feel like it has to focus on the social interaction and environment that exists at a university rather than taking the material for free online for it to be relevant to the research study. Evan and I talked about this a bit at the stand-up on Monday but I'm still not satisfied/certain about how I'll use this data."
   ]
  },
  {
   "cell_type": "markdown",
   "id": "d4faa014-83ae-47cb-a738-281993e1b25d",
   "metadata": {},
   "source": [
    "# F: February 16, 2024\n",
    "Today I completed my first research study participant interview. We made it through the consent document in a bit over 10 minutes. Then we made it through the first five questions of the interview document (are interviews helpful). The discussion was pleasant and echoed many findings of the \"Personalized Attention @ Scale\" paper. With this being the first interview, I wasn't totally sure what to write down on paper for my later notes. I decided to highlight **a few key words or phrases that stuck out to me** in the interview and beyond that I was taking general notes about the discussion, trusting that my mind would remember a lot of details about the interview (I'm skilled at remembering small details). While I know video recording or third person in the room to take notes would yield better, more complete, data I think the current process is necessary to protect the participants data. While this went well, I note that it took me a lot of time in the rest of the day to sit down and write-up my notes for review by the participant. Moving forward, I should probably block off a full hour immediately after each interview to get that write-up complete and sent to the participant. In that time I should also do some reflection on the interview while that is fresh. I'm not sure at this time how I would keep those reflections up to date here in git without disclosing unapproved information from the participant. I'll have to think about this further. Perhaps I could type the participant information for review in JN in a dedicated file for the event and put my reflection in that same file. I then send the information to the participant for review by their preferred method. Only after the participant approves the data for release would I then add it to the git repository.\n",
    "\n",
    "Today I also met with Evan one on one to talk about the interview questions and my project scope. This is further detailed in the advisor meeting minutes document, but one thing that is important to highlight is that the discussion encouraged that I make a few changes to the interview questions. Accordingly the questions that I ask each participant will not be identical. While this isn't the best science, I'm comfortable with it for the scope of this independent study and it's merely something that I'll have to document. Reflecting on the discussion with Evan as well as recent discussions in Design for Creativity and Learning, I think it's important that I start to pilot these interviews with someone that isn't a research participant before I actually have the interview with a participant. Perhaps that is a good thing to bring to a Friday ConFab in the PL group? This will be very necessary prior to running the focus group."
   ]
  },
  {
   "cell_type": "markdown",
   "id": "c32bd18e-ee9c-4c3e-888a-2776a09e55c2",
   "metadata": {},
   "source": [
    "# W: February 14, 2024\n",
    "Finally reached out to a selection of past students form the course. My selection criteria was that I could remember the students name and know that they took the course (not very scientific). I contacted 10 students that had varying levels of success with the course. Prior to emailing the students I constructed randomized participant IDs for each candidate participant. Writing this summary from the future (2/21), 3 of the students have responded and agreed to move toward next steps in the process. I was careful in the email to give the participant many options on how to respond to me (in case they don't want it on the CU email server) and I provided a PDF of the consent agreement for the research study. As students reached back and expressed interest, I detailed that I'd like to meet with them for the first interview by February 23 and asked them to let me know times that work for them. I have been able to schedule meetings with each participant prior in this time frame and will even get a second round interview with one participant in this window. I found it mentally exhausting to send out these cold emails to past students, but I'm glad that I finally did it."
   ]
  },
  {
   "cell_type": "markdown",
   "id": "7bc2b67f-3c5d-4b63-8435-3543c360d558",
   "metadata": {},
   "source": [
    "# T: February 13, 2024\n",
    "I had great conversations with past students in impromptu settings. They noted that they found the course stressful, but that they also think the course was manageable. One point a student made about making the course better would be to have more resources. I interpret this as equipping the students with some practice problems for various topics that allow them to assess their understanding of the course material, perhaps in isolation of the full lab. I plan to re-connect with that student to better understand what it is that they were picturing. While this at first seems out of scope for my current research, I think it brings up a good point about the role that ChatGPT can play in the classroom. If used well this is a great tool for developing additional resources for students. If implemented carefully we can actually equip our students with the ability to construct those resources themselves using well crafted prompts to ChatGPT based on their individual interests and needs."
   ]
  },
  {
   "cell_type": "markdown",
   "id": "ad6ad3a7-97eb-45ae-8cf3-c1f5659bb44b",
   "metadata": {},
   "source": [
    "# W: February 7, 2024\n",
    "Concerned about how IRB approval will be possible with Evan as both the instructor and the advisor of the research, I reviewed  \"<a href=\"https://www.cs.colostate.edu/cse/SIGCSE/DirkGrunwald_SIGCSE15.pdf\">Personalized Attention @ Scale</a>\" for any information regarding their IRB approval process. Since none was available, I reached out to Dirk and Rhonda to see if they are willing to share any information about their personal experience from the project."
   ]
  },
  {
   "cell_type": "markdown",
   "id": "20871748-7373-4bd9-88f1-26bba94e5748",
   "metadata": {},
   "source": [
    "# T: February 6, 2024\n",
    "While IRB is not required for the work that I am currently doing with past students for my current course work (as it could not reasonably expected to cause more than minimal harm), I still wanted to practice what a consent form for research study participation would look like. In preparing <a href=\"http://localhost:8888/notebooks/InterviewAgreement.ipynb\">the document</a> I had to ask myself a lot of questions about what is fair, reasonable, and necessary when collecting information from students. One challenge for me was the question of data review by the participants. Originally I wanted it to be that the participant must come to me and ask me for a copy of the information for review within the time window, but I had to accept that was me protecting my research and not be protecting the participant. Instead, the language was changed so that the participants:\n",
    "* will automatically be given access to the research notes\n",
    "* will have a time window to approve the notes\n",
    "* will have a means by which they can extend the time window\n",
    "* will have the right to fully reject all notes about themselves"
   ]
  },
  {
   "cell_type": "markdown",
   "id": "5e86847e-4f28-41e0-997c-3fd111f92edd",
   "metadata": {},
   "source": [
    "## W - R: January 31, 2024 - February 1, 2024\n",
    "I spent all of my time on these days completing the pre-requisite CITI training for Institutional Review Board (IRB) review of research involving human participation. While an IRB review is not required for research that cannot be considered to be more than a minimal risk and is scoped to the completion of course work, the IRB review would be necessary for the real experiment to run in a future semester. The CITI training, is long, repetitive, and a bit confusing. However, it embeds in it a lot of helpful information regarding the potential impacts of the research on participants in the study - particularly if done poorly. In considering this information for a research study design, you are forced to consider the impact of your research and evaluate if there are ways to conduct the study which will pose a lower risk or a better study. Accordingly, I recommend a review of this information if you have time, even if a full IRB is not needed for your study. \n",
    "\n",
    "My proposed Fall 2024 experiment should require only an expedited review of the IRB as it is federally exempt and poses no more than a limited risk. One factor that I am concerned about in the study is the question of \"convenient populations\" and the effect of \"undue influence\" on the participants decision to participate in the study - convenient population. We are performing the research at CU because we are at CU. Evan will be the course instructor and he is involved in the research study - undue influence. Having said that, the previous research from CU on grading interviews \"Talk isn't cheap but it's effective\" includes student data from courses being taught at CU reviewed by instructors at CU. I should reach out to those faculty to understand what, if any, interaction they had with the Universities IRB."
   ]
  },
  {
   "cell_type": "markdown",
   "id": "8cec82f8-7062-4f61-a673-97203422ef27",
   "metadata": {},
   "source": [
    "## T: January 30, 2024\n",
    "After posting my first biweekly summary for the semester, Evan made a comment about how ChatGPT could potentially fit into the project to give students good hints during peer to peer interviews. I liken ChatGPT to being the TA in the loop. In someways it is a more expert person in the room during an interview to assist students in solving problems and to give them hints. Since I personally don't have much experience with ChatGPT this lead to some tinkering in the tool and online to learn how to prompt it well. I also went off to read about how ChatGPT can be used in the classroom setting. Bringing that together, a few themes arose:\n",
    "1. Prompting ChatGPT well to aide students is hard and requires its own considerations\n",
    "2. ChatGPT is a great tool - when used correctly - for students to stay motivated in learning a topic and feel capable of solving problems independently <a href=\"https://journals.plos.org/plosone/article?id=10.1371/journal.pone.0295646\">Xu et al</a>, <a href=\"https://ieeexplore.ieee.org/abstract/document/10105236\">Abdulhadi</a>.\n",
    "\n",
    "I still think that peer to peer interviews are important for building a community and learning how to work with other human beings, but I suppose there is an option here for students to have success in interviewing directly with ChatGPT and no other humans in the loop.\n",
    "\n",
    "Good prompts were detailed in the \"<a href=\"https://digitalcommons.uri.edu/cgi/viewcontent.cgi?article=1547&context=cba_facpubs\">ChatGPT for Higher Education and Professional Development: A Guide to Conversational AI</a>\" book and backed by <a href=\"https://www.youtube.com/watch?v=i4HJZzwt3lY\">video exploration</a> with examples for the teaching field including: \n",
    "1. Choose Your Words Carefully\n",
    "2. Define the Conversation with Purpose and Focus: start with a warm up prompt in the discussion\n",
    "3. Be Specific and Concise\n",
    "4. Provide Context: \"I'm an X who helps Y do Z. Can you write me A for B that explains C in a D way?\".\n",
    "5. Ask for More\n",
    "6. Keep the Conversation On-Track: using \"stop\" can help keep the info relevant to your needs"
   ]
  },
  {
   "cell_type": "markdown",
   "id": "2db50203-e942-4983-9b3f-932fa9e88008",
   "metadata": {},
   "source": [
    "## M: January 29, 2024\n",
    "A procedural day, reviewed the IRB process and began the Citi \"Social Behavioral Research Investigators and Key Personnel\" training, specifically completed the module on unexpected effects. Accordingly, while I believe that my work poses a limited threat, I believe that my work does constitute human research and requires an IRB approval if I ever want to publish the data down the line. Consider the example that I have an interview with a student about their past experience with the course. That evening the student has a panic attack and attributes it to the challenging emotions brought up for them during our interview. This would be an unexpected event around my research work and would require additional follow ups with the IRB."
   ]
  },
  {
   "cell_type": "markdown",
   "id": "c8e3be9b-34be-46d5-8c7c-ab26ce3b7b8f",
   "metadata": {},
   "source": [
    "## R: January 25, 2024\n",
    "Following up on my question about whether we can have a valid experiment and report without AB testing, I reviewed \"\" and \"\". In each of these papers they do not bother with AB testing. They discuss their observed trends in the value of executing the class in some particular way. And the paper on interview grading leverages that the students know about \"traditional grading\" and ask those students about how the interview grading compares to that more traditional approach. While I think that the AB testing would be valuable, I believe that I can have a more understandable and more \"doable\" experiment my only having peer to peer interview grading in one semester and gather data about student experience within that framework only. To that end I have started to develop questions that I hope to ask to previous students of CSCI 3155 under the project based structure. The questions today are:\n",
    "1. As a student in 3155, what was your experience working with a \"lab partner\" on your labs? Was it positive? negative? mix? please elaborate?\n",
    "2. As a student in 3155, you had interview grading with a member of the course staff. What was your typical process to prepare for this interview? Did it evolve over the course of the semester?\n",
    "3. As a student in 3155, what was your experience working with a \"grader\" for your interviews at the end of the lab? Was it positive? negative? mix? please elaborate?\n",
    "4. What impact, if any, did the interviews have on your confidence to succeed in the course?\n",
    "5. Do you have experiences with interview grading in other courses? If so, how did those experiences compare to your experience in 3155\n",
    "6. What would you describe as your learning goal for 3155?\n",
    "7. What would you describe as your ability to achieve that learning goal?\n",
    "8. What impact, if any, did the interviews have on your relation to that learning goal?"
   ]
  },
  {
   "cell_type": "markdown",
   "id": "7fe265ea-ec2a-44df-bc55-2d9f8b94d2ce",
   "metadata": {},
   "source": [
    "## W: January 24, 2024\n",
    "Continuing on these thoughts of stress and student performance when completing something that is new to them, I explored changing the interview question for lab 1 and lab 3. In exploring this, it came to my attention that what I was either writing new questions or adding flexibility to the questions with hints. I identify that this will be very important for students to have a peer-to-peer interview without a TA in the loop. They will need some way to review the questions and demonstrate their mastery even if they don't understand the question as it is originally asked. I'm considering some kind of tooling where instructors (and maybe students as well) can enter hints and rephrasing about the question so that during the interview student teams can request additional hints as needed. Without this hinting structure, what would students do if they can't answer the question? I expect that they would look at solutions and convince themselves that they could have answered it on their own (borrowing language from another prof). Or they may get defeated and give up when all they needed to show there mastery was some small hint. This tool could then go on to support even more detailed hints for those students that really need that extra help. While it requires preparation time from the course staff, I expect that it will scale well and should be easy to maintain and improve across the years as we learn better hints to give for the questions. I'd like to explore that tooling for my INFO 5505 Designing for Creativity and Learning course with an emphasis on building student confidence and encouraging creativity. I'll coordinate this with both professors to avoid any credit conflicts."
   ]
  },
  {
   "cell_type": "markdown",
   "id": "cd7d3856-b0f1-4a7b-b247-257b8169542d",
   "metadata": {},
   "source": [
    "## M: January 22, 2024\n",
    "As usual I'm having trouble launching this new semester of independent study. To get started I have taken time to re-organize the GitHub repository to make this semester easier to run. Additionally I have started to re-read some of those key works that I cited last semester to refresh myself on the ideas that I want to pursue this semester.\n",
    "\n",
    "In reading <a href=\"https://www.alfiekohn.org/article/case-grades/\">Alfie Kohn's \"The Case Against Grading\"</a> I had an interesting observation regarding grades at the end of a course that is largely ungraded. Last semester, my independent study was largely ungraded with a midterm and final self reflection and one on one with the advisor (Evan) to assess my work from a cross semester perspective with the occasional 1:1 meeting that embedded some feedback about my current performance in the independent study. I found that this caused me a decent amount of stress about my grade. I had it in my mind for some reason that Evan doesn't give A's and that I'll get a B or something in the course. While true, Evan requires that you earn your grade, it's not unheard of that people earn an A from him. I won't comment here what my final grade was, but sufficive to say, I am satisfied with the final result. What's interesting to me though, is now that I'm on the other side, and I've seen that I can earn a sufficient mark in an independent study, I now don't care that much about the grade. I have seen that I can do \"good enough\" work and I feel that I can better embrace the un-grading philosophy to focus on doing my work to a sufficient standard without spending as much time worrying about if the work is good enough. As I see it Evan's philosophy (like many in the un-grading camp) is that people will do their best work when they are pushed to their \"zone of proximal development\" without being told explicitly \"you've done the bare minimum to receive X grade\". But I feel that I personally would have performed better if I had known sooner that my work could be \"good enough\" and spent less time stressing about this. While a part of this is simply having students embrace 'un-grading' this inspires a question for me: Can we push students to their peak development in an environment that that causes less stress?\n",
    "\n",
    "Applying this to my current research, I'm thinking about how we can establish standards for the peer to peer interviews that help the students recognize and celebrate what they do know as opposed to getting bogged down by their inability to answer the questions that they don't yet know how to solve. How could the interviews be adaptive to show the students what they know, and then give them a new question based on their performance to the first one? I'm not sure it will be in scope for this semester's independent study, but I want to tinker with it more before I move on to other readings."
   ]
  },
  {
   "cell_type": "markdown",
   "id": "a8974187",
   "metadata": {},
   "source": [
    "## M: Dec 13, 2023\n",
    "Lately I've been thinking a lot about what I'd like my independent study work to focus on in Spring 2024. I'm struggling to pin this down exactly, but the short version is that Chemistry and Physics have a long history in producing great education and studying how their science discipline is taught. CU Boulder even has a full research section in the Physics department dedicated to the <a href=\"https://www.colorado.edu/physics/research/physics-education-research\">education of Physics at the post-secondary level</a>. Does there exist such a research group in CS Education at the post-secondary level in the US (that I could complete a PhD with)? Can I plug in with the Physics department at CU and learn from their findings? What about their discipline is unique that wouldn't transfer well to CS and what is common ground? What would an independent study on this topic look like? I have lots of questions at this time and very few answers, but I thought it best to document some summary of those questions here in the lab notebook as it is on my mind and may find its way into my final presentation. "
   ]
  },
  {
   "cell_type": "markdown",
   "id": "88b7adeb",
   "metadata": {},
   "source": [
    "## R: Dec 7, 2023\n",
    "Discussed at stand up, as I do the writing I'm not disappointed in my writing, but I do see how the writing would be better if I got feedback sooner. This would require writing parts of the paper and being comfortable getting feedback on that unfinished work. One recommendation from Shawn is to consider using the graduate writing center. In particular is can be helpful to sign up for multiple sessions with the same person so they can learn about your work and understand the story that you are trying to convey. I feel this fits nicely into Evan's point that research is having discussions and reading is having discussions with people from the past. If you never have the writing reviewed and you don't get feedback from a brain that isn't yours, then you don't know if you are conveying the points that you really want to make. Having meetings with the writing center can help you stay accountable to not hiding behind the words, but instead lay bare the science that you wish to express.\n",
    "\n",
    "Ultimately I did decided to just fake it. I realized that original heatmap that I proposed earlier in this document is not a sufficient visualization of individual student improved performance across a semester, but instead a confusion matrix would be best. With the original heatmap I have data about the full student population, their proposed scores and their \"true\" scores. But that fails to capture the individual students correctness in assessing their scores. By moving to a confusion matrix, we have data about individual students and their proposed vs real scores. Below is the visualization of this used to suggest that students in the peer to peer interview process are more successful in guessing their true cognition level with the material.\n",
    "\n",
    "<img src=\"./Img/img_compositeCmpWeight.png\" />\n"
   ]
  },
  {
   "cell_type": "markdown",
   "id": "2925d790",
   "metadata": {},
   "source": [
    "## W: Dec 6, 2023\n",
    "It's been challenging to start writing as I've had a variety of other commitments the past few days and I find that writing requires dedicated longer time blocks for me to be able to write down everything that I want to say. In doing the writing I've found a few things. First, I realized that with the new data and desire to change the method of gathering student data and analyzing performance, I'm was not sure what it is that I'm trying to show with the data, after a lot of writing I settled on these four tasks with respect to the impact of peer to peer interview grading:\n",
    "1. What impact does this have on students' completion of the course?\n",
    "1. What impact does this have on students' ability to correctly assess their own performance?\n",
    "1. What impact does this have on student performance?\n",
    "1. What impact does this have on student satisfaction with the course?\n",
    "\n",
    "In creating visualizations of the data, I've realized that I need better graphs and I'm struggling to code this in a good way in python for the real data, I think I'll have to fake it rather than dummying up the data perfectly in a way that python is coded well to solve the problem. This is due to time constraints, but in the future, I think it will be best to really simulate the expected data in CSV files based on expected result averages with good outliers built in."
   ]
  },
  {
   "cell_type": "markdown",
   "id": "b78383ad",
   "metadata": {},
   "source": [
    "## R: Nov 30, 2023\n",
    "Wrapping up my week of discussions with experts I was finally able to take <a href=\"https://plv.colorado.edu/bec/\">Evan Chang's</a> advice and take a meeting where I brought the discussion points and guided the meeting discussion with him as my advisor. Here, my goal was to follow up on the notes from Jessica in deeply understanding the goal instruction goals prior to determining grading mechanisms. Evan describes it at the highest level to provide students the opportunity to demonstrate mastery learning on the course content both by lecturing model as well as a more hands on learning approach with labs that are in sync with the lecture content (as opposed to the typical one week behind the lecture content). He identifies one strength of this teaching method is to give those students who prefer tinkering a better experience then they often have in the standard education models, while continuing to support the traditional learner. We agreed that this often comes with a lot of challenges from the traditional learner against the boundaries that we are forming, and we have to continue to figure out how to handle those discussions as they arise and help to get all of our students as \"co-conspirators\" to this method of learning.\n",
    "\n",
    "As for interview grading, Evan is very aware that the current model isn't perfect and that the interviewers are not domain experts. Accordingly we agree that the interview questions could stand to be reworked and there is potentially value in having the peer to peer interviewing. This lead into a great discussion regarding the goal level of the interviews with respect to the Bloom's Taxonomy. Consider that in Lab 1 of this course students author a solution for an unbalanced binary search tree and validation method (among other things). Then, during interviews the students are asked about implementing a validation method for an AVL tree (a type of balanced binary search tree that CU Boulder typically does not lecture on in pre-requisite courses). While I have been considering this in the Create range of the Bloom's Taxonomy, Evan actually identifies this as a simple \"change of numbers\" in the problem. Here, the change of number is rather than asking students to solve the order invariant of a tree, they now solve the balance invariant of a tree. Given the level of maturity we expect in our students in this upper division class, this could be perceived as a change of numbers and I would likely rank the question as asking the students to \"Analyze\" the problem. Note, this is a higher challenge then what I typically think of as \"changing the numbers\", where I would likely ask students to invert the ordering variant (confirm it is sorted high to low) which I would rank as asking the students to \"Apply\" learning. I feel certain that the current question phrasing for lab 1 doesn't align to this intention, but with some careful consideration in rephrasing the question, I think it would be possible for this to clearly present itself as a change of numbers for the typical student. \n",
    "\n",
    "NOTE: I think Evan has a different picture of the Blooms Taxonomy of learning identifying the peak \"create\" as advanced research on the topic, however, in the literature, a kinder-gardener can \"create\" relative to their own expected level of knowledge, so this is some misalignment on the taxonomy that I need to likely explain better in future writings.\n",
    "\n",
    "QUESTION: In the extreme, what would happen if we assigned grade weightings only to the formative learning? If it's not the end of the world, then could we lower the weighting on the exams? To the extent that the formative learning tools are valuable in preparation for the summative assessments, then why would this be a bad thing? I suppose my personal experience with this is that sometimes are students are not perfect and ethical. My goal in exams is to provide a space where students have to show their mastery of the content without the potential to receive outside help that goes beyond my course policies on collaboration.\n",
    "\n",
    "SUMMARY IDEAS FOR FUTURE TERMS:\n",
    "- Provide a double grading system, take the max of the following two options for each student:\n",
    "    1. the standard syllabus grading scheme that we have been using\n",
    "    1. some pre-defined weighted average of the two exams (with or without redos/corrections and curves)\n",
    "- At the beginning of the semester, help set expectations for the course by showing students the midterm and/or final exam from an old semester (or rather, some exam version that is completely different from what we will give students this semester). Upon further review of this idea, I'd actually recommend that - in the current structure - add to the lab 1 quiz, after students complete the lab 1 quiz and peer grade it, then we show the students what a midterm question of \"changing the numbers\" looks like by showing them a previous semester midterm exam and the lab 1 questions on that exam (or even just a sample of the one question)."
   ]
  },
  {
   "cell_type": "markdown",
   "id": "5b21ff74",
   "metadata": {},
   "source": [
    "## W: Nov 29, 2023\n",
    "Today I got to speak with <a href=\"https://www.colorado.edu/cadre/jessica-alzen\">Jessica Alzen</a> a professor in the college of education in working with <a href=\"https://www.colorado.edu/cadre/\">The Center for Assessment, Design, Research and Evaluation (CADRE)</a>. Her research focuses on evaluation of teaching effectiveness and has covered the universities  <a href=\"https://www.colorado.edu/csl/programs/la-program-learning-assistant-program\">Learning Assistants (LA) program</a> during her PostDoc. While this discussion took a turn closer to my own interests in teaching and potential for a PhD in education, a few key insights arose with with respect to this current research project as follows.\n",
    "\n",
    "First, I came to realize that one of the reasons that our interviews suffer is that the interviewer is not really an expert and doesn't know the technical concepts perfectly to explain it to a student that is struggling. In our discussion we agreed that the value add proposition from the course staff doesn't end at technical expertise for the course, but also comes from this \"more advanced\" learner working with the \"less advanced\" leaner. Potentially working on those soft skill in communication and working with the students to better learn how to solve complex problems. This is highlighted when looking at the goals of the LA program where the student teacher is trained to not solve the problem for people, but only to ask prodding questions that help the student solve the problem for themselves.\n",
    "\n",
    "Additionally, we discussed the method for grading students in the course. As I understood it, she recommends being goal oriented. Define the learning goals of the course first and make sure these are the right goals and that you're ready to defend those goals. Once that is done, you ask what is the purpose of grades in supporting the course goals. Finally you can align grade weighting to the artifacts of the course. e.g. the goal is student concept mastery and grades are a representation of that mastery, so grade weights are given mostly to the tasks which demonstrate the mastery. I'm still not clear on how that informs the weighting for interview grading, but I will explore that more in the future.\n",
    "\n",
    "- NOTE: <a href=\"https://www.colorado.edu/csl/programs/dber-discipline-based-education-research\"> DBER Discipline Based Education Research</a> is a working group that may not have met for a while now, but exists to discuss good teaching practices. Many of the members have been from the sciences over the years.\n",
    "- POC: <a href=\"https://www.colorado.edu/tribalstem/ian-her-many-horses\">Ian Her Many Horses</a> has a background in CS an expert in education"
   ]
  },
  {
   "cell_type": "markdown",
   "id": "93258526",
   "metadata": {},
   "source": [
    "## T: Nov 28, 2023\n",
    "Today I got to speak with <a href=\"https://www.colorado.edu/education/lorrie-shepard\">Lorrie Shepard</a>, a professor in the college of education regarding her research with relation to my own work. Through the discussion a few key insights are highlighted for me. \n",
    "\n",
    "First, as Lorrie puts it, we don't just get students to \"buy in\", but rather to be our \"co-conspirators\" in this method of learning. As discussed previously in my writings, this method of teaching is a cultural shift and so a non-trivial amount of time must be spent in getting the participants to buy in. Lorrie notes that a lot of the theory often works well in the lab setting while the researcher is present and then it falls apart as the researcher leaves and the teacher often reverts to their \"old ways\". Lorrie identifies this as a lack of understanding of the theory. She suggests that we could learn the theory and even present it in the classroom along with our standard content to give students our reasoning behind our teaching decisions. Tying it to PL, I think we have a very serious challenge in buy in from the top. For this method to succeed, all of the course staff needs continued training on the value of the method of learning and that time needs to come from some coach, be it the professor, or perhaps some assistance from the CTL. Relatedly, I think of Evans concept of being \"warm but firm\". We as the course staff set boundaries, but the students are going to try and push against those boundaries. We must hold the boundary and explain our reasoning backed by the evidence based theory, but we can be nice while we do it.\n",
    "\n",
    "Second, while I was focused on helping students identify what they do not know ad what resources they need to succeed, this is actually an anti-pattern I've learned in HCI and it's an anti-pattern in learning. In HCI, you don't ask the participants what is wrong with the tool, you do not ask them what features they want to see. Instead you observe what the participant does and note the mistakes that are made and the success that are achieved. You might ask clarifying questions to better understand the participants mental model of your tool. Similar concepts apply here in education. Here I'll focus only on the self reflection component of the interviews. We can shift the reflection questions to ask the students to identify which topics they understand well. Here, the students get to celebrate where they have succeeded. We then, on the back end, know what they did not do well on. We are able to take what they did do well on, and build on that to improve their mastery of the other topics. \n",
    "\n",
    "Finally, a topic that I continue to struggle with is the matter of grading. Lorrie confirms that in the literature gradings is mostly negative for motivation as it is extrinsic and we wish to achieve intrinsic motivators for the students. So my question is, do we grade the interview at all? Do the students bother with an N/A/P/AU grade? I know that in my midterm reflection it was clear that a letter grade is a hard ask of a student, and even this 4 point system is pretty intimidating to me despite my own background knowledge on the system. I think that here, for my research I'd recommend that we keep the 4 point system grading on the interview so students have some unified scalable system for grading. This then helps the student understand where they are at with the material and aligns better to their current mental model of education systems. The interview is that formative assessment and safe space scaffolding in which students attempt to answer complex questions and gauge their own ability to answer the questions. Then they have identified where they are succeeding and struggling and they have the agency to seek further assistance before the evaluative assessment like an exam."
   ]
  },
  {
   "cell_type": "markdown",
   "id": "4a7de7df",
   "metadata": {},
   "source": [
    "## R: Nov 16, 2023\n",
    "Today I explored the real data that I would gather from students. The students are given a brief survey at the midterm and final to collect their own approximation of their best ability to perform within the blooms taxonomy. We also have the students performance data in the course. Using both of these we can design some weighted score of students performance and and plot the students success in a heatmap throughout the control, pilot and experiment data. Below is my sample heatmap built with seaborn.heatmap. We observe that the highest weighting of student performance in the control group is \"understand\" and moves up two levels to \"analyze\" in the experiment group. More work needs to be done to beautify the heatmap for presentation and some work needs to be considered on how we normalize the data as this heatmap actually charts student weighted percentages rather than the raw data. I think there is a good case to be made that this data would embed some findings for student equity and demonstrate that some specific groups see outpaced performance gains in the experiment than other groups. e.g. she/her,they/them compared to he/him data is analyzed for a statistically evident R-value (NOTE: she/her is grouped with they/them as there would not be enough students identifying as they/them to have enough data to represent that independently in a statistically meaningful way).\n",
    "\n",
    "<img src=\"./img/toy_heatmap.png\" />"
   ]
  },
  {
   "cell_type": "markdown",
   "id": "8ea53266",
   "metadata": {},
   "source": [
    "## M: Nov 13, 2023\n",
    "<a href=\"https://www.colorado.edu/education/william-penuel\">Prof Penuel</a> got back already and has offered to connect me with current students on CoBi to discuss the potential for a thesis. While I'm not currently looking for a thesis, I'm interested to discuss the tool further and learn more, so I have reached back to \"Bill\". Continuing on finding a professor to speak with I went searching for a third POC. <a href=\"https://www.colorado.edu/cadre/jessica-alzen\">Prof. Jessica Alzen</a> looks very promising as a member of faculty that *actually* works on post-secondary education and has a lot of recent publications on <a href=\"https://www.tandfonline.com/doi/full/10.1080/26939169.2023.2191666\">collaboration</a>, as well as a fairly recent work on <a href=\"https://link.springer.com/article/10.1007/s10755-021-09554-w\">student coaching</a>. I began work on an email to Prof Alzen, but I'm not quite ready to send it.\n",
    "\n",
    "In very exciting news, I did hear back from <a href=\"https://www.colorado.edu/education/lorrie-shepard\">Prof Lorrie Shepard</a> and she is willing to meet after the fall break. I look forward to following up with her. I believe that Prof. Alzen is a better fit for my current research question, but I'm very interested in talking with Prof. Shepard regarding my personal interests in teaching at scale in an effective and culturally informed way. In some ways, I feel that the article of hers that I read demonstrates that my current research question and proposed solution is short cited and should be considered for rework."
   ]
  },
  {
   "cell_type": "markdown",
   "id": "9963887e",
   "metadata": {},
   "source": [
    "## U: Nov 12, 2023\n",
    "As I explore potential faculty in the department of education to reach out to for discussions on my research, I found a few very interesting papers that give me ideas for how to expand my own research. First \"<a href=\"https://dl.acm.org/doi/pdf/10.1145/3584931.3607498\">The Community Builder (CoBi): Helping Students to Develop Better Small Group Collaborative Learning Skills</a>\" explores the use of a tool that integrates Ai to reviewing student dialog captured in the classroom to help in measuring student engagement and the balance of dialog across many students. The current tool is centered on use in a middle school classroom around discussions about the value and shortcomings of current Ai tools. It's unclear to me how the tool is set up from a technical perspective so I'm unsure how it could be used in a 300 person classroom effectively, but I see it having value in recitation sections up to 40 students and I see how the tool could potentially be used in automated review of peer interview videos to help assess how effectively the students host a converstation together and how the students could work more effectively together. I reached out to Prof. Penuel to see if he'd be interested to discuss further how this could be used to help create better student teams and what impacts this could have on the equity for students in the class.\n",
    "\n",
    "Second \"<a href=\"https://www.aft.org/ae/fall2021/shepard\">Ambitious Teaching and Equitable Assessment</a>\" discusses the issues in standardization in K-12 education policy since the 1980s. These progression of these policies greatly influence the quality of education in our students and any inequities in that system. Beyond the reading, these policies influence the way that many students are used to learning and what they expect in the classroom and do have an impact on college education. So we must consider this in discussions about how to improve college classrooms. The article goes on to discuss a better solution centered around a culturally informed education model that invites students to participate in constructing the learning goals of the class and centers compassion in the classroom. I find that the paper discusses many of the concepts that I have in my own mind about effective education such as peer learning, reflective learning, flexible assignments and leveraging students \"funds of knowledge\". The paper is packed with good references that I need to follow up on for my own writing. However, the paper is centered on K-12 learning and policy, so I envision in focuses on much smaller classrooms. I wonder how these policies can be applied to a 300 student classroom. What about the concept is easy to scale? What about it is hard to scale, but worth the effort? I've reached out the Prof. Shepard about this over email to see if she would be willing to discuss that further. Candidly, with her emeritus status, I'm not optimistic that I'll hear back from her, but it was worth reaching out. I may yet be surprised."
   ]
  },
  {
   "cell_type": "code",
   "execution_count": null,
   "id": "b0d7b8bb",
   "metadata": {},
   "outputs": [],
   "source": []
  }
 ],
 "metadata": {
  "kernelspec": {
   "display_name": "Scala",
   "language": "scala",
   "name": "scala"
  },
  "language_info": {
   "codemirror_mode": "text/x-scala",
   "file_extension": ".sc",
   "mimetype": "text/x-scala",
   "name": "scala",
   "nbconvert_exporter": "script",
   "version": "2.13.10"
  }
 },
 "nbformat": 4,
 "nbformat_minor": 5
}
