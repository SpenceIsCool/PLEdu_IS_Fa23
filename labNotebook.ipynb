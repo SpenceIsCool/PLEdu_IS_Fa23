{
 "cells": [
  {
   "cell_type": "markdown",
   "id": "d51cd7f6",
   "metadata": {},
   "source": [
    "# Lab Notebook\n",
    "* The lab notebook holds summarized notes on the days of research. The intention is to provide some log of the research exploration timeline, the thought process in decision making and various challenges in completing the work"
   ]
  },
  {
   "cell_type": "markdown",
   "id": "faeae1e5",
   "metadata": {},
   "source": [
    "## TEMPLATE: D: Month dd, yyyy (template)\n",
    "- Timeline of completed work\n",
    "- Challenges in completing the work\n",
    "- Documentation of decision processes\n",
    "- should be edited representation of the work"
   ]
  },
  {
   "cell_type": "markdown",
   "id": "beac51e1",
   "metadata": {},
   "source": [
    "## U: Nov 12, 2023\n",
    "As I explore potential faculty in the department of education to reach out to for discussions on my research, I found a few very interesting papers that give me ideas for how to expand my own research. First \"<a href=\"https://dl.acm.org/doi/pdf/10.1145/3584931.3607498\">The Community Builder (CoBi): Helping Students to Develop Better Small Group Collaborative Learning Skills</a>\" explores the use of a tool that integrates Ai to reviewing student dialog captured in the classroom to help in measuring student engagement and the balance of dialog across many students. The current tool is centered on use in a middle school classroom around discussions about the value and shortcomings of current Ai tools. It's unclear to me how the tool is set up from a technical perspective so I'm unsure how it could be used in a 300 person classroom effectively, but I see it having value in recitation sections up to 40 students and I see how the tool could potentially be used in automated review of peer interview videos to help assess how effectively the students host a converstation together and how the students could work more effectively together. I reached out to Prof. Penuel to see if he'd be interested to discuss further how this could be used to help create better student teams and what impacts this could have on the equity for students in the class.\n",
    "\n",
    "Second \"<a href=\"https://www.aft.org/ae/fall2021/shepard\">Ambitious Teaching and Equitable Assessment</a>\" discusses the issues in standardization in K-12 education policy since the 1980s. These progression of these policies greatly influence the quality of education in our students and any inequities in that system. Beyond the reading, these policies influence the way that many students are used to learning and what they expect in the classroom and do have an impact on college education. So we must consider this in discussions about how to improve college classrooms. The article goes on to discuss a better solution centered around a culturally informed education model that invites students to participate in constructing the learning goals of the class and centers compassion in the classroom. I find that the paper discusses many of the concepts that I have in my own mind about effective education such as peer learning, reflective learning, flexible assignments and leveraging students \"funds of knowledge\". The paper is packed with good references that I need to follow up on for my own writing. However, the paper is centered on K-12 learning and policy, so I envision in focuses on much smaller classrooms. I wonder how these policies can be applied to a 300 student classroom. What about the concept is easy to scale? What about it is hard to scale, but worth the effort? I've reached out the Prof. Shepard about this over email to see if she would be willing to discuss that further. Candidly, with her emeritus status, I'm not optimistic that I'll hear back from her, but it was worth reaching out. I may yet be surprised."
   ]
  }
 ],
 "metadata": {
  "kernelspec": {
   "display_name": "Scala",
   "language": "scala",
   "name": "scala"
  },
  "language_info": {
   "codemirror_mode": "text/x-scala",
   "file_extension": ".sc",
   "mimetype": "text/x-scala",
   "name": "scala",
   "nbconvert_exporter": "script",
   "version": "2.13.10"
  }
 },
 "nbformat": 4,
 "nbformat_minor": 5
}
