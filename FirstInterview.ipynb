{
 "cells": [
  {
   "cell_type": "markdown",
   "id": "a5a4d2dc-d314-4df0-b0b0-4c9c8c8e15d7",
   "metadata": {},
   "source": [
    "# Interview\n",
    "\n",
    "## Procedure\n",
    "* participant ID\n",
    "* consent\n",
    "* data review: period of review, is 3 days acceptable\n",
    "\n",
    "## The Questions\n",
    "1. As a student in 3155, what was your experience working with a \"lab partner\" on your labs? Was it positive? negative? mix? please elaborate?\n",
    "2. As a student in 3155, you had interview grading with a member of the course staff. What was your typical process to prepare for this interview? Did it evolve over the course of the semester?\n",
    "3. As a student in 3155, what was your experience working with a \"grader\" for your interviews at the end of the lab? Was it positive? negative? mix? please elaborate?\n",
    "4. What impact, if any, did the interviews have on your confidence to succeed in the course?\n",
    "5. Do you have experiences with interview grading in other courses? If so, how did those experiences compare to your experience in 3155\n",
    "6. What would you describe as your learning goal for 3155?\n",
    "7. What would you describe as your ability to achieve that learning goal?\n",
    "8. What impact, if any, did the interviews have on your relation to that learning goal?\n",
    "\n",
    "## Debrief\n",
    "* data review\n",
    "* next meeting"
   ]
  }
 ],
 "metadata": {
  "kernelspec": {
   "display_name": "Python 3 (ipykernel)",
   "language": "python",
   "name": "python3"
  },
  "language_info": {
   "codemirror_mode": {
    "name": "ipython",
    "version": 3
   },
   "file_extension": ".py",
   "mimetype": "text/x-python",
   "name": "python",
   "nbconvert_exporter": "python",
   "pygments_lexer": "ipython3",
   "version": "3.12.1"
  }
 },
 "nbformat": 4,
 "nbformat_minor": 5
}
