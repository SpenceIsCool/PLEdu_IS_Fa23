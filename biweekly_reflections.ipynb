{
 "cells": [
  {
   "cell_type": "markdown",
   "id": "c9305099",
   "metadata": {},
   "source": [
    "# TEMPLATE\n",
    "- Technical\n",
    "    - what has been done\n",
    "- Reflective\n",
    "    - My thoughts on the process so far "
   ]
  },
  {
   "cell_type": "markdown",
   "id": "ad94d130",
   "metadata": {},
   "source": [
    "# Monday November 20\n",
    "Following the completion of my midterm presentation, Evan and I complete our midterm review lead by my self reflection of my complete work for the first half of the semester. In this discussion we agreed that I am Proficient ($\\checkmark$) and that achieving Advanced Understanding ($\\checkmark$+) is possible within the term. From there I had two key focuses for this sprint: a better lab notebook and connecting with faculty in the college of education. \n",
    "\n",
    "I finally moved my lab notebook away from markdown files without spell check up here to Jupyter Notebooks and I find the experience for more enjoyable to have rich text, easier editing abilities and spell check integrated to the tool. Following Evans advice, I keep my lab notebook as an edited summary of the day of research so that people can more easily understand the purpose of research that day and my findings, while my minutes document(s) separately hold my notes as I am doing the work and serve as a full log of tasking. In this sprint I changed my visualization to a heat matrix which is in the <a href=\"https://github.com/SpenceIsCool/PLEdu_IS_Fa23/blob/main/labNotebook.ipynb\">lab notebook for November 16</a> if you're interested to review.\n",
    "\n",
    "As for connecting with faculty in the college of education, this was a very intimidating prospect at first. However, as I scoured their web-page for faculty to read up on, I found my way into many inspiring writings and wells of references that I can dig further into to improve my breadth of knowledge on the education side of this research. Reaching out to three different professors I actually very quickly was able to set meetings with two of them for immediately after the Fall break. "
   ]
  },
  {
   "cell_type": "code",
   "execution_count": null,
   "id": "56b9a39c",
   "metadata": {},
   "outputs": [],
   "source": []
  }
 ],
 "metadata": {
  "kernelspec": {
   "display_name": "Scala",
   "language": "scala",
   "name": "scala"
  },
  "language_info": {
   "codemirror_mode": "text/x-scala",
   "file_extension": ".sc",
   "mimetype": "text/x-scala",
   "name": "scala",
   "nbconvert_exporter": "script",
   "version": "2.13.10"
  }
 },
 "nbformat": 4,
 "nbformat_minor": 5
}
