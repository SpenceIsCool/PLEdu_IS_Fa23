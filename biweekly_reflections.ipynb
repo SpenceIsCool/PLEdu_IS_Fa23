{
 "cells": [
  {
   "cell_type": "markdown",
   "id": "c9305099",
   "metadata": {},
   "source": [
    "# TEMPLATE\n",
    "- Technical\n",
    "    - what has been done\n",
    "- Reflective\n",
    "    - My thoughts on the process so far "
   ]
  },
  {
   "cell_type": "markdown",
   "id": "552f4f25-775e-429b-a97f-723b80f062f6",
   "metadata": {},
   "source": [
    "# Monday March 11, 2024\n",
    "The past two weeks have shown me what it's like to enter a flow state on my research and attempt to answer those hard abstract questions of the work. I almost enjoyed this process. I feel confident that I learned a lot from the experience, including how to write continuously and demo my writing at the end of the sprint, as well syncing and presenting my work. With the information that I had prior to the midterm presentation I felt that I did well in executing the research with the time that I had. My being behind this semester impacted the quality of that final deliverable which was apparent to me during midterm paper review and final preparations for my midterm presentation. it was obvious to me that my background section was rambling and failing to get to the point. Then at the presentation, Evan reminded me of very important information in the context of the paper and presentation. All great research answers four questions and they must answer all four:\n",
    "1. What is the problem?\n",
    "2. Why is it important?\n",
    "3. Why is it hard?\n",
    "4. What is your approach?\n",
    "\n",
    "I'm looking forward to iterating on the research, but I am a little intimidate by the scope of what I need to accomplish between now and the end of the semester. I think some timeline sketch is necessary here:\n",
    "- Week 09. Find 3 more participants. Answer the four questions. Midterm review demo with Evan.\n",
    "- Week 10. Complete round 2 interviews with all 6 participants. Design the focus group and solicit feedback demo with Evan.\n",
    "- Week 11 (spring break). Background section and the question of \"resourcing\" a student (light week as I focus on CSCI 3155)\n",
    "- Week 12. Background section continues. Organize focus groups (space them apart so I can reflect on the experiences).\n",
    "- Week 13. Execute the focus groups if not complete and reflect. update experiment section.\n",
    "- Week 14. Update results.\n",
    "- Week 15. Update conclusion/intro. Paper needs to be done by end of **THIS** week.\n",
    "- Week 16. Sync for Final Presentation"
   ]
  },
  {
   "cell_type": "markdown",
   "id": "daf10cf5-e304-45bd-9f19-f64a9f11f0dc",
   "metadata": {},
   "source": [
    "# Monday February 26, 2024\n",
    "These past two weeks have seen an improvement in my time spent performing the research. While I'm happy to see this trend in the right direction, I recognize that I am behind and will have to make up that time and effective research efforts through the rest of the semester. In this two week period, I began interviews with research participants and began writing the paper from scratch. \n",
    "\n",
    "I successfully set interviews with three research participants and will complete the second round of interviews with each of them in the next week (prior to the midterm). Participants took between ten and twenty minutes to review the consent together and complete followup questions on the matter. It was quite interesting in that the participants that had \"nothing to hide\" were more interested in how their data would be collected and used, while the students that later exposed some academic dishonesty were interested to understand the boundaries of what I as the researcher would record or report regarding their ethical behavior. I'm curious if that trend would continue as I interview more participants. Continuing to the interview data itself, I've found many interesting challenges in conducting the interviews as well as understanding the data collected. Two key insights:\n",
    "1. I need to write up the summary for the research participant as soon as possible after the interview while the information is still fresh in my head.\n",
    "2. I find it helpful to write a few direct quotations in special ink for me to reference as grounding points in the discussion for me to reference later when writing up the full data from the interview. I suspect these quotations will also be helpful in making some kind of impactful statements in my final paper.\n",
    "\n",
    "I started to write the paper from scratch. Based on recent discussions with Evan, I see that this was not the best path forward. Rather than writing from scratch I should be working on revising last semesters paper one section at a time. To mix in my own language, each week is a sprint with a stated goal to revise some section of the paper (informed that no section should be more than two steps behind). Then the sprint ends with a demo of that work with Evan at the advisor 1:1 meeting. I like the idea in principle and I'm curious if I can connect to it in practice. Having said that, I think I was successful in expanding the background section with a discussion of price for the student relative to the cost of labor directly managing the course (I estimate 10% of the student fees go to paying the staff of the course). One topic that I explored previously which has not made a concrete contribution to the paper yet is the matter of having ChatGPT as a digital peer in the interviews. I don't believe that fits into the current weeks sprint, but I've taken a note to consider this in a future sprint."
   ]
  },
  {
   "cell_type": "markdown",
   "id": "a4a1e738-f69d-4ec2-b78c-428d0bec05f9",
   "metadata": {},
   "source": [
    "# Monday February 12, 2024\n",
    "\n",
    "The past two weeks have continued to have less time focused on the research than I would have liked, but I have increased the hours on the project and I really enjoyed what I did get through. I feel like I can manage this if I am diligent moving forward. As IRB can take a long lead time, I completed my CITI training for IRB and will follow up with detailed instructions for Evan to complete if we want to move forward with a proposal for Fall 2024. Inspired by this, I have written up interview grading consent forms that I plan to discuss with Evan at our next in person advising meeting. I was also confused about how the \"<a href=\"https://www.cs.colostate.edu/cse/SIGCSE/DirkGrunwald_SIGCSE15.pdf\">Personalized Attention @ Scale</a>\" paper got IRB approval given the undue influence and convenient population, so I have reached out to authors of that paper to understand what I can expect at an IRB for this study.\n",
    "\n",
    "Following onto Evan's thoughts on the previous bi-weekly summary of work, I have been slowly exploring how ChatGPT (or any chatbot ai) could be integrated to the student experience for peer interview grading. I'm still very new to prompting ChatGPT and find this challenging. The current idea is that ChatGPT could serve as a third peer in the interview. Some kind of digital peer. There are fascinating papers on the impact of using ChatGPT on students autonomy and confidence to succeed in a course as well as many papers on the challenges of integrating it into a course [<a href=\"https://digitalcommons.uri.edu/cgi/viewcontent.cgi?article=1547&context=cba_facpubs\">1</a>] [<a href=\"https://digitalcommons.uri.edu/cgi/viewcontent.cgi?article=1547&context=cba_facpubs\">2</a>]. I see it as any other tool: you have to be careful about how it is introduced and used."
   ]
  },
  {
   "cell_type": "markdown",
   "id": "da02a510-2852-484a-83f8-93445958782e",
   "metadata": {},
   "source": [
    "# Monday January 29, 2024\n",
    "\n",
    "Starting the new semester comes with many challenges. In particular it has been hard for me so far to make the correct amount of time for this research project. Different from last semester however, this is less that I don't know what to do and more that I have too many other things on my plate right now as the semester starts up. I need to keep an eye on this and adjust my priorities in the coming weeks. In the first two weeks I have two important insights to share. The first, I can have a successful experiment and publication without doing AB testing. It is perfectly valid to publish on the value and experience of peer to peer interview grading without comparing it to a version of the course with TA interview grading. I'd like to explore that as it makes the experiment easier to design and explain and I believe creates a more fair playing field for the students in the class. Secondly, its come to my attention that one key to success in peer interview grading will be something that helps the students get hints on the problems. The worst case scenario of a TA interview is that the student comes in, cannot answer any questions, but the TA can teach the student something with that time. But in the peer to peer interview the potential expert is lost. To compensate for this, I'm interested in the design of some tool that can generate hints for the problem which progressively expose more and more of the content to the student to adapt hints to the students needs without taking away their learning opportunity too early by giving too large of a hint at any one time."
   ]
  },
  {
   "cell_type": "markdown",
   "id": "c3e7c15f",
   "metadata": {},
   "source": [
    "# Monday 12/4\n",
    "Having completed the midterm review, I have a new emphasis to locate members of the education faculty to engage with my work and learn from an expert in this field if I am on the correct track. I had great discussions with <a href=\"https://www.colorado.edu/cadre/jessica-alzen\">Jessica Alzen</a> and <a href=\"https://www.colorado.edu/education/lorrie-shepard\">Lorrie Shepard</a> about my work and its merits. Based on these discussions it appears that I am on the correct track, but there is plenty of room to refine the concepts. One point that I ran with is changing the goal of feedback collection from the students. Like in HCI, we don't really want to ask the participants in our studies about what can be improved in the tool, but instead we observe them and ask follow up questions as they go to understand their mental model of the tool. We then used the data to infer what is and is not working. Finally, we can leverage what the participants know well to change how we present those tasks that people are doing poorly on. Accordingly I've changed the focus of the interview process to having students celebrate what they are succeeding on and changing the staff time to a review of the data to identify where students are succeeding and use that as scaffolding in future course work to help students (re)learn the things that they did not master sufficiently.\n",
    "\n",
    "One point of interest that I'll highlight here is that they both mentioned the Universities <a href=\"https://www.colorado.edu/program/learningassistant/\">Learning Assistant (LA)</a> program. Writing this from the future, the LA program was actually developed at CU by our Physics department and has been employed at many other institutions. While this looks like a more complicated and better trained version of our departments internal Course Assistant (CA) program, I think it could be good to readdress the CA program with the department in the future. The CA program grew out of initiatives from myself and my peers to provide better peer to peer support for students in the program by effectively having the department hire tutors that did well in the course and support current students taking the course. The LA program takes this a step further and provides teacher training to its tutors."
   ]
  },
  {
   "cell_type": "markdown",
   "id": "ad94d130",
   "metadata": {},
   "source": [
    "# Monday November 20\n",
    "Following the completion of my midterm presentation, Evan and I complete our midterm review lead by my self reflection of my complete work for the first half of the semester. In this discussion we agreed that I am Proficient ($\\checkmark$) and that achieving Advanced Understanding ($\\checkmark$+) is possible within the term. From there I had two key focuses for this sprint: a better lab notebook and connecting with faculty in the college of education. \n",
    "\n",
    "I finally moved my lab notebook away from markdown files without spell check up here to Jupyter Notebooks and I find the experience for more enjoyable to have rich text, easier editing abilities and spell check integrated to the tool. Following Evans advice, I keep my lab notebook as an edited summary of the day of research so that people can more easily understand the purpose of research that day and my findings, while my minutes document(s) separately hold my notes as I am doing the work and serve as a full log of tasking. In this sprint I changed my visualization to a heat matrix which is in the <a href=\"https://github.com/SpenceIsCool/PLEdu_IS_Fa23/blob/main/labNotebook.ipynb\">lab notebook for November 16</a> if you're interested to review.\n",
    "\n",
    "As for connecting with faculty in the college of education, this was a very intimidating prospect at first. However, as I scoured their web-page for faculty to read up on, I found my way into many inspiring writings and wells of references that I can dig further into to improve my breadth of knowledge on the education side of this research. Reaching out to three different professors I actually very quickly was able to set meetings with two of them for immediately after the Fall break. "
   ]
  },
  {
   "cell_type": "code",
   "execution_count": null,
   "id": "56b9a39c",
   "metadata": {},
   "outputs": [],
   "source": []
  }
 ],
 "metadata": {
  "kernelspec": {
   "display_name": "Scala",
   "language": "scala",
   "name": "scala"
  },
  "language_info": {
   "codemirror_mode": "text/x-scala",
   "file_extension": ".sc",
   "mimetype": "text/x-scala",
   "name": "scala",
   "nbconvert_exporter": "script",
   "version": "2.13.10"
  }
 },
 "nbformat": 4,
 "nbformat_minor": 5
}
