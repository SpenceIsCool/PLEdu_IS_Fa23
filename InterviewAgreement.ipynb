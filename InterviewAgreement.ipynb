{
 "cells": [
  {
   "cell_type": "markdown",
   "id": "826e8f6a-843b-482f-910f-3153d11640e0",
   "metadata": {},
   "source": [
    "# Interview Agreement\n",
    "This research is conducted by Spencer Wilson (Student MS-CSEN'24) at the University of Colorado Boulder under the supervision of advisor Bor-Yuh Evan Chang (Associate Professor) for completion of a graduate level independent study."
   ]
  },
  {
   "cell_type": "markdown",
   "id": "fcbbf9ce-891e-4506-821f-eb8e01cd8b13",
   "metadata": {},
   "source": [
    "## Events\n",
    "This research study will be composed of up to three interviews 1:1 with the researcher and the potential for a focus group. The interviews can be done in person or remotely according to your preference and will be scheduled by the researcher according to what is convenient for your schedule. Each of the events will be centered around the themes and participant experiences with: CSCI 3155, grading interviews, peer interactions, and ChatGPT."
   ]
  },
  {
   "cell_type": "markdown",
   "id": "a6e95408-7f66-4e10-aa76-a42be19854be",
   "metadata": {},
   "source": [
    "## Data Collection\n",
    "1. Each participant in the study will remain unnamed, however, the participant will be assigned a participant ID by the researcher(P1, P2, and so on). The participant will have to remember this ID to ensure success of the study across events while maintaining limited documentation of participant consent in the study.\n",
    "1. For an interview event\n",
    "    1. The interview is taken without recording devices.\n",
    "    1. The interviewer will ask questions and take notes of the participants response to each question.\n",
    "    1. All data will be recorded using the participants ID.\n",
    "1. For a focus group event\n",
    "    1. The focus group is occur without recording devices.\n",
    "    1. Participants in the focus group will be given discussion prompts\n",
    "    1. All data will be recorded using the participants ID.\n",
    "1. Perceived unique identifying characteristics of the participant will not be recorded\n",
    "1. Data is collected offline with a three day review period.\n",
    "    1. At each event, the researcher will prompt each participant to understand how they would like to receive the data for review, if they'd like to opt-out of review of their data, or if they'd like to negotiate an extended data review period \n",
    "    1. During the review period, participants review the data collected about them and may demand that any and all data collected be deleted.\n",
    "    1. Once the review period has ended the allowed data will be published to the research projects repository on GitHub which is publicly available"
   ]
  },
  {
   "cell_type": "markdown",
   "id": "a2476d65-0af2-4d1b-b705-e48bbfca2826",
   "metadata": {},
   "source": [
    "## Voluntary Nature\n",
    "Your participation in this study is voluntary. If you choose to opt-in to the study, you may choose to opt-out of the study at any with or without reason. Agreement to participate in the study does not constitute agreement to participate in all three interviews or in the focus group. Each individual event is agreed to separately. At any given event, if you feel that you are no longer comfortable being involved in the event, you are welcome and encouraged to leave."
   ]
  },
  {
   "cell_type": "markdown",
   "id": "f805ed39-2f4d-419f-8bcf-dec872464c44",
   "metadata": {},
   "source": [
    "## Potential Risks and Mitigation Strategies\n",
    "As a current or past student at the University of Colorado Boulder you may have real or perceived risks to your reputation and academic standing that would be exposed in the research study. To avoid this, all data collected at the research study is recorded to a participant ID, rather than to the participants name. Any perceived unique identifying characteristics of the participant will not be recorded. The researcher - Spencer - will not report any matters of academic integrity to the honor council.\n",
    "\n",
    "As a participant, you have the right to review event data offline within three working days of the event prior to data publication. You may demand that any and all of the data related to your participant ID be stricken from record prior to online publication.\n",
    "\n",
    "The researcher is a mandatory reporter at the University of Colorado Boulder. Accordingly, there is information that can be exposed in the research study that will be removed from the data at the participants request, but that the researcher is still required to report to OIEC. A full description of the mandatory reporting requirements is available and will be provided on request. A summary of the requirements is as follow: A responsible employee who becomes aware of alleged behavior related to sexual misconduct (including sexual assault, exploitation and harassment), intimate partner violence (dating and domestic), stalking, discrimination, harassment, or related retaliation involving any member of the CU community must report it to OIEC."
   ]
  },
  {
   "cell_type": "markdown",
   "id": "ad0a4037-2126-4433-8ac1-c73b3f86dbc6",
   "metadata": {},
   "source": [
    "## Potential Benefits\n",
    "This research is targeted at improving student learning and social experience in the project-style CSCI 3155 course at the University of Colorado Boulder. Data collected will be used to suggest interventions to the course structure. If those interventions are successful, then future students of the course may experience improved learning and increased satisfaction. "
   ]
  }
 ],
 "metadata": {
  "kernelspec": {
   "display_name": "Python 3 (ipykernel)",
   "language": "python",
   "name": "python3"
  },
  "language_info": {
   "codemirror_mode": {
    "name": "ipython",
    "version": 3
   },
   "file_extension": ".py",
   "mimetype": "text/x-python",
   "name": "python",
   "nbconvert_exporter": "python",
   "pygments_lexer": "ipython3",
   "version": "3.12.1"
  }
 },
 "nbformat": 4,
 "nbformat_minor": 5
}
